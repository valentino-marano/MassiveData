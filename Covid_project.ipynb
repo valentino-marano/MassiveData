{
 "cells": [
  {
   "cell_type": "markdown",
   "metadata": {},
   "source": [
    "# Some imports"
   ]
  },
  {
   "cell_type": "code",
   "execution_count": 1,
   "metadata": {},
   "outputs": [],
   "source": [
    "import networkx as nx\n",
    "import pandas as pd\n",
    "import numpy as np\n",
    "import math as mt\n",
    "import matplotlib as mpl\n",
    "import matplotlib.pyplot as plt\n",
    "import pygraphviz as pgv\n",
    "import queue as qu\n",
    "import json\n",
    "from IPython.display import Image"
   ]
  },
  {
   "cell_type": "markdown",
   "metadata": {},
   "source": [
    "# Prepare data"
   ]
  },
  {
   "cell_type": "markdown",
   "metadata": {
    "slideshow": {
     "slide_type": "-"
    }
   },
   "source": [
    "Importing COVID-19 Data"
   ]
  },
  {
   "cell_type": "code",
   "execution_count": 2,
   "metadata": {
    "pycharm": {
     "name": "#%%\n"
    }
   },
   "outputs": [],
   "source": [
    "with open('Resources/dpc-covid19-ita-province.json') as f:\n",
    "    d = json.load(f)"
   ]
  },
  {
   "cell_type": "markdown",
   "metadata": {},
   "source": [
    "Importing NetworkX and Pandas"
   ]
  },
  {
   "cell_type": "markdown",
   "metadata": {},
   "source": [
    "Cleaning data"
   ]
  },
  {
   "cell_type": "code",
   "execution_count": 44,
   "metadata": {},
   "outputs": [
    {
     "name": "stdout",
     "output_type": "stream",
     "text": [
      "Dataframe contains 110 rows\n",
      "After removing unusable data, Dataframe contains 107 rows\n"
     ]
    }
   ],
   "source": [
    "# Create a DataFrame with COVID data, we need just some columns\n",
    "city_dataframe = pd.DataFrame(d)[['sigla_provincia', 'lat', 'long']].drop_duplicates()\n",
    "city_dataframe.fillna({'sigla_provincia': \"None\", 'lat' : 0, 'long' : 0}, inplace = True)\n",
    "\n",
    "print(\"Dataframe contains \" + str(city_dataframe.count()[0]) + \" rows\")\n",
    "\n",
    "# Remove data having latitude = 0 or longitude = 0 or provincia = \"In fase di definizione/aggiornamento\"\n",
    "city_dataframe.drop(city_dataframe[(city_dataframe['lat'] == 0) | \\\n",
    "                                   (city_dataframe['long'] == 0) | \\\n",
    "                                   (city_dataframe['sigla_provincia'] == 'None') \\\n",
    "                                  ].index, inplace = True)\n",
    "\n",
    "city_dataframe.reset_index(drop = True, inplace = True)\n",
    "                        \n",
    "print(\"After removing unusable data, Dataframe contains \" + str(city_dataframe.count()[0]) + \" rows\")"
   ]
  },
  {
   "cell_type": "code",
   "execution_count": 45,
   "metadata": {},
   "outputs": [
    {
     "data": {
      "text/html": [
       "<div>\n",
       "<style scoped>\n",
       "    .dataframe tbody tr th:only-of-type {\n",
       "        vertical-align: middle;\n",
       "    }\n",
       "\n",
       "    .dataframe tbody tr th {\n",
       "        vertical-align: top;\n",
       "    }\n",
       "\n",
       "    .dataframe thead th {\n",
       "        text-align: right;\n",
       "    }\n",
       "</style>\n",
       "<table border=\"1\" class=\"dataframe\">\n",
       "  <thead>\n",
       "    <tr style=\"text-align: right;\">\n",
       "      <th></th>\n",
       "      <th>sigla_provincia</th>\n",
       "      <th>lat</th>\n",
       "      <th>long</th>\n",
       "    </tr>\n",
       "  </thead>\n",
       "  <tbody>\n",
       "    <tr>\n",
       "      <th>0</th>\n",
       "      <td>AQ</td>\n",
       "      <td>42.351222</td>\n",
       "      <td>13.398438</td>\n",
       "    </tr>\n",
       "    <tr>\n",
       "      <th>1</th>\n",
       "      <td>TE</td>\n",
       "      <td>42.658918</td>\n",
       "      <td>13.704400</td>\n",
       "    </tr>\n",
       "    <tr>\n",
       "      <th>2</th>\n",
       "      <td>PE</td>\n",
       "      <td>42.464584</td>\n",
       "      <td>14.213648</td>\n",
       "    </tr>\n",
       "    <tr>\n",
       "      <th>3</th>\n",
       "      <td>CH</td>\n",
       "      <td>42.351032</td>\n",
       "      <td>14.167546</td>\n",
       "    </tr>\n",
       "    <tr>\n",
       "      <th>4</th>\n",
       "      <td>PZ</td>\n",
       "      <td>40.639471</td>\n",
       "      <td>15.805148</td>\n",
       "    </tr>\n",
       "    <tr>\n",
       "      <th>...</th>\n",
       "      <td>...</td>\n",
       "      <td>...</td>\n",
       "      <td>...</td>\n",
       "    </tr>\n",
       "    <tr>\n",
       "      <th>102</th>\n",
       "      <td>BL</td>\n",
       "      <td>46.138375</td>\n",
       "      <td>12.217042</td>\n",
       "    </tr>\n",
       "    <tr>\n",
       "      <th>103</th>\n",
       "      <td>TV</td>\n",
       "      <td>45.667546</td>\n",
       "      <td>12.245074</td>\n",
       "    </tr>\n",
       "    <tr>\n",
       "      <th>104</th>\n",
       "      <td>VE</td>\n",
       "      <td>45.434905</td>\n",
       "      <td>12.338452</td>\n",
       "    </tr>\n",
       "    <tr>\n",
       "      <th>105</th>\n",
       "      <td>PD</td>\n",
       "      <td>45.406930</td>\n",
       "      <td>11.876087</td>\n",
       "    </tr>\n",
       "    <tr>\n",
       "      <th>106</th>\n",
       "      <td>RO</td>\n",
       "      <td>45.071073</td>\n",
       "      <td>11.790070</td>\n",
       "    </tr>\n",
       "  </tbody>\n",
       "</table>\n",
       "<p>107 rows × 3 columns</p>\n",
       "</div>"
      ],
      "text/plain": [
       "    sigla_provincia        lat       long\n",
       "0                AQ  42.351222  13.398438\n",
       "1                TE  42.658918  13.704400\n",
       "2                PE  42.464584  14.213648\n",
       "3                CH  42.351032  14.167546\n",
       "4                PZ  40.639471  15.805148\n",
       "..              ...        ...        ...\n",
       "102              BL  46.138375  12.217042\n",
       "103              TV  45.667546  12.245074\n",
       "104              VE  45.434905  12.338452\n",
       "105              PD  45.406930  11.876087\n",
       "106              RO  45.071073  11.790070\n",
       "\n",
       "[107 rows x 3 columns]"
      ]
     },
     "execution_count": 45,
     "metadata": {},
     "output_type": "execute_result"
    }
   ],
   "source": [
    "city_dataframe"
   ]
  },
  {
   "cell_type": "markdown",
   "metadata": {},
   "source": [
    "# Algorithms\n",
    "We are not explicitly adding nodes to graph $\\Rightarrow$ nodes without any edge will not be put in the graph\n",
    "## a) Iteration over all couples $\\rightarrow$ Cost: $\\mathcal{\\Theta}\\ (\\ n^2\\ )$"
   ]
  },
  {
   "cell_type": "code",
   "execution_count": 5,
   "metadata": {},
   "outputs": [],
   "source": [
    "def all_couple_edges(graph, dataframe, radius):\n",
    "    # O (n)\n",
    "    for i in dataframe.index:\n",
    "\n",
    "        # O (n)\n",
    "        for j in dataframe.index:\n",
    "            if i != j and \\\n",
    "               dataframe.iloc[i, 1] - radius <= dataframe.iloc[j, 1] and \\\n",
    "               dataframe.iloc[i, 1] + radius >= dataframe.iloc[j, 1] and \\\n",
    "               dataframe.iloc[i, 2] - radius <= dataframe.iloc[j, 2] and \\\n",
    "               dataframe.iloc[i, 2] + radius >= dataframe.iloc[j, 2]:\n",
    "                graph.add_edge(dataframe.iloc[i, 0], dataframe.iloc[j, 0])                        "
   ]
  },
  {
   "cell_type": "markdown",
   "metadata": {},
   "source": [
    "## b) Binary search on ordered dataframe $\\rightarrow$ Cost: $\\mathcal{\\Theta}\\ (\\ n \\cdot \\log{} n\\ )$\n",
    "\n",
    "### Utility function\n",
    "Given a dataframe with:\n",
    " - Column 0 $\\rightarrow$ ID\n",
    " - Column 1 $\\rightarrow$ Position  \n",
    " \n",
    "Returns a set of all ID couples within *radius* distance"
   ]
  },
  {
   "cell_type": "code",
   "execution_count": 6,
   "metadata": {},
   "outputs": [],
   "source": [
    "def binary_search_single(dataframe, radius):\n",
    "    # Edges between near cities basing on x position\n",
    "    # Use of dictionary, in this way search of an element costs O(1)\n",
    "    edges = {}\n",
    "    \n",
    "    # Sort dataframe basing on position O (n log n) using quicksort\n",
    "    # Use of tmpDataframe to leave dataframe as received\n",
    "    tmpDataframe = dataframe.sort_values(by = dataframe.columns[1])\n",
    "    tmpDataframe.reset_index(drop = True, inplace = True)\n",
    "    \n",
    "    # O(n)\n",
    "    for i in tmpDataframe.index:        \n",
    "        # Set pointers to be used in iterative binary search\n",
    "        first = 0\n",
    "        # We just check the left half because we do not need double couples (a, b) and (b, a).\n",
    "        last = i - 1\n",
    "        found = False\n",
    "\n",
    "        # O (log n)\n",
    "        while first <= last and not found:\n",
    "            midpoint = (first + last) // 2\n",
    "        \n",
    "            # Check if element at midpoint position is near enough            \n",
    "            if tmpDataframe.iloc[i, 1] - radius <= tmpDataframe.iloc[midpoint, 1]:\n",
    "                \n",
    "                # If element at midpoint position is the leftmost element within radius distance\n",
    "                # i.e. element at (midpoint - 1) position is too far\n",
    "                if midpoint == 0 or tmpDataframe.iloc[i, 1] - radius > tmpDataframe.iloc[midpoint - 1, 1]:\n",
    "                \n",
    "                    # We add to edges all couples composed by (element at i position, element at j position)\n",
    "                    # for all j from midpoint to i (excluded)\n",
    "                    edges.update([((tmpDataframe.iloc[i, 0], tmpDataframe.iloc[j, 0]), None) \n",
    "                                  for j in range(midpoint, i)])\n",
    "                    found = True\n",
    "                \n",
    "                # Otherwise (element at (midpoint - 1) position is near enough)\n",
    "                # We search in left half\n",
    "                else:\n",
    "                    last = midpoint - 1             \n",
    "                    \n",
    "            # Otherwise we must search in right half\n",
    "            else:\n",
    "                first = midpoint + 1\n",
    "                \n",
    "    return edges"
   ]
  },
  {
   "cell_type": "code",
   "execution_count": 7,
   "metadata": {
    "pixiedust": {
     "displayParams": {}
    },
    "scrolled": true
   },
   "outputs": [],
   "source": [
    "def binary_search_edges(graph, dataframe, radius):\n",
    "    xEdges = binary_search_single(dataframe, radius)\n",
    "    yEdges = binary_search_single(dataframe.iloc[:, 0::2],  radius)\n",
    "            \n",
    "    # O(n)\n",
    "    for k in xEdges.keys():\n",
    "        # Searching both for (a,b) and (b,a)\n",
    "        # O(1)\n",
    "        if k in yEdges or k[::-1] in yEdges:\n",
    "            graph.add_edge(*k)"
   ]
  },
  {
   "cell_type": "code",
   "execution_count": 51,
   "metadata": {},
   "outputs": [
    {
     "name": "stdout",
     "output_type": "stream",
     "text": [
      "i = 0, first = -26, a[i] = 36.92509198, a[first] = 45.31440693\n",
      "i = 1, first = -25, a[i] = 37.05991687, a[first] = 45.32398135\n",
      "i = 2, first = -24, a[i] = 37.30971088, a[first] = 45.40692987\n",
      "i = 3, first = -23, a[i] = 37.49213171, a[first] = 45.43490485\n",
      "i = 4, first = -22, a[i] = 37.50287803, a[first] = 45.43839046\n",
      "i = 5, first = -21, a[i] = 37.56705701, a[first] = 45.44588506\n",
      "i = 6, first = -20, a[i] = 38.01850065, a[first] = 45.46679409\n",
      "i = 7, first = -19, a[i] = 38.10922769, a[first] = 45.53993052\n",
      "i = 8, first = -18, a[i] = 38.11569725, a[first] = 45.547497\n",
      "i = 9, first = -17, a[i] = 38.19395845, a[first] = 45.5665112\n",
      "i = 10, first = -16, a[i] = 38.67624147, a[first] = 45.58439043\n",
      "i = 11, first = -15, a[i] = 38.90597598, a[first] = 45.6494354\n",
      "i = 12, first = -14, a[i] = 39.08036878, a[first] = 45.66754571\n",
      "i = 13, first = -13, a[i] = 39.16641462, a[first] = 45.69441368\n",
      "i = 14, first = -12, a[i] = 39.21531192, a[first] = 45.73750286\n",
      "i = 15, first = -11, a[i] = 39.29308681, a[first] = 45.8099912\n",
      "i = 16, first = -10, a[i] = 39.90381075, a[first] = 45.81701677\n",
      "i = 17, first = -9, a[i] = 40.32318834, a[first] = 45.85575781\n",
      "i = 18, first = -8, a[i] = 40.35354285, a[first] = 45.9214455\n",
      "i = 19, first = -7, a[i] = 40.47354739, a[first] = 45.94149817\n",
      "i = 20, first = -6, a[i] = 40.63848545, a[first] = 45.95443546\n",
      "i = 21, first = -5, a[i] = 40.63947052, a[first] = 46.06255516\n",
      "i = 22, first = -4, a[i] = 40.66751177, a[first] = 46.06893511\n",
      "i = 23, first = -3, a[i] = 40.67821961, a[first] = 46.13837528\n",
      "i = 24, first = -2, a[i] = 40.72667657, a[first] = 46.17099261\n",
      "i = 25, first = -1, a[i] = 40.83956555, a[first] = 46.49933453\n",
      "i = 0, first = -23, a[i] = 7.320149366, a[first] = 14.27909375\n",
      "i = 1, first = -22, a[i] = 7.551171632, a[first] = 14.33240464\n",
      "i = 2, first = -21, a[i] = 7.680687483, a[first] = 14.65916051\n",
      "i = 3, first = -20, a[i] = 8.027850298, a[first] = 14.73069891\n",
      "i = 4, first = -19, a[i] = 8.054082167, a[first] = 14.7594026\n",
      "i = 5, first = -18, a[i] = 8.204142547, a[first] = 14.78151683\n",
      "i = 6, first = -17, a[i] = 8.423234312, a[first] = 14.79528803\n",
      "i = 7, first = -16, a[i] = 8.481108654, a[first] = 15.08704691\n",
      "i = 8, first = -15, a[i] = 8.526242676, a[first] = 15.29333182\n",
      "i = 9, first = -14, a[i] = 8.551078753, a[first] = 15.54305094\n",
      "i = 10, first = -13, a[i] = 8.559667131, a[first] = 15.55572302\n",
      "i = 11, first = -12, a[i] = 8.591183151, a[first] = 15.6434527\n",
      "i = 12, first = -11, a[i] = 8.615401155, a[first] = 15.80514834\n",
      "i = 13, first = -10, a[i] = 8.621915884, a[first] = 16.10157414\n",
      "i = 14, first = -9, a[i] = 8.822868344, a[first] = 16.25609692\n",
      "i = 15, first = -8, a[i] = 8.9326992, a[first] = 16.29520432\n",
      "i = 16, first = -7, a[i] = 9.085159546, a[first] = 16.59440194\n",
      "i = 17, first = -6, a[i] = 9.110616306, a[first] = 16.59792442\n",
      "i = 18, first = -5, a[i] = 9.160157191, a[first] = 16.86736689\n",
      "i = 19, first = -4, a[i] = 9.190347404, a[first] = 17.12538864\n",
      "i = 20, first = -3, a[i] = 9.273582472, a[first] = 17.23237181\n",
      "i = 21, first = -2, a[i] = 9.330296393, a[first] = 17.94601575\n",
      "i = 22, first = -1, a[i] = 9.393392246, a[first] = 18.1718973\n"
     ]
    }
   ],
   "source": [
    "#%%timeit\n",
    "#radius = 0.8\n",
    "\n",
    "#tmpDataframe = city_dataframe.sort_values(by = city_dataframe.columns[1])\n",
    "#tmpDataframe.reset_index(drop = True, inplace = True)\n",
    "\n",
    "#j = 2 * radius / (tmpDataframe.iloc[-1, 1] - tmpDataframe.iloc[0, 1]) * (tmpDataframe.count()[0] - 1)\n",
    "#print(\"jump\" + str(j))\n",
    "#int(2 * radius)\n",
    "P_2.clear()\n",
    "smart_binary_search_edges(P_2, city_dataframe, radius)"
   ]
  },
  {
   "cell_type": "code",
   "execution_count": 8,
   "metadata": {
    "scrolled": true
   },
   "outputs": [],
   "source": [
    "def smart_binary_search_single(dataframe, radius):\n",
    "    # Edges between near cities basing on x position\n",
    "    # Use of dictionary, in this way search of an element costs O(1)\n",
    "    edges = {}\n",
    "    \n",
    "    # Sort dataframe basing on position O (n log n) using quicksort\n",
    "    # Use of tmpDataframe to leave dataframe as received\n",
    "    tmpDataframe = dataframe.sort_values(by = dataframe.columns[1])\n",
    "    tmpDataframe.reset_index(drop = True, inplace = True)\n",
    "    \n",
    "    j = 3 * radius / (tmpDataframe.iloc[-1, 1] - tmpDataframe.iloc[0, 1]) * (tmpDataframe.count()[0] - 1)\n",
    "    jump = int(j)\n",
    "\n",
    "    # O(n)\n",
    "    for i in tmpDataframe.index:        \n",
    "        # Set pointers to be used in iterative binary search\n",
    "        first = i - jump\n",
    "        \n",
    "        if first < 0 or tmpDataframe.iloc[i, 1] - radius < tmpDataframe.iloc[first, 1]:\n",
    "            first = 0\n",
    "        \n",
    "        # We just check the left half because we do not need double couples (a, b) and (b, a).\n",
    "        last = i - 1\n",
    "        found = False\n",
    "\n",
    "        # O (log n)\n",
    "        while first <= last and not found:\n",
    "            midpoint = (first + last) // 2\n",
    "        \n",
    "            # Check if element at midpoint position is near enough            \n",
    "            if tmpDataframe.iloc[i, 1] - radius <= tmpDataframe.iloc[midpoint, 1]:\n",
    "                \n",
    "                # If element at midpoint position is the leftmost element within radius distance\n",
    "                # i.e. element at (midpoint - 1) position is too far\n",
    "                if midpoint == 0 or \\\n",
    "                tmpDataframe.iloc[i, 1] - radius > tmpDataframe.iloc[midpoint - 1, 1]:\n",
    "                \n",
    "                    # We add to edges all couples composed by (element at i position, element at j position)\n",
    "                    # for all j from midpoint to i (excluded)\n",
    "                    edges.update([((tmpDataframe.iloc[i, 0], tmpDataframe.iloc[j, 0]), None) \n",
    "                                  for j in range(midpoint, i)])\n",
    "                    found = True\n",
    "                \n",
    "                # Otherwise (element at (midpoint - 1) position is near enough)\n",
    "                # We search in left half\n",
    "                else:\n",
    "                    last = midpoint - 1             \n",
    "                    \n",
    "            # Otherwise we must search in right half\n",
    "            else:\n",
    "                first = midpoint + 1\n",
    "                \n",
    "    return edges"
   ]
  },
  {
   "cell_type": "code",
   "execution_count": 9,
   "metadata": {
    "pixiedust": {
     "displayParams": {}
    },
    "scrolled": true
   },
   "outputs": [],
   "source": [
    "def smart_binary_search_edges(graph, dataframe, radius):\n",
    "    xEdges = smart_binary_search_single(dataframe, radius)\n",
    "    yEdges = smart_binary_search_single(dataframe.iloc[:, 0::2],  radius)\n",
    "            \n",
    "    # O(n)\n",
    "    for k in xEdges.keys():\n",
    "        # Searching both for (a,b) and (b,a)\n",
    "        # O(1)\n",
    "        if k in yEdges or k[::-1] in yEdges:\n",
    "            graph.add_edge(*k)"
   ]
  },
  {
   "cell_type": "code",
   "execution_count": null,
   "metadata": {},
   "outputs": [],
   "source": []
  },
  {
   "cell_type": "code",
   "execution_count": null,
   "metadata": {},
   "outputs": [],
   "source": []
  },
  {
   "cell_type": "code",
   "execution_count": null,
   "metadata": {},
   "outputs": [],
   "source": []
  },
  {
   "cell_type": "code",
   "execution_count": null,
   "metadata": {},
   "outputs": [],
   "source": []
  },
  {
   "cell_type": "markdown",
   "metadata": {},
   "source": [
    "## c) Uniform distribution"
   ]
  },
  {
   "cell_type": "code",
   "execution_count": 10,
   "metadata": {},
   "outputs": [],
   "source": [
    "def scan(dataframe, radius):\n",
    "    edges = {}\n",
    "    \n",
    "    tmpDataframe = dataframe.sort_values(by = dataframe.columns[1])\n",
    "    tmpDataframe.reset_index(drop = True, inplace = True)\n",
    "    \n",
    "    i = 0\n",
    "    j = 0\n",
    "    last_j = 0\n",
    "    while j < tmpDataframe.count()[0]:\n",
    "        \n",
    "        if tmpDataframe.iloc[i, 1] + radius >= tmpDataframe.iloc[j, 1]:\n",
    "            while j < tmpDataframe.count()[0] - 1 and tmpDataframe.iloc[i, 1] + radius >= tmpDataframe.iloc[j + 1, 1]:\n",
    "                j += 1\n",
    "            \n",
    "            edges.update([((tmpDataframe.iloc[snx_elem, 0], tmpDataframe.iloc[dx_elem, 0]), None) \\\n",
    "                          for snx_elem in range(i, j) \\\n",
    "                          for dx_elem in range(max(last_j, snx_elem) + 1, j + 1)])\n",
    "            last_j = j\n",
    "            if j == tmpDataframe.count()[0] - 1:\n",
    "                break\n",
    "        \n",
    "        j += 1\n",
    "        i += 1            \n",
    "        while i < j and tmpDataframe.iloc[i, 1] + radius < tmpDataframe.iloc[j, 1]:\n",
    "            i += 1\n",
    "    return edges"
   ]
  },
  {
   "cell_type": "code",
   "execution_count": 11,
   "metadata": {},
   "outputs": [],
   "source": [
    "def smartScan(dataframe, radius):\n",
    "    edges = {}\n",
    "    \n",
    "    tmpDataframe = dataframe.sort_values(by = dataframe.columns[1])\n",
    "    tmpDataframe.reset_index(drop = True, inplace = True)\n",
    "    \n",
    "    step = (tmpDataframe.iloc[-1, 1] - tmpDataframe.iloc[0, 1]) / (tmpDataframe.count()[0] - 1)\n",
    "    \n",
    "    i = 0\n",
    "    j = 0\n",
    "    display(\"step = \" + str(step))\n",
    "    while j < tmpDataframe.count()[0]:\n",
    "        display(\"i = \" + str(i) + \", i_lab = \" + tmpDataframe.iloc[i, 0] + \", a[i] = \" + str(tmpDataframe.iloc[i, 1]) + \\\n",
    "                \", j = \" + str(j) + \", j_lab = \" + tmpDataframe.iloc[j, 0] + \", a[j] = \" + str(tmpDataframe.iloc[j, 1]))\n",
    "        \n",
    "        jump = int((tmpDataframe.iloc[j, 1] - tmpDataframe.iloc[i, 1] + radius) / step)\n",
    "        while j < tmpDataframe.count()[0] - 1 and \\\n",
    "        (tmpDataframe.iloc[i, 1] + radius < tmpDataframe.iloc[j, 1] or \\\n",
    "        tmpDataframe.iloc[i, 1] + radius >= tmpDataframe.iloc[j + 1, 1]):\n",
    "            j = max(min(tmpDataframe.count()[0] - 1, j + jump), i)\n",
    "            jump = int(mt.copysign(jump, tmpDataframe.iloc[j, 1] - tmpDataframe.iloc[i, 1] + radius))\n",
    "            display(\"-- jump = \" + str(jump) + \", j = \" + str(j))\n",
    "            if abs(jump) != 1:\n",
    "                jump = int(mt.copysign(mt.floor(abs(jump / 2)), jump))            \n",
    "            \n",
    "        edges.update([((tmpDataframe.iloc[snx_elem, 0], tmpDataframe.iloc[dx_elem, 0]), None) \\\n",
    "                      for snx_elem in range(i, j) \\\n",
    "                      for dx_elem in range(max(last_j, snx_elem) + 1, j + 1)])\n",
    "        display([((tmpDataframe.iloc[snx_elem, 0], tmpDataframe.iloc[dx_elem, 0]), None) \\\n",
    "                 for snx_elem in range(i, j) \\\n",
    "                 for dx_elem in range(max(last_j, snx_elem) + 1, j + 1)])\n",
    "        last_j = j\n",
    "        last_i = i\n",
    "        jump = step\n",
    "        \n",
    "        if j == tmpDataframe.count()[0] - 1:\n",
    "            break\n",
    "            \n",
    "        j += 1\n",
    "        \n",
    "        display(\"j = \" + str(j) + \", j_lab = \" + tmpDataframe.iloc[j, 0] + \", a[j] = \" + str(tmpDataframe.iloc[j, 1]))\n",
    "        jump = int((tmpDataframe.iloc[j, 1] - tmpDataframe.iloc[i, 1] - radius) / step)\n",
    "        while i < j and \\\n",
    "        (tmpDataframe.iloc[i, 1] + radius < tmpDataframe.iloc[j, 1] or \\\n",
    "        tmpDataframe.iloc[i - 1, 1] + radius >= tmpDataframe.iloc[j, 1]):\n",
    "            i = max(min(j, i + jump), last_i + 1)\n",
    "            jump = int(mt.copysign(jump, tmpDataframe.iloc[j, 1] - tmpDataframe.iloc[i, 1] - radius))\n",
    "            jump *= -1\n",
    "            display(\"-- jump = \" + str(jump) + \", i = \" + str(i))\n",
    "            if abs(jump) != 1:\n",
    "                jump = int(mt.copysign(mt.floor(abs(jump / 2)), jump))\n",
    "            \n",
    "    return edges"
   ]
  },
  {
   "cell_type": "markdown",
   "metadata": {},
   "source": [
    "def smartScan(dataframe, radius):\n",
    "    edges = {}\n",
    "    \n",
    "    tmpDataframe = dataframe.sort_values(by = dataframe.columns[1])\n",
    "    tmpDataframe.reset_index(drop = True, inplace = True)\n",
    "    \n",
    "    step = (tmpDataframe.iloc[-1, 1] - tmpDataframe.iloc[0, 1]) / (tmpDataframe.count()[0] - 1)\n",
    "    \n",
    "    i = 0\n",
    "    j = 0\n",
    "    #int(mt.floor(radius / step)) + 1\n",
    "    last_j = 0\n",
    "    display(\"step = \" + str(step))\n",
    "    last_jump = 0\n",
    "    while j < tmpDataframe.count()[0]:\n",
    "        display(\"i = \" + str(i) + \", i_lab = \" + tmpDataframe.iloc[i, 0] + \", a[i] = \" + str(tmpDataframe.iloc[i, 1]) + \\\n",
    "                \", j = \" + str(j) + \", j_lab = \" + tmpDataframe.iloc[j, 0] + \", a[j] = \" + str(tmpDataframe.iloc[j, 1]))\n",
    "        \n",
    "        while j < tmpDataframe.count()[0] - 1 and \\\n",
    "        (tmpDataframe.iloc[i, 1] + radius < tmpDataframe.iloc[j, 1] or \\\n",
    "        tmpDataframe.iloc[i, 1] + radius >= tmpDataframe.iloc[j + 1, 1]):\n",
    "            jump = (tmpDataframe.iloc[i, 1] + radius - tmpDataframe.iloc[j, 1]) / step\n",
    "            jump = int(mt.copysign(mt.floor(abs(jump)) + 1, jump))\n",
    "            # We are going in a loop of jump between the same 2 indexes\n",
    "            if jump == -last_jump:\n",
    "                jump = int(mt.copysign(mt.floor(abs(jump / 2)), jump))\n",
    "            \n",
    "            last_jump = jump\n",
    "            j = max(min(tmpDataframe.count()[0] - 1, j + jump), i)\n",
    "            display(\"-- jump = \" + str(jump) + \", j = \" + str(j))\n",
    "            \n",
    "            \n",
    "        edges.update([((tmpDataframe.iloc[snx_elem, 0], tmpDataframe.iloc[dx_elem, 0]), None) \\\n",
    "                      for snx_elem in range(i, j) \\\n",
    "                      for dx_elem in range(max(last_j, snx_elem) + 1, j + 1)])\n",
    "        display([((tmpDataframe.iloc[snx_elem, 0], tmpDataframe.iloc[dx_elem, 0]), None) \\\n",
    "                 for snx_elem in range(i, j) \\\n",
    "                 for dx_elem in range(max(last_j, snx_elem) + 1, j + 1)])\n",
    "        last_j = j\n",
    "        last_i = i\n",
    "        last_jump = 0\n",
    "        \n",
    "        if j == tmpDataframe.count()[0] - 1:\n",
    "            break\n",
    "            \n",
    "        j += 1\n",
    "        \n",
    "        display(\"j = \" + str(j) + \", j_lab = \" + tmpDataframe.iloc[j, 0] + \", a[j] = \" + str(tmpDataframe.iloc[j, 1]))\n",
    "        \n",
    "        while i < j and \\\n",
    "        (tmpDataframe.iloc[i, 1] + radius < tmpDataframe.iloc[j, 1] or \\\n",
    "        tmpDataframe.iloc[i - 1, 1] + radius >= tmpDataframe.iloc[j, 1]):\n",
    "            jump = (tmpDataframe.iloc[j, 1] - radius - tmpDataframe.iloc[i ,1]) / step\n",
    "            jump = int(mt.copysign(mt.floor(abs(jump)) + 1, jump))            \n",
    "            # We are going in a loop of jump between the same 2 indexes\n",
    "            if jump == -last_jump:\n",
    "                jump = int(mt.copysign(mt.floor(abs(jump / 2)), jump))\n",
    "            \n",
    "            last_jump = jump\n",
    "            i = max(min(j, i + jump), last_i + 1)\n",
    "            display(\"-- jump = \" + str(jump) + \", i = \" + str(i))\n",
    "            \n",
    "    return edges"
   ]
  },
  {
   "cell_type": "code",
   "execution_count": 46,
   "metadata": {
    "scrolled": false
   },
   "outputs": [
    {
     "data": {
      "text/plain": [
       "'step = 0.09032304292452831'"
      ]
     },
     "metadata": {},
     "output_type": "display_data"
    },
    {
     "data": {
      "text/plain": [
       "'i = 0, i_lab = Ragusa, a[i] = 36.92509198, j = 0, j_lab = Ragusa, a[j] = 36.92509198'"
      ]
     },
     "metadata": {},
     "output_type": "display_data"
    },
    {
     "data": {
      "text/plain": [
       "'-- jump = -8, j = 8'"
      ]
     },
     "metadata": {},
     "output_type": "display_data"
    },
    {
     "data": {
      "text/plain": [
       "'-- jump = -4, j = 4'"
      ]
     },
     "metadata": {},
     "output_type": "display_data"
    },
    {
     "data": {
      "text/plain": [
       "'-- jump = -2, j = 2'"
      ]
     },
     "metadata": {},
     "output_type": "display_data"
    },
    {
     "data": {
      "text/plain": [
       "'-- jump = -1, j = 1'"
      ]
     },
     "metadata": {},
     "output_type": "display_data"
    },
    {
     "data": {
      "text/plain": [
       "'-- jump = -1, j = 0'"
      ]
     },
     "metadata": {},
     "output_type": "display_data"
    },
    {
     "data": {
      "text/plain": [
       "'-- jump = -1, j = 0'"
      ]
     },
     "metadata": {},
     "output_type": "display_data"
    },
    {
     "data": {
      "text/plain": [
       "'-- jump = -1, j = 0'"
      ]
     },
     "metadata": {},
     "output_type": "display_data"
    },
    {
     "data": {
      "text/plain": [
       "'-- jump = -1, j = 0'"
      ]
     },
     "metadata": {},
     "output_type": "display_data"
    },
    {
     "data": {
      "text/plain": [
       "'-- jump = -1, j = 0'"
      ]
     },
     "metadata": {},
     "output_type": "display_data"
    },
    {
     "data": {
      "text/plain": [
       "'-- jump = -1, j = 0'"
      ]
     },
     "metadata": {},
     "output_type": "display_data"
    },
    {
     "data": {
      "text/plain": [
       "'-- jump = -1, j = 0'"
      ]
     },
     "metadata": {},
     "output_type": "display_data"
    },
    {
     "data": {
      "text/plain": [
       "'-- jump = -1, j = 0'"
      ]
     },
     "metadata": {},
     "output_type": "display_data"
    },
    {
     "data": {
      "text/plain": [
       "'-- jump = -1, j = 0'"
      ]
     },
     "metadata": {},
     "output_type": "display_data"
    },
    {
     "data": {
      "text/plain": [
       "'-- jump = -1, j = 0'"
      ]
     },
     "metadata": {},
     "output_type": "display_data"
    },
    {
     "data": {
      "text/plain": [
       "'-- jump = -1, j = 0'"
      ]
     },
     "metadata": {},
     "output_type": "display_data"
    },
    {
     "data": {
      "text/plain": [
       "'-- jump = -1, j = 0'"
      ]
     },
     "metadata": {},
     "output_type": "display_data"
    },
    {
     "data": {
      "text/plain": [
       "'-- jump = -1, j = 0'"
      ]
     },
     "metadata": {},
     "output_type": "display_data"
    },
    {
     "data": {
      "text/plain": [
       "'-- jump = -1, j = 0'"
      ]
     },
     "metadata": {},
     "output_type": "display_data"
    },
    {
     "data": {
      "text/plain": [
       "'-- jump = -1, j = 0'"
      ]
     },
     "metadata": {},
     "output_type": "display_data"
    },
    {
     "data": {
      "text/plain": [
       "'-- jump = -1, j = 0'"
      ]
     },
     "metadata": {},
     "output_type": "display_data"
    },
    {
     "data": {
      "text/plain": [
       "'-- jump = -1, j = 0'"
      ]
     },
     "metadata": {},
     "output_type": "display_data"
    },
    {
     "data": {
      "text/plain": [
       "'-- jump = -1, j = 0'"
      ]
     },
     "metadata": {},
     "output_type": "display_data"
    },
    {
     "data": {
      "text/plain": [
       "'-- jump = -1, j = 0'"
      ]
     },
     "metadata": {},
     "output_type": "display_data"
    },
    {
     "data": {
      "text/plain": [
       "'-- jump = -1, j = 0'"
      ]
     },
     "metadata": {},
     "output_type": "display_data"
    },
    {
     "data": {
      "text/plain": [
       "'-- jump = -1, j = 0'"
      ]
     },
     "metadata": {},
     "output_type": "display_data"
    },
    {
     "data": {
      "text/plain": [
       "'-- jump = -1, j = 0'"
      ]
     },
     "metadata": {},
     "output_type": "display_data"
    },
    {
     "data": {
      "text/plain": [
       "'-- jump = -1, j = 0'"
      ]
     },
     "metadata": {},
     "output_type": "display_data"
    },
    {
     "data": {
      "text/plain": [
       "'-- jump = -1, j = 0'"
      ]
     },
     "metadata": {},
     "output_type": "display_data"
    },
    {
     "data": {
      "text/plain": [
       "'-- jump = -1, j = 0'"
      ]
     },
     "metadata": {},
     "output_type": "display_data"
    },
    {
     "data": {
      "text/plain": [
       "'-- jump = -1, j = 0'"
      ]
     },
     "metadata": {},
     "output_type": "display_data"
    },
    {
     "data": {
      "text/plain": [
       "'-- jump = -1, j = 0'"
      ]
     },
     "metadata": {},
     "output_type": "display_data"
    },
    {
     "data": {
      "text/plain": [
       "'-- jump = -1, j = 0'"
      ]
     },
     "metadata": {},
     "output_type": "display_data"
    },
    {
     "data": {
      "text/plain": [
       "'-- jump = -1, j = 0'"
      ]
     },
     "metadata": {},
     "output_type": "display_data"
    },
    {
     "data": {
      "text/plain": [
       "'-- jump = -1, j = 0'"
      ]
     },
     "metadata": {},
     "output_type": "display_data"
    },
    {
     "data": {
      "text/plain": [
       "'-- jump = -1, j = 0'"
      ]
     },
     "metadata": {},
     "output_type": "display_data"
    },
    {
     "data": {
      "text/plain": [
       "'-- jump = -1, j = 0'"
      ]
     },
     "metadata": {},
     "output_type": "display_data"
    },
    {
     "data": {
      "text/plain": [
       "'-- jump = -1, j = 0'"
      ]
     },
     "metadata": {},
     "output_type": "display_data"
    },
    {
     "data": {
      "text/plain": [
       "'-- jump = -1, j = 0'"
      ]
     },
     "metadata": {},
     "output_type": "display_data"
    },
    {
     "data": {
      "text/plain": [
       "'-- jump = -1, j = 0'"
      ]
     },
     "metadata": {},
     "output_type": "display_data"
    },
    {
     "data": {
      "text/plain": [
       "'-- jump = -1, j = 0'"
      ]
     },
     "metadata": {},
     "output_type": "display_data"
    },
    {
     "data": {
      "text/plain": [
       "'-- jump = -1, j = 0'"
      ]
     },
     "metadata": {},
     "output_type": "display_data"
    },
    {
     "data": {
      "text/plain": [
       "'-- jump = -1, j = 0'"
      ]
     },
     "metadata": {},
     "output_type": "display_data"
    },
    {
     "data": {
      "text/plain": [
       "'-- jump = -1, j = 0'"
      ]
     },
     "metadata": {},
     "output_type": "display_data"
    },
    {
     "data": {
      "text/plain": [
       "'-- jump = -1, j = 0'"
      ]
     },
     "metadata": {},
     "output_type": "display_data"
    },
    {
     "data": {
      "text/plain": [
       "'-- jump = -1, j = 0'"
      ]
     },
     "metadata": {},
     "output_type": "display_data"
    },
    {
     "data": {
      "text/plain": [
       "'-- jump = -1, j = 0'"
      ]
     },
     "metadata": {},
     "output_type": "display_data"
    },
    {
     "data": {
      "text/plain": [
       "'-- jump = -1, j = 0'"
      ]
     },
     "metadata": {},
     "output_type": "display_data"
    },
    {
     "data": {
      "text/plain": [
       "'-- jump = -1, j = 0'"
      ]
     },
     "metadata": {},
     "output_type": "display_data"
    },
    {
     "data": {
      "text/plain": [
       "'-- jump = -1, j = 0'"
      ]
     },
     "metadata": {},
     "output_type": "display_data"
    },
    {
     "data": {
      "text/plain": [
       "'-- jump = -1, j = 0'"
      ]
     },
     "metadata": {},
     "output_type": "display_data"
    },
    {
     "data": {
      "text/plain": [
       "'-- jump = -1, j = 0'"
      ]
     },
     "metadata": {},
     "output_type": "display_data"
    },
    {
     "data": {
      "text/plain": [
       "'-- jump = -1, j = 0'"
      ]
     },
     "metadata": {},
     "output_type": "display_data"
    },
    {
     "data": {
      "text/plain": [
       "'-- jump = -1, j = 0'"
      ]
     },
     "metadata": {},
     "output_type": "display_data"
    },
    {
     "data": {
      "text/plain": [
       "'-- jump = -1, j = 0'"
      ]
     },
     "metadata": {},
     "output_type": "display_data"
    },
    {
     "data": {
      "text/plain": [
       "'-- jump = -1, j = 0'"
      ]
     },
     "metadata": {},
     "output_type": "display_data"
    },
    {
     "data": {
      "text/plain": [
       "'-- jump = -1, j = 0'"
      ]
     },
     "metadata": {},
     "output_type": "display_data"
    },
    {
     "data": {
      "text/plain": [
       "'-- jump = -1, j = 0'"
      ]
     },
     "metadata": {},
     "output_type": "display_data"
    },
    {
     "data": {
      "text/plain": [
       "'-- jump = -1, j = 0'"
      ]
     },
     "metadata": {},
     "output_type": "display_data"
    },
    {
     "data": {
      "text/plain": [
       "'-- jump = -1, j = 0'"
      ]
     },
     "metadata": {},
     "output_type": "display_data"
    },
    {
     "data": {
      "text/plain": [
       "'-- jump = -1, j = 0'"
      ]
     },
     "metadata": {},
     "output_type": "display_data"
    },
    {
     "data": {
      "text/plain": [
       "'-- jump = -1, j = 0'"
      ]
     },
     "metadata": {},
     "output_type": "display_data"
    },
    {
     "data": {
      "text/plain": [
       "'-- jump = -1, j = 0'"
      ]
     },
     "metadata": {},
     "output_type": "display_data"
    },
    {
     "data": {
      "text/plain": [
       "'-- jump = -1, j = 0'"
      ]
     },
     "metadata": {},
     "output_type": "display_data"
    },
    {
     "data": {
      "text/plain": [
       "'-- jump = -1, j = 0'"
      ]
     },
     "metadata": {},
     "output_type": "display_data"
    },
    {
     "data": {
      "text/plain": [
       "'-- jump = -1, j = 0'"
      ]
     },
     "metadata": {},
     "output_type": "display_data"
    },
    {
     "data": {
      "text/plain": [
       "'-- jump = -1, j = 0'"
      ]
     },
     "metadata": {},
     "output_type": "display_data"
    },
    {
     "data": {
      "text/plain": [
       "'-- jump = -1, j = 0'"
      ]
     },
     "metadata": {},
     "output_type": "display_data"
    },
    {
     "data": {
      "text/plain": [
       "'-- jump = -1, j = 0'"
      ]
     },
     "metadata": {},
     "output_type": "display_data"
    },
    {
     "data": {
      "text/plain": [
       "'-- jump = -1, j = 0'"
      ]
     },
     "metadata": {},
     "output_type": "display_data"
    },
    {
     "data": {
      "text/plain": [
       "'-- jump = -1, j = 0'"
      ]
     },
     "metadata": {},
     "output_type": "display_data"
    },
    {
     "data": {
      "text/plain": [
       "'-- jump = -1, j = 0'"
      ]
     },
     "metadata": {},
     "output_type": "display_data"
    },
    {
     "data": {
      "text/plain": [
       "'-- jump = -1, j = 0'"
      ]
     },
     "metadata": {},
     "output_type": "display_data"
    },
    {
     "data": {
      "text/plain": [
       "'-- jump = -1, j = 0'"
      ]
     },
     "metadata": {},
     "output_type": "display_data"
    },
    {
     "data": {
      "text/plain": [
       "'-- jump = -1, j = 0'"
      ]
     },
     "metadata": {},
     "output_type": "display_data"
    },
    {
     "data": {
      "text/plain": [
       "'-- jump = -1, j = 0'"
      ]
     },
     "metadata": {},
     "output_type": "display_data"
    },
    {
     "data": {
      "text/plain": [
       "'-- jump = -1, j = 0'"
      ]
     },
     "metadata": {},
     "output_type": "display_data"
    },
    {
     "data": {
      "text/plain": [
       "'-- jump = -1, j = 0'"
      ]
     },
     "metadata": {},
     "output_type": "display_data"
    },
    {
     "data": {
      "text/plain": [
       "'-- jump = -1, j = 0'"
      ]
     },
     "metadata": {},
     "output_type": "display_data"
    },
    {
     "data": {
      "text/plain": [
       "'-- jump = -1, j = 0'"
      ]
     },
     "metadata": {},
     "output_type": "display_data"
    },
    {
     "data": {
      "text/plain": [
       "'-- jump = -1, j = 0'"
      ]
     },
     "metadata": {},
     "output_type": "display_data"
    },
    {
     "data": {
      "text/plain": [
       "'-- jump = -1, j = 0'"
      ]
     },
     "metadata": {},
     "output_type": "display_data"
    },
    {
     "data": {
      "text/plain": [
       "'-- jump = -1, j = 0'"
      ]
     },
     "metadata": {},
     "output_type": "display_data"
    },
    {
     "data": {
      "text/plain": [
       "'-- jump = -1, j = 0'"
      ]
     },
     "metadata": {},
     "output_type": "display_data"
    },
    {
     "data": {
      "text/plain": [
       "'-- jump = -1, j = 0'"
      ]
     },
     "metadata": {},
     "output_type": "display_data"
    },
    {
     "data": {
      "text/plain": [
       "'-- jump = -1, j = 0'"
      ]
     },
     "metadata": {},
     "output_type": "display_data"
    },
    {
     "data": {
      "text/plain": [
       "'-- jump = -1, j = 0'"
      ]
     },
     "metadata": {},
     "output_type": "display_data"
    },
    {
     "data": {
      "text/plain": [
       "'-- jump = -1, j = 0'"
      ]
     },
     "metadata": {},
     "output_type": "display_data"
    },
    {
     "data": {
      "text/plain": [
       "'-- jump = -1, j = 0'"
      ]
     },
     "metadata": {},
     "output_type": "display_data"
    },
    {
     "data": {
      "text/plain": [
       "'-- jump = -1, j = 0'"
      ]
     },
     "metadata": {},
     "output_type": "display_data"
    },
    {
     "data": {
      "text/plain": [
       "'-- jump = -1, j = 0'"
      ]
     },
     "metadata": {},
     "output_type": "display_data"
    },
    {
     "data": {
      "text/plain": [
       "'-- jump = -1, j = 0'"
      ]
     },
     "metadata": {},
     "output_type": "display_data"
    },
    {
     "data": {
      "text/plain": [
       "'-- jump = -1, j = 0'"
      ]
     },
     "metadata": {},
     "output_type": "display_data"
    },
    {
     "data": {
      "text/plain": [
       "'-- jump = -1, j = 0'"
      ]
     },
     "metadata": {},
     "output_type": "display_data"
    },
    {
     "data": {
      "text/plain": [
       "'-- jump = -1, j = 0'"
      ]
     },
     "metadata": {},
     "output_type": "display_data"
    },
    {
     "data": {
      "text/plain": [
       "'-- jump = -1, j = 0'"
      ]
     },
     "metadata": {},
     "output_type": "display_data"
    },
    {
     "data": {
      "text/plain": [
       "'-- jump = -1, j = 0'"
      ]
     },
     "metadata": {},
     "output_type": "display_data"
    },
    {
     "data": {
      "text/plain": [
       "'-- jump = -1, j = 0'"
      ]
     },
     "metadata": {},
     "output_type": "display_data"
    },
    {
     "data": {
      "text/plain": [
       "'-- jump = -1, j = 0'"
      ]
     },
     "metadata": {},
     "output_type": "display_data"
    },
    {
     "data": {
      "text/plain": [
       "'-- jump = -1, j = 0'"
      ]
     },
     "metadata": {},
     "output_type": "display_data"
    },
    {
     "data": {
      "text/plain": [
       "'-- jump = -1, j = 0'"
      ]
     },
     "metadata": {},
     "output_type": "display_data"
    },
    {
     "data": {
      "text/plain": [
       "'-- jump = -1, j = 0'"
      ]
     },
     "metadata": {},
     "output_type": "display_data"
    },
    {
     "data": {
      "text/plain": [
       "'-- jump = -1, j = 0'"
      ]
     },
     "metadata": {},
     "output_type": "display_data"
    },
    {
     "data": {
      "text/plain": [
       "'-- jump = -1, j = 0'"
      ]
     },
     "metadata": {},
     "output_type": "display_data"
    },
    {
     "data": {
      "text/plain": [
       "'-- jump = -1, j = 0'"
      ]
     },
     "metadata": {},
     "output_type": "display_data"
    },
    {
     "data": {
      "text/plain": [
       "'-- jump = -1, j = 0'"
      ]
     },
     "metadata": {},
     "output_type": "display_data"
    },
    {
     "data": {
      "text/plain": [
       "'-- jump = -1, j = 0'"
      ]
     },
     "metadata": {},
     "output_type": "display_data"
    },
    {
     "data": {
      "text/plain": [
       "'-- jump = -1, j = 0'"
      ]
     },
     "metadata": {},
     "output_type": "display_data"
    },
    {
     "data": {
      "text/plain": [
       "'-- jump = -1, j = 0'"
      ]
     },
     "metadata": {},
     "output_type": "display_data"
    },
    {
     "data": {
      "text/plain": [
       "'-- jump = -1, j = 0'"
      ]
     },
     "metadata": {},
     "output_type": "display_data"
    },
    {
     "data": {
      "text/plain": [
       "'-- jump = -1, j = 0'"
      ]
     },
     "metadata": {},
     "output_type": "display_data"
    },
    {
     "data": {
      "text/plain": [
       "'-- jump = -1, j = 0'"
      ]
     },
     "metadata": {},
     "output_type": "display_data"
    },
    {
     "data": {
      "text/plain": [
       "'-- jump = -1, j = 0'"
      ]
     },
     "metadata": {},
     "output_type": "display_data"
    },
    {
     "data": {
      "text/plain": [
       "'-- jump = -1, j = 0'"
      ]
     },
     "metadata": {},
     "output_type": "display_data"
    },
    {
     "data": {
      "text/plain": [
       "'-- jump = -1, j = 0'"
      ]
     },
     "metadata": {},
     "output_type": "display_data"
    },
    {
     "data": {
      "text/plain": [
       "'-- jump = -1, j = 0'"
      ]
     },
     "metadata": {},
     "output_type": "display_data"
    },
    {
     "data": {
      "text/plain": [
       "'-- jump = -1, j = 0'"
      ]
     },
     "metadata": {},
     "output_type": "display_data"
    },
    {
     "data": {
      "text/plain": [
       "'-- jump = -1, j = 0'"
      ]
     },
     "metadata": {},
     "output_type": "display_data"
    },
    {
     "data": {
      "text/plain": [
       "'-- jump = -1, j = 0'"
      ]
     },
     "metadata": {},
     "output_type": "display_data"
    },
    {
     "data": {
      "text/plain": [
       "'-- jump = -1, j = 0'"
      ]
     },
     "metadata": {},
     "output_type": "display_data"
    },
    {
     "data": {
      "text/plain": [
       "'-- jump = -1, j = 0'"
      ]
     },
     "metadata": {},
     "output_type": "display_data"
    },
    {
     "data": {
      "text/plain": [
       "'-- jump = -1, j = 0'"
      ]
     },
     "metadata": {},
     "output_type": "display_data"
    },
    {
     "data": {
      "text/plain": [
       "'-- jump = -1, j = 0'"
      ]
     },
     "metadata": {},
     "output_type": "display_data"
    },
    {
     "data": {
      "text/plain": [
       "'-- jump = -1, j = 0'"
      ]
     },
     "metadata": {},
     "output_type": "display_data"
    },
    {
     "data": {
      "text/plain": [
       "'-- jump = -1, j = 0'"
      ]
     },
     "metadata": {},
     "output_type": "display_data"
    },
    {
     "data": {
      "text/plain": [
       "'-- jump = -1, j = 0'"
      ]
     },
     "metadata": {},
     "output_type": "display_data"
    },
    {
     "data": {
      "text/plain": [
       "'-- jump = -1, j = 0'"
      ]
     },
     "metadata": {},
     "output_type": "display_data"
    },
    {
     "data": {
      "text/plain": [
       "'-- jump = -1, j = 0'"
      ]
     },
     "metadata": {},
     "output_type": "display_data"
    },
    {
     "data": {
      "text/plain": [
       "'-- jump = -1, j = 0'"
      ]
     },
     "metadata": {},
     "output_type": "display_data"
    },
    {
     "data": {
      "text/plain": [
       "'-- jump = -1, j = 0'"
      ]
     },
     "metadata": {},
     "output_type": "display_data"
    },
    {
     "data": {
      "text/plain": [
       "'-- jump = -1, j = 0'"
      ]
     },
     "metadata": {},
     "output_type": "display_data"
    },
    {
     "data": {
      "text/plain": [
       "'-- jump = -1, j = 0'"
      ]
     },
     "metadata": {},
     "output_type": "display_data"
    },
    {
     "data": {
      "text/plain": [
       "'-- jump = -1, j = 0'"
      ]
     },
     "metadata": {},
     "output_type": "display_data"
    },
    {
     "data": {
      "text/plain": [
       "'-- jump = -1, j = 0'"
      ]
     },
     "metadata": {},
     "output_type": "display_data"
    },
    {
     "data": {
      "text/plain": [
       "'-- jump = -1, j = 0'"
      ]
     },
     "metadata": {},
     "output_type": "display_data"
    },
    {
     "data": {
      "text/plain": [
       "'-- jump = -1, j = 0'"
      ]
     },
     "metadata": {},
     "output_type": "display_data"
    },
    {
     "data": {
      "text/plain": [
       "'-- jump = -1, j = 0'"
      ]
     },
     "metadata": {},
     "output_type": "display_data"
    },
    {
     "data": {
      "text/plain": [
       "'-- jump = -1, j = 0'"
      ]
     },
     "metadata": {},
     "output_type": "display_data"
    },
    {
     "data": {
      "text/plain": [
       "'-- jump = -1, j = 0'"
      ]
     },
     "metadata": {},
     "output_type": "display_data"
    },
    {
     "data": {
      "text/plain": [
       "'-- jump = -1, j = 0'"
      ]
     },
     "metadata": {},
     "output_type": "display_data"
    },
    {
     "data": {
      "text/plain": [
       "'-- jump = -1, j = 0'"
      ]
     },
     "metadata": {},
     "output_type": "display_data"
    },
    {
     "data": {
      "text/plain": [
       "'-- jump = -1, j = 0'"
      ]
     },
     "metadata": {},
     "output_type": "display_data"
    },
    {
     "data": {
      "text/plain": [
       "'-- jump = -1, j = 0'"
      ]
     },
     "metadata": {},
     "output_type": "display_data"
    },
    {
     "data": {
      "text/plain": [
       "'-- jump = -1, j = 0'"
      ]
     },
     "metadata": {},
     "output_type": "display_data"
    },
    {
     "data": {
      "text/plain": [
       "'-- jump = -1, j = 0'"
      ]
     },
     "metadata": {},
     "output_type": "display_data"
    },
    {
     "data": {
      "text/plain": [
       "'-- jump = -1, j = 0'"
      ]
     },
     "metadata": {},
     "output_type": "display_data"
    },
    {
     "data": {
      "text/plain": [
       "'-- jump = -1, j = 0'"
      ]
     },
     "metadata": {},
     "output_type": "display_data"
    },
    {
     "data": {
      "text/plain": [
       "'-- jump = -1, j = 0'"
      ]
     },
     "metadata": {},
     "output_type": "display_data"
    },
    {
     "data": {
      "text/plain": [
       "'-- jump = -1, j = 0'"
      ]
     },
     "metadata": {},
     "output_type": "display_data"
    },
    {
     "data": {
      "text/plain": [
       "'-- jump = -1, j = 0'"
      ]
     },
     "metadata": {},
     "output_type": "display_data"
    },
    {
     "data": {
      "text/plain": [
       "'-- jump = -1, j = 0'"
      ]
     },
     "metadata": {},
     "output_type": "display_data"
    },
    {
     "data": {
      "text/plain": [
       "'-- jump = -1, j = 0'"
      ]
     },
     "metadata": {},
     "output_type": "display_data"
    },
    {
     "data": {
      "text/plain": [
       "'-- jump = -1, j = 0'"
      ]
     },
     "metadata": {},
     "output_type": "display_data"
    },
    {
     "data": {
      "text/plain": [
       "'-- jump = -1, j = 0'"
      ]
     },
     "metadata": {},
     "output_type": "display_data"
    },
    {
     "data": {
      "text/plain": [
       "'-- jump = -1, j = 0'"
      ]
     },
     "metadata": {},
     "output_type": "display_data"
    },
    {
     "data": {
      "text/plain": [
       "'-- jump = -1, j = 0'"
      ]
     },
     "metadata": {},
     "output_type": "display_data"
    },
    {
     "data": {
      "text/plain": [
       "'-- jump = -1, j = 0'"
      ]
     },
     "metadata": {},
     "output_type": "display_data"
    },
    {
     "data": {
      "text/plain": [
       "'-- jump = -1, j = 0'"
      ]
     },
     "metadata": {},
     "output_type": "display_data"
    },
    {
     "data": {
      "text/plain": [
       "'-- jump = -1, j = 0'"
      ]
     },
     "metadata": {},
     "output_type": "display_data"
    },
    {
     "data": {
      "text/plain": [
       "'-- jump = -1, j = 0'"
      ]
     },
     "metadata": {},
     "output_type": "display_data"
    },
    {
     "data": {
      "text/plain": [
       "'-- jump = -1, j = 0'"
      ]
     },
     "metadata": {},
     "output_type": "display_data"
    },
    {
     "data": {
      "text/plain": [
       "'-- jump = -1, j = 0'"
      ]
     },
     "metadata": {},
     "output_type": "display_data"
    },
    {
     "data": {
      "text/plain": [
       "'-- jump = -1, j = 0'"
      ]
     },
     "metadata": {},
     "output_type": "display_data"
    },
    {
     "data": {
      "text/plain": [
       "'-- jump = -1, j = 0'"
      ]
     },
     "metadata": {},
     "output_type": "display_data"
    },
    {
     "data": {
      "text/plain": [
       "'-- jump = -1, j = 0'"
      ]
     },
     "metadata": {},
     "output_type": "display_data"
    },
    {
     "data": {
      "text/plain": [
       "'-- jump = -1, j = 0'"
      ]
     },
     "metadata": {},
     "output_type": "display_data"
    },
    {
     "data": {
      "text/plain": [
       "'-- jump = -1, j = 0'"
      ]
     },
     "metadata": {},
     "output_type": "display_data"
    },
    {
     "data": {
      "text/plain": [
       "'-- jump = -1, j = 0'"
      ]
     },
     "metadata": {},
     "output_type": "display_data"
    },
    {
     "data": {
      "text/plain": [
       "'-- jump = -1, j = 0'"
      ]
     },
     "metadata": {},
     "output_type": "display_data"
    },
    {
     "data": {
      "text/plain": [
       "'-- jump = -1, j = 0'"
      ]
     },
     "metadata": {},
     "output_type": "display_data"
    },
    {
     "data": {
      "text/plain": [
       "'-- jump = -1, j = 0'"
      ]
     },
     "metadata": {},
     "output_type": "display_data"
    },
    {
     "data": {
      "text/plain": [
       "'-- jump = -1, j = 0'"
      ]
     },
     "metadata": {},
     "output_type": "display_data"
    },
    {
     "data": {
      "text/plain": [
       "'-- jump = -1, j = 0'"
      ]
     },
     "metadata": {},
     "output_type": "display_data"
    },
    {
     "data": {
      "text/plain": [
       "'-- jump = -1, j = 0'"
      ]
     },
     "metadata": {},
     "output_type": "display_data"
    },
    {
     "data": {
      "text/plain": [
       "'-- jump = -1, j = 0'"
      ]
     },
     "metadata": {},
     "output_type": "display_data"
    },
    {
     "data": {
      "text/plain": [
       "'-- jump = -1, j = 0'"
      ]
     },
     "metadata": {},
     "output_type": "display_data"
    },
    {
     "data": {
      "text/plain": [
       "'-- jump = -1, j = 0'"
      ]
     },
     "metadata": {},
     "output_type": "display_data"
    },
    {
     "data": {
      "text/plain": [
       "'-- jump = -1, j = 0'"
      ]
     },
     "metadata": {},
     "output_type": "display_data"
    },
    {
     "data": {
      "text/plain": [
       "'-- jump = -1, j = 0'"
      ]
     },
     "metadata": {},
     "output_type": "display_data"
    },
    {
     "data": {
      "text/plain": [
       "'-- jump = -1, j = 0'"
      ]
     },
     "metadata": {},
     "output_type": "display_data"
    },
    {
     "data": {
      "text/plain": [
       "'-- jump = -1, j = 0'"
      ]
     },
     "metadata": {},
     "output_type": "display_data"
    },
    {
     "data": {
      "text/plain": [
       "'-- jump = -1, j = 0'"
      ]
     },
     "metadata": {},
     "output_type": "display_data"
    },
    {
     "data": {
      "text/plain": [
       "'-- jump = -1, j = 0'"
      ]
     },
     "metadata": {},
     "output_type": "display_data"
    },
    {
     "data": {
      "text/plain": [
       "'-- jump = -1, j = 0'"
      ]
     },
     "metadata": {},
     "output_type": "display_data"
    },
    {
     "data": {
      "text/plain": [
       "'-- jump = -1, j = 0'"
      ]
     },
     "metadata": {},
     "output_type": "display_data"
    },
    {
     "data": {
      "text/plain": [
       "'-- jump = -1, j = 0'"
      ]
     },
     "metadata": {},
     "output_type": "display_data"
    },
    {
     "data": {
      "text/plain": [
       "'-- jump = -1, j = 0'"
      ]
     },
     "metadata": {},
     "output_type": "display_data"
    },
    {
     "data": {
      "text/plain": [
       "'-- jump = -1, j = 0'"
      ]
     },
     "metadata": {},
     "output_type": "display_data"
    },
    {
     "data": {
      "text/plain": [
       "'-- jump = -1, j = 0'"
      ]
     },
     "metadata": {},
     "output_type": "display_data"
    },
    {
     "data": {
      "text/plain": [
       "'-- jump = -1, j = 0'"
      ]
     },
     "metadata": {},
     "output_type": "display_data"
    },
    {
     "data": {
      "text/plain": [
       "'-- jump = -1, j = 0'"
      ]
     },
     "metadata": {},
     "output_type": "display_data"
    },
    {
     "data": {
      "text/plain": [
       "'-- jump = -1, j = 0'"
      ]
     },
     "metadata": {},
     "output_type": "display_data"
    },
    {
     "data": {
      "text/plain": [
       "'-- jump = -1, j = 0'"
      ]
     },
     "metadata": {},
     "output_type": "display_data"
    },
    {
     "data": {
      "text/plain": [
       "'-- jump = -1, j = 0'"
      ]
     },
     "metadata": {},
     "output_type": "display_data"
    },
    {
     "data": {
      "text/plain": [
       "'-- jump = -1, j = 0'"
      ]
     },
     "metadata": {},
     "output_type": "display_data"
    },
    {
     "data": {
      "text/plain": [
       "'-- jump = -1, j = 0'"
      ]
     },
     "metadata": {},
     "output_type": "display_data"
    },
    {
     "data": {
      "text/plain": [
       "'-- jump = -1, j = 0'"
      ]
     },
     "metadata": {},
     "output_type": "display_data"
    },
    {
     "data": {
      "text/plain": [
       "'-- jump = -1, j = 0'"
      ]
     },
     "metadata": {},
     "output_type": "display_data"
    },
    {
     "data": {
      "text/plain": [
       "'-- jump = -1, j = 0'"
      ]
     },
     "metadata": {},
     "output_type": "display_data"
    },
    {
     "data": {
      "text/plain": [
       "'-- jump = -1, j = 0'"
      ]
     },
     "metadata": {},
     "output_type": "display_data"
    },
    {
     "data": {
      "text/plain": [
       "'-- jump = -1, j = 0'"
      ]
     },
     "metadata": {},
     "output_type": "display_data"
    },
    {
     "data": {
      "text/plain": [
       "'-- jump = -1, j = 0'"
      ]
     },
     "metadata": {},
     "output_type": "display_data"
    },
    {
     "data": {
      "text/plain": [
       "'-- jump = -1, j = 0'"
      ]
     },
     "metadata": {},
     "output_type": "display_data"
    },
    {
     "data": {
      "text/plain": [
       "'-- jump = -1, j = 0'"
      ]
     },
     "metadata": {},
     "output_type": "display_data"
    },
    {
     "data": {
      "text/plain": [
       "'-- jump = -1, j = 0'"
      ]
     },
     "metadata": {},
     "output_type": "display_data"
    },
    {
     "data": {
      "text/plain": [
       "'-- jump = -1, j = 0'"
      ]
     },
     "metadata": {},
     "output_type": "display_data"
    },
    {
     "data": {
      "text/plain": [
       "'-- jump = -1, j = 0'"
      ]
     },
     "metadata": {},
     "output_type": "display_data"
    },
    {
     "data": {
      "text/plain": [
       "'-- jump = -1, j = 0'"
      ]
     },
     "metadata": {},
     "output_type": "display_data"
    },
    {
     "data": {
      "text/plain": [
       "'-- jump = -1, j = 0'"
      ]
     },
     "metadata": {},
     "output_type": "display_data"
    },
    {
     "data": {
      "text/plain": [
       "'-- jump = -1, j = 0'"
      ]
     },
     "metadata": {},
     "output_type": "display_data"
    },
    {
     "data": {
      "text/plain": [
       "'-- jump = -1, j = 0'"
      ]
     },
     "metadata": {},
     "output_type": "display_data"
    },
    {
     "data": {
      "text/plain": [
       "'-- jump = -1, j = 0'"
      ]
     },
     "metadata": {},
     "output_type": "display_data"
    },
    {
     "data": {
      "text/plain": [
       "'-- jump = -1, j = 0'"
      ]
     },
     "metadata": {},
     "output_type": "display_data"
    },
    {
     "data": {
      "text/plain": [
       "'-- jump = -1, j = 0'"
      ]
     },
     "metadata": {},
     "output_type": "display_data"
    },
    {
     "data": {
      "text/plain": [
       "'-- jump = -1, j = 0'"
      ]
     },
     "metadata": {},
     "output_type": "display_data"
    },
    {
     "data": {
      "text/plain": [
       "'-- jump = -1, j = 0'"
      ]
     },
     "metadata": {},
     "output_type": "display_data"
    },
    {
     "data": {
      "text/plain": [
       "'-- jump = -1, j = 0'"
      ]
     },
     "metadata": {},
     "output_type": "display_data"
    },
    {
     "data": {
      "text/plain": [
       "'-- jump = -1, j = 0'"
      ]
     },
     "metadata": {},
     "output_type": "display_data"
    },
    {
     "data": {
      "text/plain": [
       "'-- jump = -1, j = 0'"
      ]
     },
     "metadata": {},
     "output_type": "display_data"
    },
    {
     "data": {
      "text/plain": [
       "'-- jump = -1, j = 0'"
      ]
     },
     "metadata": {},
     "output_type": "display_data"
    },
    {
     "data": {
      "text/plain": [
       "'-- jump = -1, j = 0'"
      ]
     },
     "metadata": {},
     "output_type": "display_data"
    },
    {
     "data": {
      "text/plain": [
       "'-- jump = -1, j = 0'"
      ]
     },
     "metadata": {},
     "output_type": "display_data"
    },
    {
     "data": {
      "text/plain": [
       "'-- jump = -1, j = 0'"
      ]
     },
     "metadata": {},
     "output_type": "display_data"
    },
    {
     "data": {
      "text/plain": [
       "'-- jump = -1, j = 0'"
      ]
     },
     "metadata": {},
     "output_type": "display_data"
    },
    {
     "data": {
      "text/plain": [
       "'-- jump = -1, j = 0'"
      ]
     },
     "metadata": {},
     "output_type": "display_data"
    },
    {
     "data": {
      "text/plain": [
       "'-- jump = -1, j = 0'"
      ]
     },
     "metadata": {},
     "output_type": "display_data"
    },
    {
     "data": {
      "text/plain": [
       "'-- jump = -1, j = 0'"
      ]
     },
     "metadata": {},
     "output_type": "display_data"
    },
    {
     "data": {
      "text/plain": [
       "'-- jump = -1, j = 0'"
      ]
     },
     "metadata": {},
     "output_type": "display_data"
    },
    {
     "data": {
      "text/plain": [
       "'-- jump = -1, j = 0'"
      ]
     },
     "metadata": {},
     "output_type": "display_data"
    },
    {
     "data": {
      "text/plain": [
       "'-- jump = -1, j = 0'"
      ]
     },
     "metadata": {},
     "output_type": "display_data"
    },
    {
     "data": {
      "text/plain": [
       "'-- jump = -1, j = 0'"
      ]
     },
     "metadata": {},
     "output_type": "display_data"
    },
    {
     "data": {
      "text/plain": [
       "'-- jump = -1, j = 0'"
      ]
     },
     "metadata": {},
     "output_type": "display_data"
    },
    {
     "data": {
      "text/plain": [
       "'-- jump = -1, j = 0'"
      ]
     },
     "metadata": {},
     "output_type": "display_data"
    },
    {
     "data": {
      "text/plain": [
       "'-- jump = -1, j = 0'"
      ]
     },
     "metadata": {},
     "output_type": "display_data"
    },
    {
     "data": {
      "text/plain": [
       "'-- jump = -1, j = 0'"
      ]
     },
     "metadata": {},
     "output_type": "display_data"
    },
    {
     "data": {
      "text/plain": [
       "'-- jump = -1, j = 0'"
      ]
     },
     "metadata": {},
     "output_type": "display_data"
    },
    {
     "data": {
      "text/plain": [
       "'-- jump = -1, j = 0'"
      ]
     },
     "metadata": {},
     "output_type": "display_data"
    },
    {
     "data": {
      "text/plain": [
       "'-- jump = -1, j = 0'"
      ]
     },
     "metadata": {},
     "output_type": "display_data"
    },
    {
     "data": {
      "text/plain": [
       "'-- jump = -1, j = 0'"
      ]
     },
     "metadata": {},
     "output_type": "display_data"
    },
    {
     "data": {
      "text/plain": [
       "'-- jump = -1, j = 0'"
      ]
     },
     "metadata": {},
     "output_type": "display_data"
    },
    {
     "data": {
      "text/plain": [
       "'-- jump = -1, j = 0'"
      ]
     },
     "metadata": {},
     "output_type": "display_data"
    },
    {
     "data": {
      "text/plain": [
       "'-- jump = -1, j = 0'"
      ]
     },
     "metadata": {},
     "output_type": "display_data"
    },
    {
     "data": {
      "text/plain": [
       "'-- jump = -1, j = 0'"
      ]
     },
     "metadata": {},
     "output_type": "display_data"
    },
    {
     "data": {
      "text/plain": [
       "'-- jump = -1, j = 0'"
      ]
     },
     "metadata": {},
     "output_type": "display_data"
    },
    {
     "data": {
      "text/plain": [
       "'-- jump = -1, j = 0'"
      ]
     },
     "metadata": {},
     "output_type": "display_data"
    },
    {
     "data": {
      "text/plain": [
       "'-- jump = -1, j = 0'"
      ]
     },
     "metadata": {},
     "output_type": "display_data"
    },
    {
     "data": {
      "text/plain": [
       "'-- jump = -1, j = 0'"
      ]
     },
     "metadata": {},
     "output_type": "display_data"
    },
    {
     "data": {
      "text/plain": [
       "'-- jump = -1, j = 0'"
      ]
     },
     "metadata": {},
     "output_type": "display_data"
    },
    {
     "data": {
      "text/plain": [
       "'-- jump = -1, j = 0'"
      ]
     },
     "metadata": {},
     "output_type": "display_data"
    },
    {
     "data": {
      "text/plain": [
       "'-- jump = -1, j = 0'"
      ]
     },
     "metadata": {},
     "output_type": "display_data"
    },
    {
     "data": {
      "text/plain": [
       "'-- jump = -1, j = 0'"
      ]
     },
     "metadata": {},
     "output_type": "display_data"
    },
    {
     "data": {
      "text/plain": [
       "'-- jump = -1, j = 0'"
      ]
     },
     "metadata": {},
     "output_type": "display_data"
    },
    {
     "data": {
      "text/plain": [
       "'-- jump = -1, j = 0'"
      ]
     },
     "metadata": {},
     "output_type": "display_data"
    },
    {
     "data": {
      "text/plain": [
       "'-- jump = -1, j = 0'"
      ]
     },
     "metadata": {},
     "output_type": "display_data"
    },
    {
     "data": {
      "text/plain": [
       "'-- jump = -1, j = 0'"
      ]
     },
     "metadata": {},
     "output_type": "display_data"
    },
    {
     "data": {
      "text/plain": [
       "'-- jump = -1, j = 0'"
      ]
     },
     "metadata": {},
     "output_type": "display_data"
    },
    {
     "data": {
      "text/plain": [
       "'-- jump = -1, j = 0'"
      ]
     },
     "metadata": {},
     "output_type": "display_data"
    },
    {
     "data": {
      "text/plain": [
       "'-- jump = -1, j = 0'"
      ]
     },
     "metadata": {},
     "output_type": "display_data"
    },
    {
     "data": {
      "text/plain": [
       "'-- jump = -1, j = 0'"
      ]
     },
     "metadata": {},
     "output_type": "display_data"
    },
    {
     "data": {
      "text/plain": [
       "'-- jump = -1, j = 0'"
      ]
     },
     "metadata": {},
     "output_type": "display_data"
    },
    {
     "data": {
      "text/plain": [
       "'-- jump = -1, j = 0'"
      ]
     },
     "metadata": {},
     "output_type": "display_data"
    },
    {
     "data": {
      "text/plain": [
       "'-- jump = -1, j = 0'"
      ]
     },
     "metadata": {},
     "output_type": "display_data"
    },
    {
     "data": {
      "text/plain": [
       "'-- jump = -1, j = 0'"
      ]
     },
     "metadata": {},
     "output_type": "display_data"
    },
    {
     "data": {
      "text/plain": [
       "'-- jump = -1, j = 0'"
      ]
     },
     "metadata": {},
     "output_type": "display_data"
    },
    {
     "data": {
      "text/plain": [
       "'-- jump = -1, j = 0'"
      ]
     },
     "metadata": {},
     "output_type": "display_data"
    },
    {
     "data": {
      "text/plain": [
       "'-- jump = -1, j = 0'"
      ]
     },
     "metadata": {},
     "output_type": "display_data"
    },
    {
     "data": {
      "text/plain": [
       "'-- jump = -1, j = 0'"
      ]
     },
     "metadata": {},
     "output_type": "display_data"
    },
    {
     "data": {
      "text/plain": [
       "'-- jump = -1, j = 0'"
      ]
     },
     "metadata": {},
     "output_type": "display_data"
    },
    {
     "data": {
      "text/plain": [
       "'-- jump = -1, j = 0'"
      ]
     },
     "metadata": {},
     "output_type": "display_data"
    },
    {
     "data": {
      "text/plain": [
       "'-- jump = -1, j = 0'"
      ]
     },
     "metadata": {},
     "output_type": "display_data"
    },
    {
     "data": {
      "text/plain": [
       "'-- jump = -1, j = 0'"
      ]
     },
     "metadata": {},
     "output_type": "display_data"
    },
    {
     "data": {
      "text/plain": [
       "'-- jump = -1, j = 0'"
      ]
     },
     "metadata": {},
     "output_type": "display_data"
    },
    {
     "data": {
      "text/plain": [
       "'-- jump = -1, j = 0'"
      ]
     },
     "metadata": {},
     "output_type": "display_data"
    },
    {
     "data": {
      "text/plain": [
       "'-- jump = -1, j = 0'"
      ]
     },
     "metadata": {},
     "output_type": "display_data"
    },
    {
     "data": {
      "text/plain": [
       "'-- jump = -1, j = 0'"
      ]
     },
     "metadata": {},
     "output_type": "display_data"
    },
    {
     "data": {
      "text/plain": [
       "'-- jump = -1, j = 0'"
      ]
     },
     "metadata": {},
     "output_type": "display_data"
    },
    {
     "data": {
      "text/plain": [
       "'-- jump = -1, j = 0'"
      ]
     },
     "metadata": {},
     "output_type": "display_data"
    },
    {
     "data": {
      "text/plain": [
       "'-- jump = -1, j = 0'"
      ]
     },
     "metadata": {},
     "output_type": "display_data"
    },
    {
     "data": {
      "text/plain": [
       "'-- jump = -1, j = 0'"
      ]
     },
     "metadata": {},
     "output_type": "display_data"
    },
    {
     "data": {
      "text/plain": [
       "'-- jump = -1, j = 0'"
      ]
     },
     "metadata": {},
     "output_type": "display_data"
    },
    {
     "data": {
      "text/plain": [
       "'-- jump = -1, j = 0'"
      ]
     },
     "metadata": {},
     "output_type": "display_data"
    },
    {
     "data": {
      "text/plain": [
       "'-- jump = -1, j = 0'"
      ]
     },
     "metadata": {},
     "output_type": "display_data"
    },
    {
     "data": {
      "text/plain": [
       "'-- jump = -1, j = 0'"
      ]
     },
     "metadata": {},
     "output_type": "display_data"
    },
    {
     "data": {
      "text/plain": [
       "'-- jump = -1, j = 0'"
      ]
     },
     "metadata": {},
     "output_type": "display_data"
    },
    {
     "data": {
      "text/plain": [
       "'-- jump = -1, j = 0'"
      ]
     },
     "metadata": {},
     "output_type": "display_data"
    },
    {
     "data": {
      "text/plain": [
       "'-- jump = -1, j = 0'"
      ]
     },
     "metadata": {},
     "output_type": "display_data"
    },
    {
     "data": {
      "text/plain": [
       "'-- jump = -1, j = 0'"
      ]
     },
     "metadata": {},
     "output_type": "display_data"
    },
    {
     "data": {
      "text/plain": [
       "'-- jump = -1, j = 0'"
      ]
     },
     "metadata": {},
     "output_type": "display_data"
    },
    {
     "data": {
      "text/plain": [
       "'-- jump = -1, j = 0'"
      ]
     },
     "metadata": {},
     "output_type": "display_data"
    },
    {
     "data": {
      "text/plain": [
       "'-- jump = -1, j = 0'"
      ]
     },
     "metadata": {},
     "output_type": "display_data"
    },
    {
     "data": {
      "text/plain": [
       "'-- jump = -1, j = 0'"
      ]
     },
     "metadata": {},
     "output_type": "display_data"
    },
    {
     "data": {
      "text/plain": [
       "'-- jump = -1, j = 0'"
      ]
     },
     "metadata": {},
     "output_type": "display_data"
    },
    {
     "data": {
      "text/plain": [
       "'-- jump = -1, j = 0'"
      ]
     },
     "metadata": {},
     "output_type": "display_data"
    },
    {
     "data": {
      "text/plain": [
       "'-- jump = -1, j = 0'"
      ]
     },
     "metadata": {},
     "output_type": "display_data"
    },
    {
     "data": {
      "text/plain": [
       "'-- jump = -1, j = 0'"
      ]
     },
     "metadata": {},
     "output_type": "display_data"
    },
    {
     "data": {
      "text/plain": [
       "'-- jump = -1, j = 0'"
      ]
     },
     "metadata": {},
     "output_type": "display_data"
    },
    {
     "data": {
      "text/plain": [
       "'-- jump = -1, j = 0'"
      ]
     },
     "metadata": {},
     "output_type": "display_data"
    },
    {
     "data": {
      "text/plain": [
       "'-- jump = -1, j = 0'"
      ]
     },
     "metadata": {},
     "output_type": "display_data"
    },
    {
     "data": {
      "text/plain": [
       "'-- jump = -1, j = 0'"
      ]
     },
     "metadata": {},
     "output_type": "display_data"
    },
    {
     "data": {
      "text/plain": [
       "'-- jump = -1, j = 0'"
      ]
     },
     "metadata": {},
     "output_type": "display_data"
    },
    {
     "data": {
      "text/plain": [
       "'-- jump = -1, j = 0'"
      ]
     },
     "metadata": {},
     "output_type": "display_data"
    },
    {
     "data": {
      "text/plain": [
       "'-- jump = -1, j = 0'"
      ]
     },
     "metadata": {},
     "output_type": "display_data"
    },
    {
     "data": {
      "text/plain": [
       "'-- jump = -1, j = 0'"
      ]
     },
     "metadata": {},
     "output_type": "display_data"
    },
    {
     "data": {
      "text/plain": [
       "'-- jump = -1, j = 0'"
      ]
     },
     "metadata": {},
     "output_type": "display_data"
    },
    {
     "data": {
      "text/plain": [
       "'-- jump = -1, j = 0'"
      ]
     },
     "metadata": {},
     "output_type": "display_data"
    },
    {
     "data": {
      "text/plain": [
       "'-- jump = -1, j = 0'"
      ]
     },
     "metadata": {},
     "output_type": "display_data"
    },
    {
     "data": {
      "text/plain": [
       "'-- jump = -1, j = 0'"
      ]
     },
     "metadata": {},
     "output_type": "display_data"
    },
    {
     "data": {
      "text/plain": [
       "'-- jump = -1, j = 0'"
      ]
     },
     "metadata": {},
     "output_type": "display_data"
    },
    {
     "data": {
      "text/plain": [
       "'-- jump = -1, j = 0'"
      ]
     },
     "metadata": {},
     "output_type": "display_data"
    },
    {
     "data": {
      "text/plain": [
       "'-- jump = -1, j = 0'"
      ]
     },
     "metadata": {},
     "output_type": "display_data"
    },
    {
     "data": {
      "text/plain": [
       "'-- jump = -1, j = 0'"
      ]
     },
     "metadata": {},
     "output_type": "display_data"
    },
    {
     "data": {
      "text/plain": [
       "'-- jump = -1, j = 0'"
      ]
     },
     "metadata": {},
     "output_type": "display_data"
    },
    {
     "data": {
      "text/plain": [
       "'-- jump = -1, j = 0'"
      ]
     },
     "metadata": {},
     "output_type": "display_data"
    },
    {
     "data": {
      "text/plain": [
       "'-- jump = -1, j = 0'"
      ]
     },
     "metadata": {},
     "output_type": "display_data"
    },
    {
     "data": {
      "text/plain": [
       "'-- jump = -1, j = 0'"
      ]
     },
     "metadata": {},
     "output_type": "display_data"
    },
    {
     "data": {
      "text/plain": [
       "'-- jump = -1, j = 0'"
      ]
     },
     "metadata": {},
     "output_type": "display_data"
    },
    {
     "data": {
      "text/plain": [
       "'-- jump = -1, j = 0'"
      ]
     },
     "metadata": {},
     "output_type": "display_data"
    },
    {
     "data": {
      "text/plain": [
       "'-- jump = -1, j = 0'"
      ]
     },
     "metadata": {},
     "output_type": "display_data"
    },
    {
     "data": {
      "text/plain": [
       "'-- jump = -1, j = 0'"
      ]
     },
     "metadata": {},
     "output_type": "display_data"
    },
    {
     "data": {
      "text/plain": [
       "'-- jump = -1, j = 0'"
      ]
     },
     "metadata": {},
     "output_type": "display_data"
    },
    {
     "data": {
      "text/plain": [
       "'-- jump = -1, j = 0'"
      ]
     },
     "metadata": {},
     "output_type": "display_data"
    },
    {
     "data": {
      "text/plain": [
       "'-- jump = -1, j = 0'"
      ]
     },
     "metadata": {},
     "output_type": "display_data"
    },
    {
     "data": {
      "text/plain": [
       "'-- jump = -1, j = 0'"
      ]
     },
     "metadata": {},
     "output_type": "display_data"
    },
    {
     "data": {
      "text/plain": [
       "'-- jump = -1, j = 0'"
      ]
     },
     "metadata": {},
     "output_type": "display_data"
    },
    {
     "data": {
      "text/plain": [
       "'-- jump = -1, j = 0'"
      ]
     },
     "metadata": {},
     "output_type": "display_data"
    },
    {
     "data": {
      "text/plain": [
       "'-- jump = -1, j = 0'"
      ]
     },
     "metadata": {},
     "output_type": "display_data"
    },
    {
     "data": {
      "text/plain": [
       "'-- jump = -1, j = 0'"
      ]
     },
     "metadata": {},
     "output_type": "display_data"
    },
    {
     "data": {
      "text/plain": [
       "'-- jump = -1, j = 0'"
      ]
     },
     "metadata": {},
     "output_type": "display_data"
    },
    {
     "data": {
      "text/plain": [
       "'-- jump = -1, j = 0'"
      ]
     },
     "metadata": {},
     "output_type": "display_data"
    },
    {
     "data": {
      "text/plain": [
       "'-- jump = -1, j = 0'"
      ]
     },
     "metadata": {},
     "output_type": "display_data"
    },
    {
     "data": {
      "text/plain": [
       "'-- jump = -1, j = 0'"
      ]
     },
     "metadata": {},
     "output_type": "display_data"
    },
    {
     "data": {
      "text/plain": [
       "'-- jump = -1, j = 0'"
      ]
     },
     "metadata": {},
     "output_type": "display_data"
    },
    {
     "data": {
      "text/plain": [
       "'-- jump = -1, j = 0'"
      ]
     },
     "metadata": {},
     "output_type": "display_data"
    },
    {
     "data": {
      "text/plain": [
       "'-- jump = -1, j = 0'"
      ]
     },
     "metadata": {},
     "output_type": "display_data"
    },
    {
     "data": {
      "text/plain": [
       "'-- jump = -1, j = 0'"
      ]
     },
     "metadata": {},
     "output_type": "display_data"
    },
    {
     "data": {
      "text/plain": [
       "'-- jump = -1, j = 0'"
      ]
     },
     "metadata": {},
     "output_type": "display_data"
    },
    {
     "data": {
      "text/plain": [
       "'-- jump = -1, j = 0'"
      ]
     },
     "metadata": {},
     "output_type": "display_data"
    },
    {
     "data": {
      "text/plain": [
       "'-- jump = -1, j = 0'"
      ]
     },
     "metadata": {},
     "output_type": "display_data"
    },
    {
     "data": {
      "text/plain": [
       "'-- jump = -1, j = 0'"
      ]
     },
     "metadata": {},
     "output_type": "display_data"
    },
    {
     "data": {
      "text/plain": [
       "'-- jump = -1, j = 0'"
      ]
     },
     "metadata": {},
     "output_type": "display_data"
    },
    {
     "data": {
      "text/plain": [
       "'-- jump = -1, j = 0'"
      ]
     },
     "metadata": {},
     "output_type": "display_data"
    },
    {
     "data": {
      "text/plain": [
       "'-- jump = -1, j = 0'"
      ]
     },
     "metadata": {},
     "output_type": "display_data"
    },
    {
     "data": {
      "text/plain": [
       "'-- jump = -1, j = 0'"
      ]
     },
     "metadata": {},
     "output_type": "display_data"
    },
    {
     "data": {
      "text/plain": [
       "'-- jump = -1, j = 0'"
      ]
     },
     "metadata": {},
     "output_type": "display_data"
    },
    {
     "data": {
      "text/plain": [
       "'-- jump = -1, j = 0'"
      ]
     },
     "metadata": {},
     "output_type": "display_data"
    },
    {
     "data": {
      "text/plain": [
       "'-- jump = -1, j = 0'"
      ]
     },
     "metadata": {},
     "output_type": "display_data"
    },
    {
     "data": {
      "text/plain": [
       "'-- jump = -1, j = 0'"
      ]
     },
     "metadata": {},
     "output_type": "display_data"
    },
    {
     "data": {
      "text/plain": [
       "'-- jump = -1, j = 0'"
      ]
     },
     "metadata": {},
     "output_type": "display_data"
    },
    {
     "data": {
      "text/plain": [
       "'-- jump = -1, j = 0'"
      ]
     },
     "metadata": {},
     "output_type": "display_data"
    },
    {
     "data": {
      "text/plain": [
       "'-- jump = -1, j = 0'"
      ]
     },
     "metadata": {},
     "output_type": "display_data"
    },
    {
     "data": {
      "text/plain": [
       "'-- jump = -1, j = 0'"
      ]
     },
     "metadata": {},
     "output_type": "display_data"
    },
    {
     "data": {
      "text/plain": [
       "'-- jump = -1, j = 0'"
      ]
     },
     "metadata": {},
     "output_type": "display_data"
    },
    {
     "data": {
      "text/plain": [
       "'-- jump = -1, j = 0'"
      ]
     },
     "metadata": {},
     "output_type": "display_data"
    },
    {
     "data": {
      "text/plain": [
       "'-- jump = -1, j = 0'"
      ]
     },
     "metadata": {},
     "output_type": "display_data"
    },
    {
     "data": {
      "text/plain": [
       "'-- jump = -1, j = 0'"
      ]
     },
     "metadata": {},
     "output_type": "display_data"
    },
    {
     "data": {
      "text/plain": [
       "'-- jump = -1, j = 0'"
      ]
     },
     "metadata": {},
     "output_type": "display_data"
    },
    {
     "data": {
      "text/plain": [
       "'-- jump = -1, j = 0'"
      ]
     },
     "metadata": {},
     "output_type": "display_data"
    },
    {
     "data": {
      "text/plain": [
       "'-- jump = -1, j = 0'"
      ]
     },
     "metadata": {},
     "output_type": "display_data"
    },
    {
     "data": {
      "text/plain": [
       "'-- jump = -1, j = 0'"
      ]
     },
     "metadata": {},
     "output_type": "display_data"
    },
    {
     "data": {
      "text/plain": [
       "'-- jump = -1, j = 0'"
      ]
     },
     "metadata": {},
     "output_type": "display_data"
    },
    {
     "data": {
      "text/plain": [
       "'-- jump = -1, j = 0'"
      ]
     },
     "metadata": {},
     "output_type": "display_data"
    },
    {
     "data": {
      "text/plain": [
       "'-- jump = -1, j = 0'"
      ]
     },
     "metadata": {},
     "output_type": "display_data"
    },
    {
     "data": {
      "text/plain": [
       "'-- jump = -1, j = 0'"
      ]
     },
     "metadata": {},
     "output_type": "display_data"
    },
    {
     "data": {
      "text/plain": [
       "'-- jump = -1, j = 0'"
      ]
     },
     "metadata": {},
     "output_type": "display_data"
    },
    {
     "data": {
      "text/plain": [
       "'-- jump = -1, j = 0'"
      ]
     },
     "metadata": {},
     "output_type": "display_data"
    },
    {
     "data": {
      "text/plain": [
       "'-- jump = -1, j = 0'"
      ]
     },
     "metadata": {},
     "output_type": "display_data"
    },
    {
     "data": {
      "text/plain": [
       "'-- jump = -1, j = 0'"
      ]
     },
     "metadata": {},
     "output_type": "display_data"
    },
    {
     "data": {
      "text/plain": [
       "'-- jump = -1, j = 0'"
      ]
     },
     "metadata": {},
     "output_type": "display_data"
    },
    {
     "data": {
      "text/plain": [
       "'-- jump = -1, j = 0'"
      ]
     },
     "metadata": {},
     "output_type": "display_data"
    },
    {
     "data": {
      "text/plain": [
       "'-- jump = -1, j = 0'"
      ]
     },
     "metadata": {},
     "output_type": "display_data"
    },
    {
     "data": {
      "text/plain": [
       "'-- jump = -1, j = 0'"
      ]
     },
     "metadata": {},
     "output_type": "display_data"
    },
    {
     "data": {
      "text/plain": [
       "'-- jump = -1, j = 0'"
      ]
     },
     "metadata": {},
     "output_type": "display_data"
    },
    {
     "data": {
      "text/plain": [
       "'-- jump = -1, j = 0'"
      ]
     },
     "metadata": {},
     "output_type": "display_data"
    },
    {
     "data": {
      "text/plain": [
       "'-- jump = -1, j = 0'"
      ]
     },
     "metadata": {},
     "output_type": "display_data"
    },
    {
     "data": {
      "text/plain": [
       "'-- jump = -1, j = 0'"
      ]
     },
     "metadata": {},
     "output_type": "display_data"
    },
    {
     "data": {
      "text/plain": [
       "'-- jump = -1, j = 0'"
      ]
     },
     "metadata": {},
     "output_type": "display_data"
    },
    {
     "data": {
      "text/plain": [
       "'-- jump = -1, j = 0'"
      ]
     },
     "metadata": {},
     "output_type": "display_data"
    },
    {
     "data": {
      "text/plain": [
       "'-- jump = -1, j = 0'"
      ]
     },
     "metadata": {},
     "output_type": "display_data"
    },
    {
     "data": {
      "text/plain": [
       "'-- jump = -1, j = 0'"
      ]
     },
     "metadata": {},
     "output_type": "display_data"
    },
    {
     "data": {
      "text/plain": [
       "'-- jump = -1, j = 0'"
      ]
     },
     "metadata": {},
     "output_type": "display_data"
    },
    {
     "data": {
      "text/plain": [
       "'-- jump = -1, j = 0'"
      ]
     },
     "metadata": {},
     "output_type": "display_data"
    },
    {
     "data": {
      "text/plain": [
       "'-- jump = -1, j = 0'"
      ]
     },
     "metadata": {},
     "output_type": "display_data"
    },
    {
     "data": {
      "text/plain": [
       "'-- jump = -1, j = 0'"
      ]
     },
     "metadata": {},
     "output_type": "display_data"
    },
    {
     "data": {
      "text/plain": [
       "'-- jump = -1, j = 0'"
      ]
     },
     "metadata": {},
     "output_type": "display_data"
    },
    {
     "data": {
      "text/plain": [
       "'-- jump = -1, j = 0'"
      ]
     },
     "metadata": {},
     "output_type": "display_data"
    },
    {
     "data": {
      "text/plain": [
       "'-- jump = -1, j = 0'"
      ]
     },
     "metadata": {},
     "output_type": "display_data"
    },
    {
     "data": {
      "text/plain": [
       "'-- jump = -1, j = 0'"
      ]
     },
     "metadata": {},
     "output_type": "display_data"
    },
    {
     "data": {
      "text/plain": [
       "'-- jump = -1, j = 0'"
      ]
     },
     "metadata": {},
     "output_type": "display_data"
    },
    {
     "data": {
      "text/plain": [
       "'-- jump = -1, j = 0'"
      ]
     },
     "metadata": {},
     "output_type": "display_data"
    },
    {
     "data": {
      "text/plain": [
       "'-- jump = -1, j = 0'"
      ]
     },
     "metadata": {},
     "output_type": "display_data"
    },
    {
     "data": {
      "text/plain": [
       "'-- jump = -1, j = 0'"
      ]
     },
     "metadata": {},
     "output_type": "display_data"
    },
    {
     "data": {
      "text/plain": [
       "'-- jump = -1, j = 0'"
      ]
     },
     "metadata": {},
     "output_type": "display_data"
    },
    {
     "data": {
      "text/plain": [
       "'-- jump = -1, j = 0'"
      ]
     },
     "metadata": {},
     "output_type": "display_data"
    },
    {
     "data": {
      "text/plain": [
       "'-- jump = -1, j = 0'"
      ]
     },
     "metadata": {},
     "output_type": "display_data"
    },
    {
     "data": {
      "text/plain": [
       "'-- jump = -1, j = 0'"
      ]
     },
     "metadata": {},
     "output_type": "display_data"
    },
    {
     "data": {
      "text/plain": [
       "'-- jump = -1, j = 0'"
      ]
     },
     "metadata": {},
     "output_type": "display_data"
    },
    {
     "data": {
      "text/plain": [
       "'-- jump = -1, j = 0'"
      ]
     },
     "metadata": {},
     "output_type": "display_data"
    },
    {
     "data": {
      "text/plain": [
       "'-- jump = -1, j = 0'"
      ]
     },
     "metadata": {},
     "output_type": "display_data"
    },
    {
     "data": {
      "text/plain": [
       "'-- jump = -1, j = 0'"
      ]
     },
     "metadata": {},
     "output_type": "display_data"
    },
    {
     "data": {
      "text/plain": [
       "'-- jump = -1, j = 0'"
      ]
     },
     "metadata": {},
     "output_type": "display_data"
    },
    {
     "data": {
      "text/plain": [
       "'-- jump = -1, j = 0'"
      ]
     },
     "metadata": {},
     "output_type": "display_data"
    },
    {
     "data": {
      "text/plain": [
       "'-- jump = -1, j = 0'"
      ]
     },
     "metadata": {},
     "output_type": "display_data"
    },
    {
     "data": {
      "text/plain": [
       "'-- jump = -1, j = 0'"
      ]
     },
     "metadata": {},
     "output_type": "display_data"
    },
    {
     "data": {
      "text/plain": [
       "'-- jump = -1, j = 0'"
      ]
     },
     "metadata": {},
     "output_type": "display_data"
    },
    {
     "data": {
      "text/plain": [
       "'-- jump = -1, j = 0'"
      ]
     },
     "metadata": {},
     "output_type": "display_data"
    },
    {
     "data": {
      "text/plain": [
       "'-- jump = -1, j = 0'"
      ]
     },
     "metadata": {},
     "output_type": "display_data"
    },
    {
     "data": {
      "text/plain": [
       "'-- jump = -1, j = 0'"
      ]
     },
     "metadata": {},
     "output_type": "display_data"
    },
    {
     "data": {
      "text/plain": [
       "'-- jump = -1, j = 0'"
      ]
     },
     "metadata": {},
     "output_type": "display_data"
    },
    {
     "data": {
      "text/plain": [
       "'-- jump = -1, j = 0'"
      ]
     },
     "metadata": {},
     "output_type": "display_data"
    },
    {
     "data": {
      "text/plain": [
       "'-- jump = -1, j = 0'"
      ]
     },
     "metadata": {},
     "output_type": "display_data"
    },
    {
     "data": {
      "text/plain": [
       "'-- jump = -1, j = 0'"
      ]
     },
     "metadata": {},
     "output_type": "display_data"
    },
    {
     "data": {
      "text/plain": [
       "'-- jump = -1, j = 0'"
      ]
     },
     "metadata": {},
     "output_type": "display_data"
    },
    {
     "data": {
      "text/plain": [
       "'-- jump = -1, j = 0'"
      ]
     },
     "metadata": {},
     "output_type": "display_data"
    },
    {
     "data": {
      "text/plain": [
       "'-- jump = -1, j = 0'"
      ]
     },
     "metadata": {},
     "output_type": "display_data"
    },
    {
     "data": {
      "text/plain": [
       "'-- jump = -1, j = 0'"
      ]
     },
     "metadata": {},
     "output_type": "display_data"
    },
    {
     "data": {
      "text/plain": [
       "'-- jump = -1, j = 0'"
      ]
     },
     "metadata": {},
     "output_type": "display_data"
    },
    {
     "data": {
      "text/plain": [
       "'-- jump = -1, j = 0'"
      ]
     },
     "metadata": {},
     "output_type": "display_data"
    },
    {
     "ename": "KeyboardInterrupt",
     "evalue": "",
     "output_type": "error",
     "traceback": [
      "\u001b[0;31m---------------------------------------------------------------------------\u001b[0m",
      "\u001b[0;31mKeyboardInterrupt\u001b[0m                         Traceback (most recent call last)",
      "\u001b[0;32m<ipython-input-46-3eb1c436d7cd>\u001b[0m in \u001b[0;36m<module>\u001b[0;34m\u001b[0m\n\u001b[1;32m      1\u001b[0m \u001b[0mP_2\u001b[0m\u001b[0;34m.\u001b[0m\u001b[0mclear\u001b[0m\u001b[0;34m(\u001b[0m\u001b[0;34m)\u001b[0m\u001b[0;34m\u001b[0m\u001b[0;34m\u001b[0m\u001b[0m\n\u001b[0;32m----> 2\u001b[0;31m \u001b[0msmartScanEdges\u001b[0m\u001b[0;34m(\u001b[0m\u001b[0mP_2\u001b[0m\u001b[0;34m,\u001b[0m \u001b[0mcity_dataframe\u001b[0m\u001b[0;34m,\u001b[0m \u001b[0mradius\u001b[0m\u001b[0;34m)\u001b[0m\u001b[0;34m\u001b[0m\u001b[0;34m\u001b[0m\u001b[0m\n\u001b[0m",
      "\u001b[0;32m<ipython-input-12-63c28d0405ff>\u001b[0m in \u001b[0;36msmartScanEdges\u001b[0;34m(graph, dataframe, radius)\u001b[0m\n\u001b[1;32m      1\u001b[0m \u001b[0;32mdef\u001b[0m \u001b[0msmartScanEdges\u001b[0m\u001b[0;34m(\u001b[0m\u001b[0mgraph\u001b[0m\u001b[0;34m,\u001b[0m \u001b[0mdataframe\u001b[0m\u001b[0;34m,\u001b[0m \u001b[0mradius\u001b[0m\u001b[0;34m)\u001b[0m\u001b[0;34m:\u001b[0m\u001b[0;34m\u001b[0m\u001b[0;34m\u001b[0m\u001b[0m\n\u001b[0;32m----> 2\u001b[0;31m     \u001b[0mxEdges\u001b[0m \u001b[0;34m=\u001b[0m \u001b[0msmartScan\u001b[0m\u001b[0;34m(\u001b[0m\u001b[0mdataframe\u001b[0m\u001b[0;34m,\u001b[0m \u001b[0mradius\u001b[0m\u001b[0;34m)\u001b[0m\u001b[0;34m\u001b[0m\u001b[0;34m\u001b[0m\u001b[0m\n\u001b[0m\u001b[1;32m      3\u001b[0m     \u001b[0myEdges\u001b[0m \u001b[0;34m=\u001b[0m \u001b[0msmartScan\u001b[0m\u001b[0;34m(\u001b[0m\u001b[0mdataframe\u001b[0m\u001b[0;34m.\u001b[0m\u001b[0miloc\u001b[0m\u001b[0;34m[\u001b[0m\u001b[0;34m:\u001b[0m\u001b[0;34m,\u001b[0m \u001b[0;36m0\u001b[0m\u001b[0;34m:\u001b[0m\u001b[0;34m:\u001b[0m\u001b[0;36m2\u001b[0m\u001b[0;34m]\u001b[0m\u001b[0;34m,\u001b[0m  \u001b[0mradius\u001b[0m\u001b[0;34m)\u001b[0m\u001b[0;34m\u001b[0m\u001b[0;34m\u001b[0m\u001b[0m\n\u001b[1;32m      4\u001b[0m \u001b[0;34m\u001b[0m\u001b[0m\n\u001b[1;32m      5\u001b[0m     \u001b[0;31m# O(n)\u001b[0m\u001b[0;34m\u001b[0m\u001b[0;34m\u001b[0m\u001b[0;34m\u001b[0m\u001b[0m\n",
      "\u001b[0;32m<ipython-input-45-5604c431a1f8>\u001b[0m in \u001b[0;36msmartScan\u001b[0;34m(dataframe, radius)\u001b[0m\n\u001b[1;32m     15\u001b[0m \u001b[0;34m\u001b[0m\u001b[0m\n\u001b[1;32m     16\u001b[0m         \u001b[0mjump\u001b[0m \u001b[0;34m=\u001b[0m \u001b[0mint\u001b[0m\u001b[0;34m(\u001b[0m\u001b[0;34m(\u001b[0m\u001b[0mtmpDataframe\u001b[0m\u001b[0;34m.\u001b[0m\u001b[0miloc\u001b[0m\u001b[0;34m[\u001b[0m\u001b[0mj\u001b[0m\u001b[0;34m,\u001b[0m \u001b[0;36m1\u001b[0m\u001b[0;34m]\u001b[0m \u001b[0;34m-\u001b[0m \u001b[0mtmpDataframe\u001b[0m\u001b[0;34m.\u001b[0m\u001b[0miloc\u001b[0m\u001b[0;34m[\u001b[0m\u001b[0mi\u001b[0m\u001b[0;34m,\u001b[0m \u001b[0;36m1\u001b[0m\u001b[0;34m]\u001b[0m \u001b[0;34m+\u001b[0m \u001b[0mradius\u001b[0m\u001b[0;34m)\u001b[0m \u001b[0;34m/\u001b[0m \u001b[0mstep\u001b[0m\u001b[0;34m)\u001b[0m\u001b[0;34m\u001b[0m\u001b[0;34m\u001b[0m\u001b[0m\n\u001b[0;32m---> 17\u001b[0;31m         \u001b[0;32mwhile\u001b[0m \u001b[0mj\u001b[0m \u001b[0;34m<\u001b[0m \u001b[0mtmpDataframe\u001b[0m\u001b[0;34m.\u001b[0m\u001b[0mcount\u001b[0m\u001b[0;34m(\u001b[0m\u001b[0;34m)\u001b[0m\u001b[0;34m[\u001b[0m\u001b[0;36m0\u001b[0m\u001b[0;34m]\u001b[0m \u001b[0;34m-\u001b[0m \u001b[0;36m1\u001b[0m \u001b[0;32mand\u001b[0m\u001b[0;31m \u001b[0m\u001b[0;31m\\\u001b[0m\u001b[0;34m\u001b[0m\u001b[0;34m\u001b[0m\u001b[0m\n\u001b[0m\u001b[1;32m     18\u001b[0m         (tmpDataframe.iloc[i, 1] + radius < tmpDataframe.iloc[j, 1] or \\\n\u001b[1;32m     19\u001b[0m         tmpDataframe.iloc[i, 1] + radius >= tmpDataframe.iloc[j + 1, 1]):\n",
      "\u001b[0;32m~/Scuola/Università/Magistrale/Algorithms and Programming for Massive Data/Progetto/virt_env/lib/python3.8/site-packages/pandas/core/frame.py\u001b[0m in \u001b[0;36mcount\u001b[0;34m(self, axis, level, numeric_only)\u001b[0m\n\u001b[1;32m   7798\u001b[0m                 \u001b[0;31m# the or any_extension_types is really only hit for single-\u001b[0m\u001b[0;34m\u001b[0m\u001b[0;34m\u001b[0m\u001b[0;34m\u001b[0m\u001b[0m\n\u001b[1;32m   7799\u001b[0m                 \u001b[0;31m# column frames with an extension array\u001b[0m\u001b[0;34m\u001b[0m\u001b[0;34m\u001b[0m\u001b[0;34m\u001b[0m\u001b[0m\n\u001b[0;32m-> 7800\u001b[0;31m                 \u001b[0mresult\u001b[0m \u001b[0;34m=\u001b[0m \u001b[0mnotna\u001b[0m\u001b[0;34m(\u001b[0m\u001b[0mframe\u001b[0m\u001b[0;34m)\u001b[0m\u001b[0;34m.\u001b[0m\u001b[0msum\u001b[0m\u001b[0;34m(\u001b[0m\u001b[0maxis\u001b[0m\u001b[0;34m=\u001b[0m\u001b[0maxis\u001b[0m\u001b[0;34m)\u001b[0m\u001b[0;34m\u001b[0m\u001b[0;34m\u001b[0m\u001b[0m\n\u001b[0m\u001b[1;32m   7801\u001b[0m             \u001b[0;32melse\u001b[0m\u001b[0;34m:\u001b[0m\u001b[0;34m\u001b[0m\u001b[0;34m\u001b[0m\u001b[0m\n\u001b[1;32m   7802\u001b[0m                 \u001b[0;31m# GH13407\u001b[0m\u001b[0;34m\u001b[0m\u001b[0;34m\u001b[0m\u001b[0;34m\u001b[0m\u001b[0m\n",
      "\u001b[0;32m~/Scuola/Università/Magistrale/Algorithms and Programming for Massive Data/Progetto/virt_env/lib/python3.8/site-packages/pandas/core/dtypes/missing.py\u001b[0m in \u001b[0;36mnotna\u001b[0;34m(obj)\u001b[0m\n\u001b[1;32m    385\u001b[0m     \u001b[0;32mif\u001b[0m \u001b[0mis_scalar\u001b[0m\u001b[0;34m(\u001b[0m\u001b[0mres\u001b[0m\u001b[0;34m)\u001b[0m\u001b[0;34m:\u001b[0m\u001b[0;34m\u001b[0m\u001b[0;34m\u001b[0m\u001b[0m\n\u001b[1;32m    386\u001b[0m         \u001b[0;32mreturn\u001b[0m \u001b[0;32mnot\u001b[0m \u001b[0mres\u001b[0m\u001b[0;34m\u001b[0m\u001b[0;34m\u001b[0m\u001b[0m\n\u001b[0;32m--> 387\u001b[0;31m     \u001b[0;32mreturn\u001b[0m \u001b[0;34m~\u001b[0m\u001b[0mres\u001b[0m\u001b[0;34m\u001b[0m\u001b[0;34m\u001b[0m\u001b[0m\n\u001b[0m\u001b[1;32m    388\u001b[0m \u001b[0;34m\u001b[0m\u001b[0m\n\u001b[1;32m    389\u001b[0m \u001b[0;34m\u001b[0m\u001b[0m\n",
      "\u001b[0;32m~/Scuola/Università/Magistrale/Algorithms and Programming for Massive Data/Progetto/virt_env/lib/python3.8/site-packages/pandas/core/generic.py\u001b[0m in \u001b[0;36m__invert__\u001b[0;34m(self)\u001b[0m\n\u001b[1;32m   1471\u001b[0m             \u001b[0;32mreturn\u001b[0m \u001b[0mself\u001b[0m\u001b[0;34m\u001b[0m\u001b[0;34m\u001b[0m\u001b[0m\n\u001b[1;32m   1472\u001b[0m \u001b[0;34m\u001b[0m\u001b[0m\n\u001b[0;32m-> 1473\u001b[0;31m         \u001b[0mnew_data\u001b[0m \u001b[0;34m=\u001b[0m \u001b[0mself\u001b[0m\u001b[0;34m.\u001b[0m\u001b[0m_data\u001b[0m\u001b[0;34m.\u001b[0m\u001b[0mapply\u001b[0m\u001b[0;34m(\u001b[0m\u001b[0moperator\u001b[0m\u001b[0;34m.\u001b[0m\u001b[0minvert\u001b[0m\u001b[0;34m)\u001b[0m\u001b[0;34m\u001b[0m\u001b[0;34m\u001b[0m\u001b[0m\n\u001b[0m\u001b[1;32m   1474\u001b[0m         \u001b[0mresult\u001b[0m \u001b[0;34m=\u001b[0m \u001b[0mself\u001b[0m\u001b[0;34m.\u001b[0m\u001b[0m_constructor\u001b[0m\u001b[0;34m(\u001b[0m\u001b[0mnew_data\u001b[0m\u001b[0;34m)\u001b[0m\u001b[0;34m.\u001b[0m\u001b[0m__finalize__\u001b[0m\u001b[0;34m(\u001b[0m\u001b[0mself\u001b[0m\u001b[0;34m)\u001b[0m\u001b[0;34m\u001b[0m\u001b[0;34m\u001b[0m\u001b[0m\n\u001b[1;32m   1475\u001b[0m         \u001b[0;32mreturn\u001b[0m \u001b[0mresult\u001b[0m\u001b[0;34m\u001b[0m\u001b[0;34m\u001b[0m\u001b[0m\n",
      "\u001b[0;32m~/Scuola/Università/Magistrale/Algorithms and Programming for Massive Data/Progetto/virt_env/lib/python3.8/site-packages/pandas/core/internals/managers.py\u001b[0m in \u001b[0;36mapply\u001b[0;34m(self, f, filter, **kwargs)\u001b[0m\n\u001b[1;32m    438\u001b[0m \u001b[0;34m\u001b[0m\u001b[0m\n\u001b[1;32m    439\u001b[0m             \u001b[0;32mif\u001b[0m \u001b[0mcallable\u001b[0m\u001b[0;34m(\u001b[0m\u001b[0mf\u001b[0m\u001b[0;34m)\u001b[0m\u001b[0;34m:\u001b[0m\u001b[0;34m\u001b[0m\u001b[0;34m\u001b[0m\u001b[0m\n\u001b[0;32m--> 440\u001b[0;31m                 \u001b[0mapplied\u001b[0m \u001b[0;34m=\u001b[0m \u001b[0mb\u001b[0m\u001b[0;34m.\u001b[0m\u001b[0mapply\u001b[0m\u001b[0;34m(\u001b[0m\u001b[0mf\u001b[0m\u001b[0;34m,\u001b[0m \u001b[0;34m**\u001b[0m\u001b[0mkwargs\u001b[0m\u001b[0;34m)\u001b[0m\u001b[0;34m\u001b[0m\u001b[0;34m\u001b[0m\u001b[0m\n\u001b[0m\u001b[1;32m    441\u001b[0m             \u001b[0;32melse\u001b[0m\u001b[0;34m:\u001b[0m\u001b[0;34m\u001b[0m\u001b[0;34m\u001b[0m\u001b[0m\n\u001b[1;32m    442\u001b[0m                 \u001b[0mapplied\u001b[0m \u001b[0;34m=\u001b[0m \u001b[0mgetattr\u001b[0m\u001b[0;34m(\u001b[0m\u001b[0mb\u001b[0m\u001b[0;34m,\u001b[0m \u001b[0mf\u001b[0m\u001b[0;34m)\u001b[0m\u001b[0;34m(\u001b[0m\u001b[0;34m**\u001b[0m\u001b[0mkwargs\u001b[0m\u001b[0;34m)\u001b[0m\u001b[0;34m\u001b[0m\u001b[0;34m\u001b[0m\u001b[0m\n",
      "\u001b[0;32m~/Scuola/Università/Magistrale/Algorithms and Programming for Massive Data/Progetto/virt_env/lib/python3.8/site-packages/pandas/core/internals/blocks.py\u001b[0m in \u001b[0;36mapply\u001b[0;34m(self, func, **kwargs)\u001b[0m\n\u001b[1;32m    401\u001b[0m \u001b[0;34m\u001b[0m\u001b[0m\n\u001b[1;32m    402\u001b[0m         \u001b[0;32mif\u001b[0m \u001b[0;32mnot\u001b[0m \u001b[0misinstance\u001b[0m\u001b[0;34m(\u001b[0m\u001b[0mresult\u001b[0m\u001b[0;34m,\u001b[0m \u001b[0mBlock\u001b[0m\u001b[0;34m)\u001b[0m\u001b[0;34m:\u001b[0m\u001b[0;34m\u001b[0m\u001b[0;34m\u001b[0m\u001b[0m\n\u001b[0;32m--> 403\u001b[0;31m             \u001b[0mresult\u001b[0m \u001b[0;34m=\u001b[0m \u001b[0mself\u001b[0m\u001b[0;34m.\u001b[0m\u001b[0mmake_block\u001b[0m\u001b[0;34m(\u001b[0m\u001b[0mvalues\u001b[0m\u001b[0;34m=\u001b[0m\u001b[0m_block_shape\u001b[0m\u001b[0;34m(\u001b[0m\u001b[0mresult\u001b[0m\u001b[0;34m,\u001b[0m \u001b[0mndim\u001b[0m\u001b[0;34m=\u001b[0m\u001b[0mself\u001b[0m\u001b[0;34m.\u001b[0m\u001b[0mndim\u001b[0m\u001b[0;34m)\u001b[0m\u001b[0;34m)\u001b[0m\u001b[0;34m\u001b[0m\u001b[0;34m\u001b[0m\u001b[0m\n\u001b[0m\u001b[1;32m    404\u001b[0m \u001b[0;34m\u001b[0m\u001b[0m\n\u001b[1;32m    405\u001b[0m         \u001b[0;32mreturn\u001b[0m \u001b[0mresult\u001b[0m\u001b[0;34m\u001b[0m\u001b[0;34m\u001b[0m\u001b[0m\n",
      "\u001b[0;32m~/Scuola/Università/Magistrale/Algorithms and Programming for Massive Data/Progetto/virt_env/lib/python3.8/site-packages/pandas/core/internals/blocks.py\u001b[0m in \u001b[0;36mmake_block\u001b[0;34m(self, values, placement)\u001b[0m\n\u001b[1;32m    271\u001b[0m             \u001b[0mplacement\u001b[0m \u001b[0;34m=\u001b[0m \u001b[0mself\u001b[0m\u001b[0;34m.\u001b[0m\u001b[0mmgr_locs\u001b[0m\u001b[0;34m\u001b[0m\u001b[0;34m\u001b[0m\u001b[0m\n\u001b[1;32m    272\u001b[0m \u001b[0;34m\u001b[0m\u001b[0m\n\u001b[0;32m--> 273\u001b[0;31m         \u001b[0;32mreturn\u001b[0m \u001b[0mmake_block\u001b[0m\u001b[0;34m(\u001b[0m\u001b[0mvalues\u001b[0m\u001b[0;34m,\u001b[0m \u001b[0mplacement\u001b[0m\u001b[0;34m=\u001b[0m\u001b[0mplacement\u001b[0m\u001b[0;34m,\u001b[0m \u001b[0mndim\u001b[0m\u001b[0;34m=\u001b[0m\u001b[0mself\u001b[0m\u001b[0;34m.\u001b[0m\u001b[0mndim\u001b[0m\u001b[0;34m)\u001b[0m\u001b[0;34m\u001b[0m\u001b[0;34m\u001b[0m\u001b[0m\n\u001b[0m\u001b[1;32m    274\u001b[0m \u001b[0;34m\u001b[0m\u001b[0m\n\u001b[1;32m    275\u001b[0m     \u001b[0;32mdef\u001b[0m \u001b[0mmake_block_same_class\u001b[0m\u001b[0;34m(\u001b[0m\u001b[0mself\u001b[0m\u001b[0;34m,\u001b[0m \u001b[0mvalues\u001b[0m\u001b[0;34m,\u001b[0m \u001b[0mplacement\u001b[0m\u001b[0;34m=\u001b[0m\u001b[0;32mNone\u001b[0m\u001b[0;34m,\u001b[0m \u001b[0mndim\u001b[0m\u001b[0;34m=\u001b[0m\u001b[0;32mNone\u001b[0m\u001b[0;34m)\u001b[0m\u001b[0;34m:\u001b[0m\u001b[0;34m\u001b[0m\u001b[0;34m\u001b[0m\u001b[0m\n",
      "\u001b[0;32m~/Scuola/Università/Magistrale/Algorithms and Programming for Massive Data/Progetto/virt_env/lib/python3.8/site-packages/pandas/core/internals/blocks.py\u001b[0m in \u001b[0;36mmake_block\u001b[0;34m(values, placement, klass, ndim, dtype)\u001b[0m\n\u001b[1;32m   3044\u001b[0m     \u001b[0;32mif\u001b[0m \u001b[0mklass\u001b[0m \u001b[0;32mis\u001b[0m \u001b[0;32mNone\u001b[0m\u001b[0;34m:\u001b[0m\u001b[0;34m\u001b[0m\u001b[0;34m\u001b[0m\u001b[0m\n\u001b[1;32m   3045\u001b[0m         \u001b[0mdtype\u001b[0m \u001b[0;34m=\u001b[0m \u001b[0mdtype\u001b[0m \u001b[0;32mor\u001b[0m \u001b[0mvalues\u001b[0m\u001b[0;34m.\u001b[0m\u001b[0mdtype\u001b[0m\u001b[0;34m\u001b[0m\u001b[0;34m\u001b[0m\u001b[0m\n\u001b[0;32m-> 3046\u001b[0;31m         \u001b[0mklass\u001b[0m \u001b[0;34m=\u001b[0m \u001b[0mget_block_type\u001b[0m\u001b[0;34m(\u001b[0m\u001b[0mvalues\u001b[0m\u001b[0;34m,\u001b[0m \u001b[0mdtype\u001b[0m\u001b[0;34m)\u001b[0m\u001b[0;34m\u001b[0m\u001b[0;34m\u001b[0m\u001b[0m\n\u001b[0m\u001b[1;32m   3047\u001b[0m \u001b[0;34m\u001b[0m\u001b[0m\n\u001b[1;32m   3048\u001b[0m     \u001b[0;32melif\u001b[0m \u001b[0mklass\u001b[0m \u001b[0;32mis\u001b[0m \u001b[0mDatetimeTZBlock\u001b[0m \u001b[0;32mand\u001b[0m \u001b[0;32mnot\u001b[0m \u001b[0mis_datetime64tz_dtype\u001b[0m\u001b[0;34m(\u001b[0m\u001b[0mvalues\u001b[0m\u001b[0;34m)\u001b[0m\u001b[0;34m:\u001b[0m\u001b[0;34m\u001b[0m\u001b[0;34m\u001b[0m\u001b[0m\n",
      "\u001b[0;32m~/Scuola/Università/Magistrale/Algorithms and Programming for Massive Data/Progetto/virt_env/lib/python3.8/site-packages/pandas/core/internals/blocks.py\u001b[0m in \u001b[0;36mget_block_type\u001b[0;34m(values, dtype)\u001b[0m\n\u001b[1;32m   3004\u001b[0m         \u001b[0;31m# Need this first(ish) so that Sparse[datetime] is sparse\u001b[0m\u001b[0;34m\u001b[0m\u001b[0;34m\u001b[0m\u001b[0;34m\u001b[0m\u001b[0m\n\u001b[1;32m   3005\u001b[0m         \u001b[0mcls\u001b[0m \u001b[0;34m=\u001b[0m \u001b[0mExtensionBlock\u001b[0m\u001b[0;34m\u001b[0m\u001b[0;34m\u001b[0m\u001b[0m\n\u001b[0;32m-> 3006\u001b[0;31m     \u001b[0;32melif\u001b[0m \u001b[0mis_categorical\u001b[0m\u001b[0;34m(\u001b[0m\u001b[0mvalues\u001b[0m\u001b[0;34m)\u001b[0m\u001b[0;34m:\u001b[0m\u001b[0;34m\u001b[0m\u001b[0;34m\u001b[0m\u001b[0m\n\u001b[0m\u001b[1;32m   3007\u001b[0m         \u001b[0mcls\u001b[0m \u001b[0;34m=\u001b[0m \u001b[0mCategoricalBlock\u001b[0m\u001b[0;34m\u001b[0m\u001b[0;34m\u001b[0m\u001b[0m\n\u001b[1;32m   3008\u001b[0m     \u001b[0;32melif\u001b[0m \u001b[0missubclass\u001b[0m\u001b[0;34m(\u001b[0m\u001b[0mvtype\u001b[0m\u001b[0;34m,\u001b[0m \u001b[0mnp\u001b[0m\u001b[0;34m.\u001b[0m\u001b[0mdatetime64\u001b[0m\u001b[0;34m)\u001b[0m\u001b[0;34m:\u001b[0m\u001b[0;34m\u001b[0m\u001b[0;34m\u001b[0m\u001b[0m\n",
      "\u001b[0;32m~/Scuola/Università/Magistrale/Algorithms and Programming for Massive Data/Progetto/virt_env/lib/python3.8/site-packages/pandas/core/dtypes/common.py\u001b[0m in \u001b[0;36mis_categorical\u001b[0;34m(arr)\u001b[0m\n\u001b[1;32m    367\u001b[0m     \"\"\"\n\u001b[1;32m    368\u001b[0m \u001b[0;34m\u001b[0m\u001b[0m\n\u001b[0;32m--> 369\u001b[0;31m     \u001b[0;32mreturn\u001b[0m \u001b[0misinstance\u001b[0m\u001b[0;34m(\u001b[0m\u001b[0marr\u001b[0m\u001b[0;34m,\u001b[0m \u001b[0mABCCategorical\u001b[0m\u001b[0;34m)\u001b[0m \u001b[0;32mor\u001b[0m \u001b[0mis_categorical_dtype\u001b[0m\u001b[0;34m(\u001b[0m\u001b[0marr\u001b[0m\u001b[0;34m)\u001b[0m\u001b[0;34m\u001b[0m\u001b[0;34m\u001b[0m\u001b[0m\n\u001b[0m\u001b[1;32m    370\u001b[0m \u001b[0;34m\u001b[0m\u001b[0m\n\u001b[1;32m    371\u001b[0m \u001b[0;34m\u001b[0m\u001b[0m\n",
      "\u001b[0;32m~/Scuola/Università/Magistrale/Algorithms and Programming for Massive Data/Progetto/virt_env/lib/python3.8/site-packages/pandas/core/dtypes/common.py\u001b[0m in \u001b[0;36mis_categorical_dtype\u001b[0;34m(arr_or_dtype)\u001b[0m\n\u001b[1;32m    570\u001b[0m     \u001b[0;32mif\u001b[0m \u001b[0marr_or_dtype\u001b[0m \u001b[0;32mis\u001b[0m \u001b[0;32mNone\u001b[0m\u001b[0;34m:\u001b[0m\u001b[0;34m\u001b[0m\u001b[0;34m\u001b[0m\u001b[0m\n\u001b[1;32m    571\u001b[0m         \u001b[0;32mreturn\u001b[0m \u001b[0;32mFalse\u001b[0m\u001b[0;34m\u001b[0m\u001b[0;34m\u001b[0m\u001b[0m\n\u001b[0;32m--> 572\u001b[0;31m     \u001b[0;32mreturn\u001b[0m \u001b[0mCategoricalDtype\u001b[0m\u001b[0;34m.\u001b[0m\u001b[0mis_dtype\u001b[0m\u001b[0;34m(\u001b[0m\u001b[0marr_or_dtype\u001b[0m\u001b[0;34m)\u001b[0m\u001b[0;34m\u001b[0m\u001b[0;34m\u001b[0m\u001b[0m\n\u001b[0m\u001b[1;32m    573\u001b[0m \u001b[0;34m\u001b[0m\u001b[0m\n\u001b[1;32m    574\u001b[0m \u001b[0;34m\u001b[0m\u001b[0m\n",
      "\u001b[0;32m~/Scuola/Università/Magistrale/Algorithms and Programming for Massive Data/Progetto/virt_env/lib/python3.8/site-packages/pandas/core/dtypes/base.py\u001b[0m in \u001b[0;36mis_dtype\u001b[0;34m(cls, dtype)\u001b[0m\n\u001b[1;32m    271\u001b[0m         \u001b[0mdtype\u001b[0m \u001b[0;34m=\u001b[0m \u001b[0mgetattr\u001b[0m\u001b[0;34m(\u001b[0m\u001b[0mdtype\u001b[0m\u001b[0;34m,\u001b[0m \u001b[0;34m\"dtype\"\u001b[0m\u001b[0;34m,\u001b[0m \u001b[0mdtype\u001b[0m\u001b[0;34m)\u001b[0m\u001b[0;34m\u001b[0m\u001b[0;34m\u001b[0m\u001b[0m\n\u001b[1;32m    272\u001b[0m \u001b[0;34m\u001b[0m\u001b[0m\n\u001b[0;32m--> 273\u001b[0;31m         \u001b[0;32mif\u001b[0m \u001b[0misinstance\u001b[0m\u001b[0;34m(\u001b[0m\u001b[0mdtype\u001b[0m\u001b[0;34m,\u001b[0m \u001b[0;34m(\u001b[0m\u001b[0mABCSeries\u001b[0m\u001b[0;34m,\u001b[0m \u001b[0mABCIndexClass\u001b[0m\u001b[0;34m,\u001b[0m \u001b[0mABCDataFrame\u001b[0m\u001b[0;34m,\u001b[0m \u001b[0mnp\u001b[0m\u001b[0;34m.\u001b[0m\u001b[0mdtype\u001b[0m\u001b[0;34m)\u001b[0m\u001b[0;34m)\u001b[0m\u001b[0;34m:\u001b[0m\u001b[0;34m\u001b[0m\u001b[0;34m\u001b[0m\u001b[0m\n\u001b[0m\u001b[1;32m    274\u001b[0m             \u001b[0;31m# https://github.com/pandas-dev/pandas/issues/22960\u001b[0m\u001b[0;34m\u001b[0m\u001b[0;34m\u001b[0m\u001b[0;34m\u001b[0m\u001b[0m\n\u001b[1;32m    275\u001b[0m             \u001b[0;31m# avoid passing data to `construct_from_string`. This could\u001b[0m\u001b[0;34m\u001b[0m\u001b[0;34m\u001b[0m\u001b[0;34m\u001b[0m\u001b[0m\n",
      "\u001b[0;31mKeyboardInterrupt\u001b[0m: "
     ]
    }
   ],
   "source": [
    "P_2.clear()\n",
    "smartScanEdges(P_2, city_dataframe, radius)"
   ]
  },
  {
   "cell_type": "markdown",
   "metadata": {},
   "source": [
    "def aaa(dataframe, radius):\n",
    "    edges = {}\n",
    "    \n",
    "    tmpDataframe = dataframe.sort_values(by = dataframe.columns[1])\n",
    "    tmpDataframe.reset_index(drop = True, inplace = True)\n",
    "    \n",
    "    i = 0\n",
    "    j = 0\n",
    "    step = (tmpDataframe.iloc[-1, 1] - tmpDataframe.iloc[0, 1]) / tmpDataframe.count()[0]\n",
    "    display(\"step = \" + str(step))\n",
    "    while j < tmpDataframe.count()[0] - 1:\n",
    "        jump = tmpDataframe.iloc[i, 1] + radius - tmpDataframe.iloc[j, 1]\n",
    "        jump = int(mt.copysign(mt.ceil(abs(jump / step)), jump))\n",
    "        j = min(tmpDataframe.count()[0] - 1, j + jump)\n",
    "        display(\"i = \" + str(i) + \", i_lab = \" + tmpDataframe.iloc[i, 0] + \", a[i] = \" + str(tmpDataframe.iloc[i, 1]) + \\\n",
    "                \", j = \" + str(j) + \", j_lab = \" + tmpDataframe.iloc[j, 0] + \", a[j] = \" + str(tmpDataframe.iloc[j, 1]) +\\\n",
    "                \", jump = \" + str(jump))\n",
    "        while tmpDataframe.iloc[i, 1] + radius < tmpDataframe.iloc[j, 1] or \\\n",
    "        (j != tmpDataframe.count()[0] - 1 and tmpDataframe.iloc[i, 1] + radius >= tmpDataframe.iloc[j + 1, 1]):\n",
    "            jump = int(mt.copysign(mt.ceil(abs(jump / 2)), tmpDataframe.iloc[i, 1] + radius - tmpDataframe.iloc[j, 1]))\n",
    "            j = min(tmpDataframe.count()[0] - 1, j + jump)\n",
    "            display(\"-- jump = \" + str(jump) + \", j = \" + str(j) + \", j_lab = \" + tmpDataframe.iloc[j, 0] + \", a[j] = \" + str(tmpDataframe.iloc[j ,1]))\n",
    "            \n",
    "        edges.update([((tmpDataframe.iloc[snx_elem, 0], tmpDataframe.iloc[dx_elem, 0]), None) \\\n",
    "                      for snx_elem in range(i, j) \\\n",
    "                      for dx_elem in range(snx_elem + 1, j + 1)])\n",
    "        display([((tmpDataframe.iloc[snx_elem, 0], tmpDataframe.iloc[dx_elem, 0]), None) \\\n",
    "                      for snx_elem in range(i, j) \\\n",
    "                      for dx_elem in range(snx_elem + 1, j + 1)])\n",
    "        \n",
    "        if j != tmpDataframe.count()[0] - 1:\n",
    "            j += 1\n",
    "        \n",
    "        prev_i = i\n",
    "        jump = tmpDataframe.iloc[j, 1] - tmpDataframe.iloc[i, 1] - radius\n",
    "        jump = int(mt.copysign(mt.ceil(abs(jump / step)), jump))\n",
    "        i = max(prev_i, i + jump)\n",
    "        display(\"i = \" + str(i) + \", i_lab = \" + tmpDataframe.iloc[i, 0] + \", a[i] = \" + str(tmpDataframe.iloc[i, 1]) + \\\n",
    "                \", j = \" + str(j) + \", j_lab = \" + tmpDataframe.iloc[j, 0] + \", a[j] = \" + str(tmpDataframe.iloc[j, 1]) +\\\n",
    "                \", jump = \" + str(jump))\n",
    "        while tmpDataframe.iloc[i, 1] + radius < tmpDataframe.iloc[j, 1] or \\\n",
    "        (i != prev_i and tmpDataframe.iloc[i - 1, 1] + radius >= tmpDataframe.iloc[j, 1]):\n",
    "            jump = int(mt.copysign(mt.ceil(abs(jump / 2)), tmpDataframe.iloc[j, 1] - tmpDataframe.iloc[i, 1] - radius))                           \n",
    "            i = max(prev_i, i + jump)\n",
    "            display(\"-- jump = \" + str(jump) + \", i = \" + str(i) + \", i_lab = \" + tmpDataframe.iloc[i, 0] + \", a[i] = \" + str(tmpDataframe.iloc[i ,1]))\n",
    "\n",
    "        edges.update([((tmpDataframe.iloc[snx_elem, 0], tmpDataframe.iloc[j, 0]), None) \\\n",
    "                      for snx_elem in range(i, j)])\n",
    "        display([((tmpDataframe.iloc[snx_elem, 0], tmpDataframe.iloc[j, 0]), None) \\\n",
    "                      for snx_elem in range(i, j)])\n",
    "\n",
    "        i += 1\n",
    "        #i = j\n",
    "            \n",
    "    return edges"
   ]
  },
  {
   "cell_type": "code",
   "execution_count": 28,
   "metadata": {},
   "outputs": [
    {
     "data": {
      "text/html": [
       "<div>\n",
       "<style scoped>\n",
       "    .dataframe tbody tr th:only-of-type {\n",
       "        vertical-align: middle;\n",
       "    }\n",
       "\n",
       "    .dataframe tbody tr th {\n",
       "        vertical-align: top;\n",
       "    }\n",
       "\n",
       "    .dataframe thead th {\n",
       "        text-align: right;\n",
       "    }\n",
       "</style>\n",
       "<table border=\"1\" class=\"dataframe\">\n",
       "  <thead>\n",
       "    <tr style=\"text-align: right;\">\n",
       "      <th></th>\n",
       "      <th>denominazione_provincia</th>\n",
       "      <th>lat</th>\n",
       "      <th>long</th>\n",
       "    </tr>\n",
       "  </thead>\n",
       "  <tbody>\n",
       "    <tr>\n",
       "      <th>0</th>\n",
       "      <td>Ragusa</td>\n",
       "      <td>36.925092</td>\n",
       "      <td>14.730699</td>\n",
       "    </tr>\n",
       "    <tr>\n",
       "      <th>1</th>\n",
       "      <td>Siracusa</td>\n",
       "      <td>37.059917</td>\n",
       "      <td>15.293332</td>\n",
       "    </tr>\n",
       "    <tr>\n",
       "      <th>2</th>\n",
       "      <td>Agrigento</td>\n",
       "      <td>37.309711</td>\n",
       "      <td>13.584575</td>\n",
       "    </tr>\n",
       "    <tr>\n",
       "      <th>3</th>\n",
       "      <td>Caltanissetta</td>\n",
       "      <td>37.492132</td>\n",
       "      <td>14.061850</td>\n",
       "    </tr>\n",
       "    <tr>\n",
       "      <th>4</th>\n",
       "      <td>Catania</td>\n",
       "      <td>37.502878</td>\n",
       "      <td>15.087047</td>\n",
       "    </tr>\n",
       "    <tr>\n",
       "      <th>5</th>\n",
       "      <td>Enna</td>\n",
       "      <td>37.567057</td>\n",
       "      <td>14.279094</td>\n",
       "    </tr>\n",
       "    <tr>\n",
       "      <th>6</th>\n",
       "      <td>Trapani</td>\n",
       "      <td>38.018501</td>\n",
       "      <td>12.513657</td>\n",
       "    </tr>\n",
       "    <tr>\n",
       "      <th>7</th>\n",
       "      <td>Reggio di Calabria</td>\n",
       "      <td>38.109228</td>\n",
       "      <td>15.643453</td>\n",
       "    </tr>\n",
       "    <tr>\n",
       "      <th>8</th>\n",
       "      <td>Palermo</td>\n",
       "      <td>38.115697</td>\n",
       "      <td>13.362357</td>\n",
       "    </tr>\n",
       "    <tr>\n",
       "      <th>9</th>\n",
       "      <td>Messina</td>\n",
       "      <td>38.193958</td>\n",
       "      <td>15.555723</td>\n",
       "    </tr>\n",
       "    <tr>\n",
       "      <th>10</th>\n",
       "      <td>Vibo Valentia</td>\n",
       "      <td>38.676241</td>\n",
       "      <td>16.101574</td>\n",
       "    </tr>\n",
       "    <tr>\n",
       "      <th>11</th>\n",
       "      <td>Catanzaro</td>\n",
       "      <td>38.905976</td>\n",
       "      <td>16.594402</td>\n",
       "    </tr>\n",
       "    <tr>\n",
       "      <th>12</th>\n",
       "      <td>Crotone</td>\n",
       "      <td>39.080369</td>\n",
       "      <td>17.125389</td>\n",
       "    </tr>\n",
       "    <tr>\n",
       "      <th>13</th>\n",
       "      <td>Sud Sardegna</td>\n",
       "      <td>39.166415</td>\n",
       "      <td>8.526243</td>\n",
       "    </tr>\n",
       "    <tr>\n",
       "      <th>14</th>\n",
       "      <td>Cagliari</td>\n",
       "      <td>39.215312</td>\n",
       "      <td>9.110616</td>\n",
       "    </tr>\n",
       "  </tbody>\n",
       "</table>\n",
       "</div>"
      ],
      "text/plain": [
       "   denominazione_provincia        lat       long\n",
       "0                   Ragusa  36.925092  14.730699\n",
       "1                 Siracusa  37.059917  15.293332\n",
       "2                Agrigento  37.309711  13.584575\n",
       "3            Caltanissetta  37.492132  14.061850\n",
       "4                  Catania  37.502878  15.087047\n",
       "5                     Enna  37.567057  14.279094\n",
       "6                  Trapani  38.018501  12.513657\n",
       "7       Reggio di Calabria  38.109228  15.643453\n",
       "8                  Palermo  38.115697  13.362357\n",
       "9                  Messina  38.193958  15.555723\n",
       "10           Vibo Valentia  38.676241  16.101574\n",
       "11               Catanzaro  38.905976  16.594402\n",
       "12                 Crotone  39.080369  17.125389\n",
       "13            Sud Sardegna  39.166415   8.526243\n",
       "14                Cagliari  39.215312   9.110616"
      ]
     },
     "execution_count": 28,
     "metadata": {},
     "output_type": "execute_result"
    }
   ],
   "source": [
    "AAAAAA = city_dataframe.sort_values(by = 'lat')\n",
    "AAAAAA.reset_index(drop = True, inplace = True)\n",
    "AAAAAA.iloc[:15, :]"
   ]
  },
  {
   "cell_type": "code",
   "execution_count": 42,
   "metadata": {
    "scrolled": true
   },
   "outputs": [
    {
     "name": "stdout",
     "output_type": "stream",
     "text": [
      "558 ms ± 169 ms per loop (mean ± std. dev. of 7 runs, 1 loop each)\n"
     ]
    }
   ],
   "source": [
    "%%timeit\n",
    "P_2.clear()\n",
    "scanEdges(P_2, city_dataframe, radius)"
   ]
  },
  {
   "cell_type": "code",
   "execution_count": 39,
   "metadata": {},
   "outputs": [
    {
     "data": {
      "text/html": [
       "<div>\n",
       "<style scoped>\n",
       "    .dataframe tbody tr th:only-of-type {\n",
       "        vertical-align: middle;\n",
       "    }\n",
       "\n",
       "    .dataframe tbody tr th {\n",
       "        vertical-align: top;\n",
       "    }\n",
       "\n",
       "    .dataframe thead th {\n",
       "        text-align: right;\n",
       "    }\n",
       "</style>\n",
       "<table border=\"1\" class=\"dataframe\">\n",
       "  <thead>\n",
       "    <tr style=\"text-align: right;\">\n",
       "      <th></th>\n",
       "      <th>denominazione_provincia</th>\n",
       "      <th>lat</th>\n",
       "      <th>long</th>\n",
       "    </tr>\n",
       "  </thead>\n",
       "  <tbody>\n",
       "    <tr>\n",
       "      <th>94</th>\n",
       "      <td>Bergamo</td>\n",
       "      <td>45.694414</td>\n",
       "      <td>9.668425</td>\n",
       "    </tr>\n",
       "    <tr>\n",
       "      <th>95</th>\n",
       "      <td>Aosta</td>\n",
       "      <td>45.737503</td>\n",
       "      <td>7.320149</td>\n",
       "    </tr>\n",
       "    <tr>\n",
       "      <th>96</th>\n",
       "      <td>Como</td>\n",
       "      <td>45.809991</td>\n",
       "      <td>9.085160</td>\n",
       "    </tr>\n",
       "    <tr>\n",
       "      <th>97</th>\n",
       "      <td>Varese</td>\n",
       "      <td>45.817017</td>\n",
       "      <td>8.822868</td>\n",
       "    </tr>\n",
       "    <tr>\n",
       "      <th>98</th>\n",
       "      <td>Lecco</td>\n",
       "      <td>45.855758</td>\n",
       "      <td>9.393392</td>\n",
       "    </tr>\n",
       "    <tr>\n",
       "      <th>99</th>\n",
       "      <td>Verbano-Cusio-Ossola</td>\n",
       "      <td>45.921445</td>\n",
       "      <td>8.551079</td>\n",
       "    </tr>\n",
       "    <tr>\n",
       "      <th>100</th>\n",
       "      <td>Gorizia</td>\n",
       "      <td>45.941498</td>\n",
       "      <td>13.622125</td>\n",
       "    </tr>\n",
       "    <tr>\n",
       "      <th>101</th>\n",
       "      <td>Pordenone</td>\n",
       "      <td>45.954435</td>\n",
       "      <td>12.660029</td>\n",
       "    </tr>\n",
       "    <tr>\n",
       "      <th>102</th>\n",
       "      <td>Udine</td>\n",
       "      <td>46.062555</td>\n",
       "      <td>13.234838</td>\n",
       "    </tr>\n",
       "    <tr>\n",
       "      <th>103</th>\n",
       "      <td>Trento</td>\n",
       "      <td>46.068935</td>\n",
       "      <td>11.121231</td>\n",
       "    </tr>\n",
       "    <tr>\n",
       "      <th>104</th>\n",
       "      <td>Belluno</td>\n",
       "      <td>46.138375</td>\n",
       "      <td>12.217042</td>\n",
       "    </tr>\n",
       "    <tr>\n",
       "      <th>105</th>\n",
       "      <td>Sondrio</td>\n",
       "      <td>46.170993</td>\n",
       "      <td>9.871475</td>\n",
       "    </tr>\n",
       "    <tr>\n",
       "      <th>106</th>\n",
       "      <td>Bolzano</td>\n",
       "      <td>46.499335</td>\n",
       "      <td>11.356624</td>\n",
       "    </tr>\n",
       "  </tbody>\n",
       "</table>\n",
       "</div>"
      ],
      "text/plain": [
       "    denominazione_provincia        lat       long\n",
       "94                  Bergamo  45.694414   9.668425\n",
       "95                    Aosta  45.737503   7.320149\n",
       "96                     Como  45.809991   9.085160\n",
       "97                   Varese  45.817017   8.822868\n",
       "98                    Lecco  45.855758   9.393392\n",
       "99     Verbano-Cusio-Ossola  45.921445   8.551079\n",
       "100                 Gorizia  45.941498  13.622125\n",
       "101               Pordenone  45.954435  12.660029\n",
       "102                   Udine  46.062555  13.234838\n",
       "103                  Trento  46.068935  11.121231\n",
       "104                 Belluno  46.138375  12.217042\n",
       "105                 Sondrio  46.170993   9.871475\n",
       "106                 Bolzano  46.499335  11.356624"
      ]
     },
     "metadata": {},
     "output_type": "display_data"
    },
    {
     "data": {
      "text/plain": [
       "['Agrigento',\n",
       " 'Alessandria',\n",
       " 'Ancona',\n",
       " 'Aosta',\n",
       " 'Arezzo',\n",
       " 'Ascoli Piceno',\n",
       " 'Asti',\n",
       " 'Avellino',\n",
       " 'Bari',\n",
       " 'Barletta-Andria-Trani',\n",
       " 'Belluno',\n",
       " 'Benevento',\n",
       " 'Bergamo',\n",
       " 'Biella',\n",
       " 'Bologna',\n",
       " 'Bolzano',\n",
       " 'Brescia',\n",
       " 'Brindisi',\n",
       " 'Cagliari',\n",
       " 'Caltanissetta',\n",
       " 'Campobasso',\n",
       " 'Caserta',\n",
       " 'Catania',\n",
       " 'Catanzaro',\n",
       " 'Chieti',\n",
       " 'Como',\n",
       " 'Cosenza',\n",
       " 'Cremona',\n",
       " 'Crotone',\n",
       " 'Cuneo',\n",
       " 'Enna',\n",
       " 'Fermo',\n",
       " 'Ferrara',\n",
       " 'Firenze',\n",
       " 'Foggia',\n",
       " 'Forlì-Cesena',\n",
       " 'Frosinone',\n",
       " 'Genova',\n",
       " 'Gorizia',\n",
       " 'Grosseto',\n",
       " 'Imperia',\n",
       " 'Isernia',\n",
       " \"L'Aquila\",\n",
       " 'La Spezia',\n",
       " 'Latina',\n",
       " 'Lecce',\n",
       " 'Lecco',\n",
       " 'Livorno',\n",
       " 'Lodi',\n",
       " 'Lucca',\n",
       " 'Macerata',\n",
       " 'Mantova',\n",
       " 'Massa Carrara',\n",
       " 'Matera',\n",
       " 'Messina',\n",
       " 'Milano',\n",
       " 'Modena',\n",
       " 'Monza e della Brianza',\n",
       " 'Napoli',\n",
       " 'Novara',\n",
       " 'Nuoro',\n",
       " 'Oristano',\n",
       " 'Padova',\n",
       " 'Palermo',\n",
       " 'Parma',\n",
       " 'Pavia',\n",
       " 'Perugia',\n",
       " 'Pesaro e Urbino',\n",
       " 'Pescara',\n",
       " 'Piacenza',\n",
       " 'Pisa',\n",
       " 'Pistoia',\n",
       " 'Pordenone',\n",
       " 'Potenza',\n",
       " 'Prato',\n",
       " 'Ragusa',\n",
       " 'Ravenna',\n",
       " 'Reggio di Calabria',\n",
       " \"Reggio nell'Emilia\",\n",
       " 'Rieti',\n",
       " 'Rimini',\n",
       " 'Roma',\n",
       " 'Rovigo',\n",
       " 'Salerno',\n",
       " 'Sassari',\n",
       " 'Savona',\n",
       " 'Siena',\n",
       " 'Siracusa',\n",
       " 'Sondrio',\n",
       " 'Sud Sardegna',\n",
       " 'Taranto',\n",
       " 'Teramo',\n",
       " 'Terni',\n",
       " 'Torino',\n",
       " 'Trento',\n",
       " 'Treviso',\n",
       " 'Trieste',\n",
       " 'Udine',\n",
       " 'Varese',\n",
       " 'Venezia',\n",
       " 'Verbano-Cusio-Ossola',\n",
       " 'Vercelli',\n",
       " 'Verona',\n",
       " 'Vibo Valentia',\n",
       " 'Vicenza',\n",
       " 'Viterbo']"
      ]
     },
     "metadata": {},
     "output_type": "display_data"
    },
    {
     "data": {
      "text/plain": [
       "['Agrigento',\n",
       " 'Alessandria',\n",
       " 'Ancona',\n",
       " 'Aosta',\n",
       " 'Arezzo',\n",
       " 'Ascoli Piceno',\n",
       " 'Asti',\n",
       " 'Avellino',\n",
       " 'Bari',\n",
       " 'Barletta-Andria-Trani',\n",
       " 'Belluno',\n",
       " 'Benevento',\n",
       " 'Bergamo',\n",
       " 'Biella',\n",
       " 'Bologna',\n",
       " 'Bolzano',\n",
       " 'Brescia',\n",
       " 'Brindisi',\n",
       " 'Cagliari',\n",
       " 'Caltanissetta',\n",
       " 'Campobasso',\n",
       " 'Caserta',\n",
       " 'Catania',\n",
       " 'Catanzaro',\n",
       " 'Chieti',\n",
       " 'Como',\n",
       " 'Cosenza',\n",
       " 'Cremona',\n",
       " 'Crotone',\n",
       " 'Cuneo',\n",
       " 'Enna',\n",
       " 'Fermo',\n",
       " 'Ferrara',\n",
       " 'Firenze',\n",
       " 'Foggia',\n",
       " 'Forlì-Cesena',\n",
       " 'Frosinone',\n",
       " 'Genova',\n",
       " 'Gorizia',\n",
       " 'Grosseto',\n",
       " 'Imperia',\n",
       " 'Isernia',\n",
       " \"L'Aquila\",\n",
       " 'La Spezia',\n",
       " 'Latina',\n",
       " 'Lecce',\n",
       " 'Lecco',\n",
       " 'Livorno',\n",
       " 'Lodi',\n",
       " 'Lucca',\n",
       " 'Macerata',\n",
       " 'Mantova',\n",
       " 'Massa Carrara',\n",
       " 'Matera',\n",
       " 'Messina',\n",
       " 'Milano',\n",
       " 'Modena',\n",
       " 'Monza e della Brianza',\n",
       " 'Napoli',\n",
       " 'Novara',\n",
       " 'Nuoro',\n",
       " 'Oristano',\n",
       " 'Padova',\n",
       " 'Palermo',\n",
       " 'Parma',\n",
       " 'Pavia',\n",
       " 'Perugia',\n",
       " 'Pesaro e Urbino',\n",
       " 'Pescara',\n",
       " 'Piacenza',\n",
       " 'Pisa',\n",
       " 'Pistoia',\n",
       " 'Pordenone',\n",
       " 'Potenza',\n",
       " 'Prato',\n",
       " 'Ragusa',\n",
       " 'Ravenna',\n",
       " 'Reggio di Calabria',\n",
       " \"Reggio nell'Emilia\",\n",
       " 'Rieti',\n",
       " 'Rimini',\n",
       " 'Roma',\n",
       " 'Rovigo',\n",
       " 'Salerno',\n",
       " 'Sassari',\n",
       " 'Savona',\n",
       " 'Siena',\n",
       " 'Siracusa',\n",
       " 'Sondrio',\n",
       " 'Sud Sardegna',\n",
       " 'Taranto',\n",
       " 'Teramo',\n",
       " 'Terni',\n",
       " 'Torino',\n",
       " 'Trento',\n",
       " 'Treviso',\n",
       " 'Trieste',\n",
       " 'Udine',\n",
       " 'Varese',\n",
       " 'Venezia',\n",
       " 'Verbano-Cusio-Ossola',\n",
       " 'Vercelli',\n",
       " 'Verona',\n",
       " 'Vibo Valentia',\n",
       " 'Vicenza',\n",
       " 'Viterbo']"
      ]
     },
     "metadata": {},
     "output_type": "display_data"
    },
    {
     "data": {
      "text/plain": [
       "106"
      ]
     },
     "metadata": {},
     "output_type": "display_data"
    },
    {
     "data": {
      "text/plain": [
       "106"
      ]
     },
     "metadata": {},
     "output_type": "display_data"
    },
    {
     "data": {
      "text/plain": [
       "set()"
      ]
     },
     "metadata": {},
     "output_type": "display_data"
    },
    {
     "data": {
      "text/plain": [
       "set()"
      ]
     },
     "metadata": {},
     "output_type": "display_data"
    },
    {
     "data": {
      "text/plain": [
       "[('Alessandria', 'Biella'),\n",
       " ('Alessandria', 'Milano'),\n",
       " ('Alessandria', 'Monza e della Brianza'),\n",
       " ('Alessandria', 'Novara'),\n",
       " ('Alessandria', 'Pavia'),\n",
       " ('Alessandria', 'Vercelli'),\n",
       " ('Ancona', 'Pesaro e Urbino'),\n",
       " ('Arezzo', 'Firenze'),\n",
       " ('Arezzo', 'Forlì-Cesena'),\n",
       " ('Arezzo', 'Prato'),\n",
       " ('Arezzo', 'Rimini'),\n",
       " ('Ascoli Piceno', 'Ancona'),\n",
       " ('Ascoli Piceno', 'Fermo'),\n",
       " ('Ascoli Piceno', 'Macerata'),\n",
       " ('Asti', 'Alessandria'),\n",
       " ('Asti', 'Biella'),\n",
       " ('Asti', 'Novara'),\n",
       " ('Asti', 'Torino'),\n",
       " ('Asti', 'Vercelli'),\n",
       " ('Avellino', 'Benevento'),\n",
       " ('Avellino', 'Campobasso'),\n",
       " ('Avellino', 'Caserta'),\n",
       " ('Avellino', 'Foggia'),\n",
       " ('Avellino', 'Isernia'),\n",
       " ('Bari', 'Barletta-Andria-Trani'),\n",
       " ('Barletta-Andria-Trani', 'Foggia'),\n",
       " ('Benevento', 'Campobasso'),\n",
       " ('Benevento', 'Foggia'),\n",
       " ('Benevento', 'Isernia'),\n",
       " ('Bergamo', 'Como'),\n",
       " ('Bergamo', 'Lecco'),\n",
       " ('Bergamo', 'Sondrio'),\n",
       " ('Biella', 'Aosta'),\n",
       " ('Biella', 'Varese'),\n",
       " ('Biella', 'Verbano-Cusio-Ossola'),\n",
       " ('Bologna', 'Ferrara'),\n",
       " ('Bologna', 'Mantova'),\n",
       " ('Bologna', 'Modena'),\n",
       " ('Bologna', \"Reggio nell'Emilia\"),\n",
       " ('Bologna', 'Rovigo'),\n",
       " ('Brescia', 'Bergamo'),\n",
       " ('Brescia', 'Sondrio'),\n",
       " ('Brindisi', 'Taranto'),\n",
       " ('Cagliari', 'Oristano'),\n",
       " ('Caltanissetta', 'Agrigento'),\n",
       " ('Caltanissetta', 'Enna'),\n",
       " ('Caltanissetta', 'Palermo'),\n",
       " ('Campobasso', 'Chieti'),\n",
       " ('Campobasso', 'Isernia'),\n",
       " ('Caserta', 'Benevento'),\n",
       " ('Caserta', 'Campobasso'),\n",
       " ('Caserta', 'Isernia'),\n",
       " ('Catania', 'Messina'),\n",
       " ('Catania', 'Reggio di Calabria'),\n",
       " ('Catanzaro', 'Cosenza'),\n",
       " ('Catanzaro', 'Crotone'),\n",
       " ('Chieti', 'Ascoli Piceno'),\n",
       " ('Chieti', \"L'Aquila\"),\n",
       " ('Chieti', 'Pescara'),\n",
       " ('Chieti', 'Teramo'),\n",
       " ('Como', 'Lecco'),\n",
       " ('Como', 'Sondrio'),\n",
       " ('Como', 'Varese'),\n",
       " ('Como', 'Verbano-Cusio-Ossola'),\n",
       " ('Cremona', 'Bergamo'),\n",
       " ('Cremona', 'Brescia'),\n",
       " ('Cremona', 'Lecco'),\n",
       " ('Cremona', 'Lodi'),\n",
       " ('Cremona', 'Monza e della Brianza'),\n",
       " ('Cuneo', 'Asti'),\n",
       " ('Cuneo', 'Torino'),\n",
       " ('Enna', 'Agrigento'),\n",
       " ('Fermo', 'Ancona'),\n",
       " ('Fermo', 'Macerata'),\n",
       " ('Ferrara', 'Padova'),\n",
       " ('Ferrara', 'Rovigo'),\n",
       " ('Ferrara', 'Venezia'),\n",
       " ('Ferrara', 'Verona'),\n",
       " ('Ferrara', 'Vicenza'),\n",
       " ('Firenze', 'Bologna'),\n",
       " ('Firenze', 'Forlì-Cesena'),\n",
       " ('Firenze', 'Lucca'),\n",
       " ('Firenze', 'Pistoia'),\n",
       " ('Firenze', 'Prato'),\n",
       " ('Forlì-Cesena', 'Bologna'),\n",
       " ('Forlì-Cesena', 'Ferrara'),\n",
       " ('Forlì-Cesena', 'Ravenna'),\n",
       " ('Frosinone', \"L'Aquila\"),\n",
       " ('Frosinone', 'Rieti'),\n",
       " ('Genova', 'Alessandria'),\n",
       " ('Genova', 'Asti'),\n",
       " ('Genova', 'Pavia'),\n",
       " ('Genova', 'Piacenza'),\n",
       " ('Gorizia', 'Udine'),\n",
       " ('Grosseto', 'Arezzo'),\n",
       " ('Grosseto', 'Siena'),\n",
       " ('Imperia', 'Cuneo'),\n",
       " ('Imperia', 'Savona'),\n",
       " ('Isernia', 'Chieti'),\n",
       " (\"L'Aquila\", 'Ascoli Piceno'),\n",
       " (\"L'Aquila\", 'Rieti'),\n",
       " (\"L'Aquila\", 'Teramo'),\n",
       " (\"L'Aquila\", 'Terni'),\n",
       " ('La Spezia', 'Parma'),\n",
       " ('Latina', 'Frosinone'),\n",
       " ('Latina', 'Roma'),\n",
       " ('Lecce', 'Brindisi'),\n",
       " ('Lecco', 'Sondrio'),\n",
       " ('Livorno', 'La Spezia'),\n",
       " ('Livorno', 'Lucca'),\n",
       " ('Livorno', 'Massa Carrara'),\n",
       " ('Livorno', 'Pisa'),\n",
       " ('Livorno', 'Pistoia'),\n",
       " ('Lodi', 'Bergamo'),\n",
       " ('Lodi', 'Brescia'),\n",
       " ('Lodi', 'Como'),\n",
       " ('Lodi', 'Lecco'),\n",
       " ('Lodi', 'Milano'),\n",
       " ('Lodi', 'Monza e della Brianza'),\n",
       " ('Lodi', 'Varese'),\n",
       " ('Lucca', 'La Spezia'),\n",
       " ('Lucca', 'Massa Carrara'),\n",
       " ('Lucca', 'Pistoia'),\n",
       " ('Macerata', 'Ancona'),\n",
       " ('Macerata', 'Pesaro e Urbino'),\n",
       " ('Mantova', 'Brescia'),\n",
       " ('Mantova', 'Cremona'),\n",
       " ('Mantova', 'Verona'),\n",
       " ('Mantova', 'Vicenza'),\n",
       " ('Massa Carrara', 'La Spezia'),\n",
       " ('Massa Carrara', 'Modena'),\n",
       " ('Massa Carrara', 'Parma'),\n",
       " ('Massa Carrara', \"Reggio nell'Emilia\"),\n",
       " ('Matera', 'Bari'),\n",
       " ('Matera', 'Barletta-Andria-Trani'),\n",
       " ('Matera', 'Potenza'),\n",
       " ('Messina', 'Vibo Valentia'),\n",
       " ('Milano', 'Bergamo'),\n",
       " ('Milano', 'Como'),\n",
       " ('Milano', 'Lecco'),\n",
       " ('Milano', 'Monza e della Brianza'),\n",
       " ('Milano', 'Sondrio'),\n",
       " ('Milano', 'Varese'),\n",
       " ('Milano', 'Verbano-Cusio-Ossola'),\n",
       " ('Modena', 'Ferrara'),\n",
       " ('Modena', 'Mantova'),\n",
       " ('Modena', 'Parma'),\n",
       " ('Modena', \"Reggio nell'Emilia\"),\n",
       " ('Modena', 'Verona'),\n",
       " ('Monza e della Brianza', 'Bergamo'),\n",
       " ('Monza e della Brianza', 'Como'),\n",
       " ('Monza e della Brianza', 'Lecco'),\n",
       " ('Monza e della Brianza', 'Sondrio'),\n",
       " ('Monza e della Brianza', 'Varese'),\n",
       " ('Monza e della Brianza', 'Verbano-Cusio-Ossola'),\n",
       " ('Napoli', 'Avellino'),\n",
       " ('Napoli', 'Benevento'),\n",
       " ('Napoli', 'Campobasso'),\n",
       " ('Napoli', 'Caserta'),\n",
       " ('Napoli', 'Isernia'),\n",
       " ('Novara', 'Biella'),\n",
       " ('Novara', 'Como'),\n",
       " ('Novara', 'Lecco'),\n",
       " ('Novara', 'Milano'),\n",
       " ('Novara', 'Monza e della Brianza'),\n",
       " ('Novara', 'Varese'),\n",
       " ('Novara', 'Verbano-Cusio-Ossola'),\n",
       " ('Nuoro', 'Sassari'),\n",
       " ('Oristano', 'Nuoro'),\n",
       " ('Padova', 'Belluno'),\n",
       " ('Padova', 'Pordenone'),\n",
       " ('Padova', 'Trento'),\n",
       " ('Padova', 'Treviso'),\n",
       " ('Padova', 'Venezia'),\n",
       " ('Padova', 'Vicenza'),\n",
       " ('Parma', 'Brescia'),\n",
       " ('Parma', 'Cremona'),\n",
       " ('Parma', 'Mantova'),\n",
       " ('Parma', 'Piacenza'),\n",
       " ('Parma', 'Verona'),\n",
       " ('Pavia', 'Bergamo'),\n",
       " ('Pavia', 'Como'),\n",
       " ('Pavia', 'Lecco'),\n",
       " ('Pavia', 'Lodi'),\n",
       " ('Pavia', 'Milano'),\n",
       " ('Pavia', 'Monza e della Brianza'),\n",
       " ('Pavia', 'Novara'),\n",
       " ('Pavia', 'Varese'),\n",
       " ('Pavia', 'Verbano-Cusio-Ossola'),\n",
       " ('Pavia', 'Vercelli'),\n",
       " ('Perugia', 'Arezzo'),\n",
       " ('Pesaro e Urbino', 'Ravenna'),\n",
       " ('Pesaro e Urbino', 'Rimini'),\n",
       " ('Pescara', 'Ascoli Piceno'),\n",
       " ('Pescara', 'Fermo'),\n",
       " ('Pescara', 'Teramo'),\n",
       " ('Piacenza', 'Bergamo'),\n",
       " ('Piacenza', 'Brescia'),\n",
       " ('Piacenza', 'Como'),\n",
       " ('Piacenza', 'Cremona'),\n",
       " ('Piacenza', 'Lodi'),\n",
       " ('Piacenza', 'Milano'),\n",
       " ('Piacenza', 'Monza e della Brianza'),\n",
       " ('Piacenza', 'Pavia'),\n",
       " ('Pisa', 'La Spezia'),\n",
       " ('Pisa', 'Lucca'),\n",
       " ('Pisa', 'Massa Carrara'),\n",
       " ('Pisa', 'Pistoia'),\n",
       " ('Pistoia', 'Bologna'),\n",
       " ('Pistoia', 'Massa Carrara'),\n",
       " ('Pistoia', 'Modena'),\n",
       " ('Pistoia', \"Reggio nell'Emilia\"),\n",
       " ('Pordenone', 'Belluno'),\n",
       " ('Pordenone', 'Udine'),\n",
       " ('Potenza', 'Barletta-Andria-Trani'),\n",
       " ('Prato', 'Bologna'),\n",
       " ('Prato', 'Livorno'),\n",
       " ('Prato', 'Lucca'),\n",
       " ('Prato', 'Modena'),\n",
       " ('Prato', 'Pisa'),\n",
       " ('Prato', 'Pistoia'),\n",
       " ('Ragusa', 'Caltanissetta'),\n",
       " ('Ragusa', 'Catania'),\n",
       " ('Ragusa', 'Enna'),\n",
       " ('Ragusa', 'Siracusa'),\n",
       " ('Ravenna', 'Ferrara'),\n",
       " ('Ravenna', 'Rovigo'),\n",
       " ('Reggio di Calabria', 'Messina'),\n",
       " ('Reggio di Calabria', 'Vibo Valentia'),\n",
       " (\"Reggio nell'Emilia\", 'Cremona'),\n",
       " (\"Reggio nell'Emilia\", 'Mantova'),\n",
       " (\"Reggio nell'Emilia\", 'Parma'),\n",
       " (\"Reggio nell'Emilia\", 'Verona'),\n",
       " ('Rieti', 'Ascoli Piceno'),\n",
       " ('Rieti', 'Perugia'),\n",
       " ('Rieti', 'Terni'),\n",
       " ('Rieti', 'Viterbo'),\n",
       " ('Rimini', 'Forlì-Cesena'),\n",
       " ('Rimini', 'Ravenna'),\n",
       " ('Roma', 'Rieti'),\n",
       " ('Roma', 'Terni'),\n",
       " ('Roma', 'Viterbo'),\n",
       " ('Rovigo', 'Padova'),\n",
       " ('Rovigo', 'Treviso'),\n",
       " ('Rovigo', 'Venezia'),\n",
       " ('Rovigo', 'Verona'),\n",
       " ('Rovigo', 'Vicenza'),\n",
       " ('Salerno', 'Avellino'),\n",
       " ('Salerno', 'Benevento'),\n",
       " ('Salerno', 'Caserta'),\n",
       " ('Salerno', 'Foggia'),\n",
       " ('Salerno', 'Napoli'),\n",
       " ('Savona', 'Alessandria'),\n",
       " ('Savona', 'Asti'),\n",
       " ('Savona', 'Genova'),\n",
       " ('Siena', 'Arezzo'),\n",
       " ('Siena', 'Firenze'),\n",
       " ('Siena', 'Pistoia'),\n",
       " ('Siena', 'Prato'),\n",
       " ('Siracusa', 'Catania'),\n",
       " ('Sud Sardegna', 'Cagliari'),\n",
       " ('Sud Sardegna', 'Oristano'),\n",
       " ('Taranto', 'Bari'),\n",
       " ('Taranto', 'Matera'),\n",
       " ('Teramo', 'Ascoli Piceno'),\n",
       " ('Teramo', 'Fermo'),\n",
       " ('Teramo', 'Macerata'),\n",
       " ('Terni', 'Perugia'),\n",
       " ('Torino', 'Aosta'),\n",
       " ('Torino', 'Biella'),\n",
       " ('Torino', 'Vercelli'),\n",
       " ('Trento', 'Bolzano'),\n",
       " ('Treviso', 'Belluno'),\n",
       " ('Treviso', 'Pordenone'),\n",
       " ('Trieste', 'Gorizia'),\n",
       " ('Trieste', 'Udine'),\n",
       " ('Varese', 'Lecco'),\n",
       " ('Varese', 'Verbano-Cusio-Ossola'),\n",
       " ('Venezia', 'Belluno'),\n",
       " ('Venezia', 'Pordenone'),\n",
       " ('Venezia', 'Treviso'),\n",
       " ('Venezia', 'Vicenza'),\n",
       " ('Vercelli', 'Biella'),\n",
       " ('Vercelli', 'Como'),\n",
       " ('Vercelli', 'Milano'),\n",
       " ('Vercelli', 'Novara'),\n",
       " ('Vercelli', 'Varese'),\n",
       " ('Vercelli', 'Verbano-Cusio-Ossola'),\n",
       " ('Verona', 'Brescia'),\n",
       " ('Verona', 'Trento'),\n",
       " ('Verona', 'Vicenza'),\n",
       " ('Vibo Valentia', 'Catanzaro'),\n",
       " ('Vibo Valentia', 'Cosenza'),\n",
       " ('Vicenza', 'Belluno'),\n",
       " ('Vicenza', 'Trento'),\n",
       " ('Vicenza', 'Treviso'),\n",
       " ('Viterbo', 'Perugia'),\n",
       " ('Viterbo', 'Terni')]"
      ]
     },
     "metadata": {},
     "output_type": "display_data"
    },
    {
     "data": {
      "text/plain": [
       "[('Agrigento', 'Enna'),\n",
       " ('Alessandria', 'Biella'),\n",
       " ('Alessandria', 'Milano'),\n",
       " ('Alessandria', 'Monza e della Brianza'),\n",
       " ('Alessandria', 'Novara'),\n",
       " ('Alessandria', 'Pavia'),\n",
       " ('Alessandria', 'Vercelli'),\n",
       " ('Ancona', 'Pesaro e Urbino'),\n",
       " ('Arezzo', 'Firenze'),\n",
       " ('Arezzo', 'Forlì-Cesena'),\n",
       " ('Arezzo', 'Prato'),\n",
       " ('Arezzo', 'Rimini'),\n",
       " ('Ascoli Piceno', 'Ancona'),\n",
       " ('Ascoli Piceno', 'Fermo'),\n",
       " ('Ascoli Piceno', 'Macerata'),\n",
       " ('Asti', 'Alessandria'),\n",
       " ('Asti', 'Biella'),\n",
       " ('Asti', 'Novara'),\n",
       " ('Asti', 'Torino'),\n",
       " ('Asti', 'Vercelli'),\n",
       " ('Avellino', 'Benevento'),\n",
       " ('Avellino', 'Campobasso'),\n",
       " ('Avellino', 'Caserta'),\n",
       " ('Avellino', 'Foggia'),\n",
       " ('Avellino', 'Isernia'),\n",
       " ('Bari', 'Barletta-Andria-Trani'),\n",
       " ('Barletta-Andria-Trani', 'Foggia'),\n",
       " ('Benevento', 'Campobasso'),\n",
       " ('Benevento', 'Foggia'),\n",
       " ('Benevento', 'Isernia'),\n",
       " ('Bergamo', 'Como'),\n",
       " ('Bergamo', 'Lecco'),\n",
       " ('Bergamo', 'Sondrio'),\n",
       " ('Biella', 'Aosta'),\n",
       " ('Biella', 'Varese'),\n",
       " ('Biella', 'Verbano-Cusio-Ossola'),\n",
       " ('Bologna', 'Ferrara'),\n",
       " ('Bologna', 'Mantova'),\n",
       " ('Bologna', 'Modena'),\n",
       " ('Bologna', \"Reggio nell'Emilia\"),\n",
       " ('Bologna', 'Rovigo'),\n",
       " ('Brescia', 'Bergamo'),\n",
       " ('Brescia', 'Sondrio'),\n",
       " ('Brindisi', 'Lecce'),\n",
       " ('Brindisi', 'Taranto'),\n",
       " ('Cagliari', 'Oristano'),\n",
       " ('Cagliari', 'Sud Sardegna'),\n",
       " ('Caltanissetta', 'Agrigento'),\n",
       " ('Caltanissetta', 'Enna'),\n",
       " ('Caltanissetta', 'Palermo'),\n",
       " ('Campobasso', 'Chieti'),\n",
       " ('Campobasso', 'Isernia'),\n",
       " ('Caserta', 'Benevento'),\n",
       " ('Caserta', 'Campobasso'),\n",
       " ('Caserta', 'Isernia'),\n",
       " ('Catania', 'Messina'),\n",
       " ('Catania', 'Reggio di Calabria'),\n",
       " ('Catanzaro', 'Cosenza'),\n",
       " ('Catanzaro', 'Crotone'),\n",
       " ('Chieti', 'Ascoli Piceno'),\n",
       " ('Chieti', \"L'Aquila\"),\n",
       " ('Chieti', 'Pescara'),\n",
       " ('Chieti', 'Teramo'),\n",
       " ('Como', 'Lecco'),\n",
       " ('Como', 'Sondrio'),\n",
       " ('Como', 'Varese'),\n",
       " ('Como', 'Verbano-Cusio-Ossola'),\n",
       " ('Cremona', 'Bergamo'),\n",
       " ('Cremona', 'Brescia'),\n",
       " ('Cremona', 'Lecco'),\n",
       " ('Cremona', 'Lodi'),\n",
       " ('Cremona', 'Mantova'),\n",
       " ('Cremona', 'Monza e della Brianza'),\n",
       " ('Cuneo', 'Asti'),\n",
       " ('Cuneo', 'Torino'),\n",
       " ('Fermo', 'Ancona'),\n",
       " ('Fermo', 'Macerata'),\n",
       " ('Ferrara', 'Padova'),\n",
       " ('Ferrara', 'Rovigo'),\n",
       " ('Ferrara', 'Venezia'),\n",
       " ('Ferrara', 'Verona'),\n",
       " ('Ferrara', 'Vicenza'),\n",
       " ('Firenze', 'Bologna'),\n",
       " ('Firenze', 'Forlì-Cesena'),\n",
       " ('Firenze', 'Lucca'),\n",
       " ('Firenze', 'Pistoia'),\n",
       " ('Firenze', 'Prato'),\n",
       " ('Forlì-Cesena', 'Bologna'),\n",
       " ('Forlì-Cesena', 'Ferrara'),\n",
       " ('Forlì-Cesena', 'Ravenna'),\n",
       " ('Frosinone', \"L'Aquila\"),\n",
       " ('Frosinone', 'Latina'),\n",
       " ('Frosinone', 'Rieti'),\n",
       " ('Genova', 'Alessandria'),\n",
       " ('Genova', 'Asti'),\n",
       " ('Genova', 'Pavia'),\n",
       " ('Genova', 'Piacenza'),\n",
       " ('Gorizia', 'Trieste'),\n",
       " ('Gorizia', 'Udine'),\n",
       " ('Grosseto', 'Arezzo'),\n",
       " ('Imperia', 'Cuneo'),\n",
       " ('Isernia', 'Chieti'),\n",
       " (\"L'Aquila\", 'Ascoli Piceno'),\n",
       " (\"L'Aquila\", 'Rieti'),\n",
       " (\"L'Aquila\", 'Teramo'),\n",
       " (\"L'Aquila\", 'Terni'),\n",
       " ('La Spezia', 'Parma'),\n",
       " ('Latina', 'Roma'),\n",
       " ('Lecco', 'Sondrio'),\n",
       " ('Livorno', 'La Spezia'),\n",
       " ('Livorno', 'Lucca'),\n",
       " ('Livorno', 'Massa Carrara'),\n",
       " ('Livorno', 'Pistoia'),\n",
       " ('Livorno', 'Prato'),\n",
       " ('Lodi', 'Bergamo'),\n",
       " ('Lodi', 'Brescia'),\n",
       " ('Lodi', 'Como'),\n",
       " ('Lodi', 'Lecco'),\n",
       " ('Lodi', 'Milano'),\n",
       " ('Lodi', 'Monza e della Brianza'),\n",
       " ('Lodi', 'Varese'),\n",
       " ('Lucca', 'La Spezia'),\n",
       " ('Lucca', 'Massa Carrara'),\n",
       " ('Lucca', 'Pistoia'),\n",
       " ('Lucca', 'Prato'),\n",
       " ('Macerata', 'Ancona'),\n",
       " ('Macerata', 'Pesaro e Urbino'),\n",
       " ('Mantova', 'Brescia'),\n",
       " ('Mantova', 'Verona'),\n",
       " ('Mantova', 'Vicenza'),\n",
       " ('Massa Carrara', 'La Spezia'),\n",
       " ('Massa Carrara', 'Modena'),\n",
       " ('Massa Carrara', 'Parma'),\n",
       " ('Massa Carrara', \"Reggio nell'Emilia\"),\n",
       " ('Matera', 'Bari'),\n",
       " ('Matera', 'Barletta-Andria-Trani'),\n",
       " ('Matera', 'Potenza'),\n",
       " ('Messina', 'Vibo Valentia'),\n",
       " ('Milano', 'Bergamo'),\n",
       " ('Milano', 'Como'),\n",
       " ('Milano', 'Lecco'),\n",
       " ('Milano', 'Monza e della Brianza'),\n",
       " ('Milano', 'Sondrio'),\n",
       " ('Milano', 'Varese'),\n",
       " ('Milano', 'Verbano-Cusio-Ossola'),\n",
       " ('Modena', 'Ferrara'),\n",
       " ('Modena', 'Mantova'),\n",
       " ('Modena', 'Parma'),\n",
       " ('Modena', \"Reggio nell'Emilia\"),\n",
       " ('Modena', 'Verona'),\n",
       " ('Monza e della Brianza', 'Bergamo'),\n",
       " ('Monza e della Brianza', 'Como'),\n",
       " ('Monza e della Brianza', 'Lecco'),\n",
       " ('Monza e della Brianza', 'Sondrio'),\n",
       " ('Monza e della Brianza', 'Varese'),\n",
       " ('Monza e della Brianza', 'Verbano-Cusio-Ossola'),\n",
       " ('Napoli', 'Avellino'),\n",
       " ('Napoli', 'Benevento'),\n",
       " ('Napoli', 'Campobasso'),\n",
       " ('Napoli', 'Caserta'),\n",
       " ('Napoli', 'Isernia'),\n",
       " ('Napoli', 'Salerno'),\n",
       " ('Novara', 'Biella'),\n",
       " ('Novara', 'Como'),\n",
       " ('Novara', 'Lecco'),\n",
       " ('Novara', 'Milano'),\n",
       " ('Novara', 'Monza e della Brianza'),\n",
       " ('Novara', 'Varese'),\n",
       " ('Novara', 'Verbano-Cusio-Ossola'),\n",
       " ('Nuoro', 'Sassari'),\n",
       " ('Oristano', 'Nuoro'),\n",
       " ('Padova', 'Belluno'),\n",
       " ('Padova', 'Pordenone'),\n",
       " ('Padova', 'Trento'),\n",
       " ('Padova', 'Treviso'),\n",
       " ('Padova', 'Venezia'),\n",
       " ('Padova', 'Vicenza'),\n",
       " ('Parma', 'Brescia'),\n",
       " ('Parma', 'Cremona'),\n",
       " ('Parma', 'Mantova'),\n",
       " ('Parma', 'Piacenza'),\n",
       " ('Parma', 'Verona'),\n",
       " ('Pavia', 'Bergamo'),\n",
       " ('Pavia', 'Como'),\n",
       " ('Pavia', 'Lecco'),\n",
       " ('Pavia', 'Lodi'),\n",
       " ('Pavia', 'Milano'),\n",
       " ('Pavia', 'Monza e della Brianza'),\n",
       " ('Pavia', 'Novara'),\n",
       " ('Pavia', 'Varese'),\n",
       " ('Pavia', 'Verbano-Cusio-Ossola'),\n",
       " ('Pavia', 'Vercelli'),\n",
       " ('Perugia', 'Arezzo'),\n",
       " ('Pesaro e Urbino', 'Ravenna'),\n",
       " ('Pesaro e Urbino', 'Rimini'),\n",
       " ('Pescara', 'Ascoli Piceno'),\n",
       " ('Pescara', 'Fermo'),\n",
       " ('Pescara', 'Teramo'),\n",
       " ('Piacenza', 'Bergamo'),\n",
       " ('Piacenza', 'Brescia'),\n",
       " ('Piacenza', 'Como'),\n",
       " ('Piacenza', 'Cremona'),\n",
       " ('Piacenza', 'Lodi'),\n",
       " ('Piacenza', 'Milano'),\n",
       " ('Piacenza', 'Monza e della Brianza'),\n",
       " ('Piacenza', 'Pavia'),\n",
       " ('Pisa', 'La Spezia'),\n",
       " ('Pisa', 'Livorno'),\n",
       " ('Pisa', 'Lucca'),\n",
       " ('Pisa', 'Massa Carrara'),\n",
       " ('Pisa', 'Pistoia'),\n",
       " ('Pisa', 'Prato'),\n",
       " ('Pistoia', 'Bologna'),\n",
       " ('Pistoia', 'Massa Carrara'),\n",
       " ('Pistoia', 'Modena'),\n",
       " ('Pistoia', \"Reggio nell'Emilia\"),\n",
       " ('Pordenone', 'Belluno'),\n",
       " ('Pordenone', 'Udine'),\n",
       " ('Potenza', 'Barletta-Andria-Trani'),\n",
       " ('Prato', 'Bologna'),\n",
       " ('Prato', 'Modena'),\n",
       " ('Prato', 'Pistoia'),\n",
       " ('Ragusa', 'Caltanissetta'),\n",
       " ('Ragusa', 'Catania'),\n",
       " ('Ragusa', 'Enna'),\n",
       " ('Ravenna', 'Ferrara'),\n",
       " ('Ravenna', 'Rovigo'),\n",
       " ('Reggio di Calabria', 'Messina'),\n",
       " ('Reggio di Calabria', 'Vibo Valentia'),\n",
       " (\"Reggio nell'Emilia\", 'Cremona'),\n",
       " (\"Reggio nell'Emilia\", 'Mantova'),\n",
       " (\"Reggio nell'Emilia\", 'Parma'),\n",
       " (\"Reggio nell'Emilia\", 'Verona'),\n",
       " ('Rieti', 'Ascoli Piceno'),\n",
       " ('Rieti', 'Perugia'),\n",
       " ('Rieti', 'Terni'),\n",
       " ('Rieti', 'Viterbo'),\n",
       " ('Rimini', 'Forlì-Cesena'),\n",
       " ('Rimini', 'Ravenna'),\n",
       " ('Roma', 'Rieti'),\n",
       " ('Roma', 'Terni'),\n",
       " ('Roma', 'Viterbo'),\n",
       " ('Rovigo', 'Padova'),\n",
       " ('Rovigo', 'Treviso'),\n",
       " ('Rovigo', 'Venezia'),\n",
       " ('Rovigo', 'Verona'),\n",
       " ('Rovigo', 'Vicenza'),\n",
       " ('Salerno', 'Avellino'),\n",
       " ('Salerno', 'Benevento'),\n",
       " ('Salerno', 'Caserta'),\n",
       " ('Salerno', 'Foggia'),\n",
       " ('Savona', 'Alessandria'),\n",
       " ('Savona', 'Asti'),\n",
       " ('Savona', 'Genova'),\n",
       " ('Savona', 'Imperia'),\n",
       " ('Siena', 'Arezzo'),\n",
       " ('Siena', 'Firenze'),\n",
       " ('Siena', 'Grosseto'),\n",
       " ('Siena', 'Pistoia'),\n",
       " ('Siena', 'Prato'),\n",
       " ('Siracusa', 'Catania'),\n",
       " ('Siracusa', 'Ragusa'),\n",
       " ('Sud Sardegna', 'Oristano'),\n",
       " ('Taranto', 'Bari'),\n",
       " ('Taranto', 'Matera'),\n",
       " ('Teramo', 'Ascoli Piceno'),\n",
       " ('Teramo', 'Fermo'),\n",
       " ('Teramo', 'Macerata'),\n",
       " ('Terni', 'Perugia'),\n",
       " ('Torino', 'Aosta'),\n",
       " ('Torino', 'Biella'),\n",
       " ('Torino', 'Vercelli'),\n",
       " ('Trento', 'Bolzano'),\n",
       " ('Treviso', 'Belluno'),\n",
       " ('Treviso', 'Pordenone'),\n",
       " ('Trieste', 'Udine'),\n",
       " ('Varese', 'Lecco'),\n",
       " ('Varese', 'Verbano-Cusio-Ossola'),\n",
       " ('Venezia', 'Belluno'),\n",
       " ('Venezia', 'Pordenone'),\n",
       " ('Venezia', 'Treviso'),\n",
       " ('Venezia', 'Vicenza'),\n",
       " ('Vercelli', 'Biella'),\n",
       " ('Vercelli', 'Como'),\n",
       " ('Vercelli', 'Milano'),\n",
       " ('Vercelli', 'Novara'),\n",
       " ('Vercelli', 'Varese'),\n",
       " ('Vercelli', 'Verbano-Cusio-Ossola'),\n",
       " ('Verona', 'Brescia'),\n",
       " ('Verona', 'Trento'),\n",
       " ('Verona', 'Vicenza'),\n",
       " ('Vibo Valentia', 'Catanzaro'),\n",
       " ('Vibo Valentia', 'Cosenza'),\n",
       " ('Vicenza', 'Belluno'),\n",
       " ('Vicenza', 'Trento'),\n",
       " ('Vicenza', 'Treviso'),\n",
       " ('Viterbo', 'Perugia'),\n",
       " ('Viterbo', 'Terni')]"
      ]
     },
     "metadata": {},
     "output_type": "display_data"
    },
    {
     "data": {
      "text/plain": [
       "298"
      ]
     },
     "metadata": {},
     "output_type": "display_data"
    },
    {
     "data": {
      "text/plain": [
       "298"
      ]
     },
     "metadata": {},
     "output_type": "display_data"
    },
    {
     "data": {
      "text/plain": [
       "{('Agrigento', 'Enna'),\n",
       " ('Brindisi', 'Lecce'),\n",
       " ('Cagliari', 'Sud Sardegna'),\n",
       " ('Cremona', 'Mantova'),\n",
       " ('Frosinone', 'Latina'),\n",
       " ('Gorizia', 'Trieste'),\n",
       " ('Livorno', 'Prato'),\n",
       " ('Lucca', 'Prato'),\n",
       " ('Napoli', 'Salerno'),\n",
       " ('Pisa', 'Livorno'),\n",
       " ('Pisa', 'Prato'),\n",
       " ('Savona', 'Imperia'),\n",
       " ('Siena', 'Grosseto'),\n",
       " ('Siracusa', 'Ragusa')}"
      ]
     },
     "metadata": {},
     "output_type": "display_data"
    },
    {
     "data": {
      "text/plain": [
       "{('Enna', 'Agrigento'),\n",
       " ('Grosseto', 'Siena'),\n",
       " ('Imperia', 'Savona'),\n",
       " ('Latina', 'Frosinone'),\n",
       " ('Lecce', 'Brindisi'),\n",
       " ('Livorno', 'Pisa'),\n",
       " ('Mantova', 'Cremona'),\n",
       " ('Prato', 'Livorno'),\n",
       " ('Prato', 'Lucca'),\n",
       " ('Prato', 'Pisa'),\n",
       " ('Ragusa', 'Siracusa'),\n",
       " ('Salerno', 'Napoli'),\n",
       " ('Sud Sardegna', 'Cagliari'),\n",
       " ('Trieste', 'Gorizia')}"
      ]
     },
     "metadata": {},
     "output_type": "display_data"
    }
   ],
   "source": [
    "display(city_dataframe.sort_values(by = city_dataframe.columns[1]).reset_index(drop = True).iloc[94:, :])\n",
    "P_2_nodes = list(P_2.nodes)\n",
    "P_2_nodes.sort()\n",
    "P_nodes = list(P.nodes)\n",
    "P_nodes.sort()\n",
    "display(P_2_nodes)\n",
    "display(P_nodes)\n",
    "display(len(P_2.nodes))\n",
    "display(len(P.nodes))\n",
    "display(set(P_nodes) - set(P_2_nodes))\n",
    "display(set(P_2_nodes) - set(P_nodes))\n",
    "P_2_edges = list(P_2.edges)\n",
    "P_2_edges.sort()\n",
    "P_edges = list(P.edges)\n",
    "P_edges.sort()\n",
    "display(P_2_edges)\n",
    "display(P_edges)\n",
    "display(len(P_2.edges))\n",
    "display(len(P.edges))\n",
    "display(set(P_edges) - set(P_2_edges))\n",
    "display(set(P_2_edges) - set(P_edges))"
   ]
  },
  {
   "cell_type": "code",
   "execution_count": 12,
   "metadata": {
    "pixiedust": {
     "displayParams": {}
    },
    "scrolled": true
   },
   "outputs": [],
   "source": [
    "def scanEdges(graph, dataframe, radius):\n",
    "    xEdges = scan(dataframe, radius)\n",
    "    yEdges = scan(dataframe.iloc[:, 0::2],  radius)\n",
    "            \n",
    "    # O(n)\n",
    "    for k in xEdges.keys():\n",
    "        # Searching both for (a,b) and (b,a)\n",
    "        # O(1)\n",
    "        if k in yEdges or k[::-1] in yEdges:\n",
    "            graph.add_edge(*k)"
   ]
  },
  {
   "cell_type": "code",
   "execution_count": 13,
   "metadata": {
    "pixiedust": {
     "displayParams": {}
    },
    "scrolled": true
   },
   "outputs": [],
   "source": [
    "def smartScanEdges(graph, dataframe, radius):\n",
    "    xEdges = smartScan(dataframe, radius)\n",
    "    yEdges = smartScan(dataframe.iloc[:, 0::2],  radius)\n",
    "            \n",
    "    # O(n)\n",
    "    for k in xEdges.keys():\n",
    "        # Searching both for (a,b) and (b,a)\n",
    "        # O(1)\n",
    "        if k in yEdges or k[::-1] in yEdges:\n",
    "            graph.add_edge(*k)"
   ]
  },
  {
   "cell_type": "markdown",
   "metadata": {},
   "source": [
    "# 1. Create Graph of cities\n",
    "Build the graph of provinces P using NetworkX. Each node corresponds to a city and two cities a and b are connected by an edge if the following holds: if x,y is the position of a, then b is in position z,w with z in [x-d,x+d] and w in [y-d, y+d], with d=0.8. The graph is symmetric. Use the latitude and longitude information available in the files to get the position of the cities. This task can be done in several ways. Use the one you think is more efficient.\n",
    "\n",
    "## Set up variables"
   ]
  },
  {
   "cell_type": "code",
   "execution_count": 14,
   "metadata": {},
   "outputs": [],
   "source": [
    "P_all_couples = nx.Graph()\n",
    "P = nx.Graph()\n",
    "P_2 = nx.Graph()\n",
    "radius = 0.8"
   ]
  },
  {
   "cell_type": "markdown",
   "metadata": {},
   "source": [
    "## Create Graph using algorithm # 1"
   ]
  },
  {
   "cell_type": "code",
   "execution_count": 15,
   "metadata": {},
   "outputs": [
    {
     "name": "stdout",
     "output_type": "stream",
     "text": [
      "728 ms ± 23.9 ms per loop (mean ± std. dev. of 7 runs, 1 loop each)\n"
     ]
    }
   ],
   "source": [
    "%%timeit\n",
    "P_all_couples.clear()\n",
    "all_couple_edges(P_all_couples, city_dataframe, radius)"
   ]
  },
  {
   "cell_type": "markdown",
   "metadata": {},
   "source": [
    "## Create Graph using algorithm # 2"
   ]
  },
  {
   "cell_type": "code",
   "execution_count": 15,
   "metadata": {
    "pixiedust": {
     "displayParams": {}
    },
    "scrolled": true
   },
   "outputs": [
    {
     "name": "stdout",
     "output_type": "stream",
     "text": [
      "67.7 ms ± 20.7 ms per loop (mean ± std. dev. of 7 runs, 10 loops each)\n"
     ]
    }
   ],
   "source": [
    "%%timeit\n",
    "P.clear()\n",
    "binary_search_edges(P, city_dataframe, radius)"
   ]
  },
  {
   "cell_type": "markdown",
   "metadata": {},
   "source": [
    "## Create Graph using algorithm # 3"
   ]
  },
  {
   "cell_type": "code",
   "execution_count": 17,
   "metadata": {
    "scrolled": true
   },
   "outputs": [
    {
     "ename": "NameError",
     "evalue": "name 'scanEdges' is not defined",
     "output_type": "error",
     "traceback": [
      "\u001b[0;31m---------------------------------------------------------------------------\u001b[0m",
      "\u001b[0;31mNameError\u001b[0m                                 Traceback (most recent call last)",
      "\u001b[0;32m<ipython-input-17-298d057ca05e>\u001b[0m in \u001b[0;36m<module>\u001b[0;34m\u001b[0m\n\u001b[0;32m----> 1\u001b[0;31m \u001b[0mget_ipython\u001b[0m\u001b[0;34m(\u001b[0m\u001b[0;34m)\u001b[0m\u001b[0;34m.\u001b[0m\u001b[0mrun_cell_magic\u001b[0m\u001b[0;34m(\u001b[0m\u001b[0;34m'timeit'\u001b[0m\u001b[0;34m,\u001b[0m \u001b[0;34m''\u001b[0m\u001b[0;34m,\u001b[0m \u001b[0;34m'P_2.clear()\\nscanEdges(P_2, city_dataframe, radius)\\n'\u001b[0m\u001b[0;34m)\u001b[0m\u001b[0;34m\u001b[0m\u001b[0;34m\u001b[0m\u001b[0m\n\u001b[0m",
      "\u001b[0;32m~/Scuola/Università/Magistrale/Algorithms and Programming for Massive Data/Progetto/virt_env/lib/python3.8/site-packages/IPython/core/interactiveshell.py\u001b[0m in \u001b[0;36mrun_cell_magic\u001b[0;34m(self, magic_name, line, cell)\u001b[0m\n\u001b[1;32m   2369\u001b[0m             \u001b[0;32mwith\u001b[0m \u001b[0mself\u001b[0m\u001b[0;34m.\u001b[0m\u001b[0mbuiltin_trap\u001b[0m\u001b[0;34m:\u001b[0m\u001b[0;34m\u001b[0m\u001b[0;34m\u001b[0m\u001b[0m\n\u001b[1;32m   2370\u001b[0m                 \u001b[0margs\u001b[0m \u001b[0;34m=\u001b[0m \u001b[0;34m(\u001b[0m\u001b[0mmagic_arg_s\u001b[0m\u001b[0;34m,\u001b[0m \u001b[0mcell\u001b[0m\u001b[0;34m)\u001b[0m\u001b[0;34m\u001b[0m\u001b[0;34m\u001b[0m\u001b[0m\n\u001b[0;32m-> 2371\u001b[0;31m                 \u001b[0mresult\u001b[0m \u001b[0;34m=\u001b[0m \u001b[0mfn\u001b[0m\u001b[0;34m(\u001b[0m\u001b[0;34m*\u001b[0m\u001b[0margs\u001b[0m\u001b[0;34m,\u001b[0m \u001b[0;34m**\u001b[0m\u001b[0mkwargs\u001b[0m\u001b[0;34m)\u001b[0m\u001b[0;34m\u001b[0m\u001b[0;34m\u001b[0m\u001b[0m\n\u001b[0m\u001b[1;32m   2372\u001b[0m             \u001b[0;32mreturn\u001b[0m \u001b[0mresult\u001b[0m\u001b[0;34m\u001b[0m\u001b[0;34m\u001b[0m\u001b[0m\n\u001b[1;32m   2373\u001b[0m \u001b[0;34m\u001b[0m\u001b[0m\n",
      "\u001b[0;32m<decorator-gen-60>\u001b[0m in \u001b[0;36mtimeit\u001b[0;34m(self, line, cell, local_ns)\u001b[0m\n",
      "\u001b[0;32m~/Scuola/Università/Magistrale/Algorithms and Programming for Massive Data/Progetto/virt_env/lib/python3.8/site-packages/IPython/core/magic.py\u001b[0m in \u001b[0;36m<lambda>\u001b[0;34m(f, *a, **k)\u001b[0m\n\u001b[1;32m    185\u001b[0m     \u001b[0;31m# but it's overkill for just that one bit of state.\u001b[0m\u001b[0;34m\u001b[0m\u001b[0;34m\u001b[0m\u001b[0;34m\u001b[0m\u001b[0m\n\u001b[1;32m    186\u001b[0m     \u001b[0;32mdef\u001b[0m \u001b[0mmagic_deco\u001b[0m\u001b[0;34m(\u001b[0m\u001b[0marg\u001b[0m\u001b[0;34m)\u001b[0m\u001b[0;34m:\u001b[0m\u001b[0;34m\u001b[0m\u001b[0;34m\u001b[0m\u001b[0m\n\u001b[0;32m--> 187\u001b[0;31m         \u001b[0mcall\u001b[0m \u001b[0;34m=\u001b[0m \u001b[0;32mlambda\u001b[0m \u001b[0mf\u001b[0m\u001b[0;34m,\u001b[0m \u001b[0;34m*\u001b[0m\u001b[0ma\u001b[0m\u001b[0;34m,\u001b[0m \u001b[0;34m**\u001b[0m\u001b[0mk\u001b[0m\u001b[0;34m:\u001b[0m \u001b[0mf\u001b[0m\u001b[0;34m(\u001b[0m\u001b[0;34m*\u001b[0m\u001b[0ma\u001b[0m\u001b[0;34m,\u001b[0m \u001b[0;34m**\u001b[0m\u001b[0mk\u001b[0m\u001b[0;34m)\u001b[0m\u001b[0;34m\u001b[0m\u001b[0;34m\u001b[0m\u001b[0m\n\u001b[0m\u001b[1;32m    188\u001b[0m \u001b[0;34m\u001b[0m\u001b[0m\n\u001b[1;32m    189\u001b[0m         \u001b[0;32mif\u001b[0m \u001b[0mcallable\u001b[0m\u001b[0;34m(\u001b[0m\u001b[0marg\u001b[0m\u001b[0;34m)\u001b[0m\u001b[0;34m:\u001b[0m\u001b[0;34m\u001b[0m\u001b[0;34m\u001b[0m\u001b[0m\n",
      "\u001b[0;32m~/Scuola/Università/Magistrale/Algorithms and Programming for Massive Data/Progetto/virt_env/lib/python3.8/site-packages/IPython/core/magics/execution.py\u001b[0m in \u001b[0;36mtimeit\u001b[0;34m(self, line, cell, local_ns)\u001b[0m\n\u001b[1;32m   1161\u001b[0m             \u001b[0;32mfor\u001b[0m \u001b[0mindex\u001b[0m \u001b[0;32min\u001b[0m \u001b[0mrange\u001b[0m\u001b[0;34m(\u001b[0m\u001b[0;36m0\u001b[0m\u001b[0;34m,\u001b[0m \u001b[0;36m10\u001b[0m\u001b[0;34m)\u001b[0m\u001b[0;34m:\u001b[0m\u001b[0;34m\u001b[0m\u001b[0;34m\u001b[0m\u001b[0m\n\u001b[1;32m   1162\u001b[0m                 \u001b[0mnumber\u001b[0m \u001b[0;34m=\u001b[0m \u001b[0;36m10\u001b[0m \u001b[0;34m**\u001b[0m \u001b[0mindex\u001b[0m\u001b[0;34m\u001b[0m\u001b[0;34m\u001b[0m\u001b[0m\n\u001b[0;32m-> 1163\u001b[0;31m                 \u001b[0mtime_number\u001b[0m \u001b[0;34m=\u001b[0m \u001b[0mtimer\u001b[0m\u001b[0;34m.\u001b[0m\u001b[0mtimeit\u001b[0m\u001b[0;34m(\u001b[0m\u001b[0mnumber\u001b[0m\u001b[0;34m)\u001b[0m\u001b[0;34m\u001b[0m\u001b[0;34m\u001b[0m\u001b[0m\n\u001b[0m\u001b[1;32m   1164\u001b[0m                 \u001b[0;32mif\u001b[0m \u001b[0mtime_number\u001b[0m \u001b[0;34m>=\u001b[0m \u001b[0;36m0.2\u001b[0m\u001b[0;34m:\u001b[0m\u001b[0;34m\u001b[0m\u001b[0;34m\u001b[0m\u001b[0m\n\u001b[1;32m   1165\u001b[0m                     \u001b[0;32mbreak\u001b[0m\u001b[0;34m\u001b[0m\u001b[0;34m\u001b[0m\u001b[0m\n",
      "\u001b[0;32m~/Scuola/Università/Magistrale/Algorithms and Programming for Massive Data/Progetto/virt_env/lib/python3.8/site-packages/IPython/core/magics/execution.py\u001b[0m in \u001b[0;36mtimeit\u001b[0;34m(self, number)\u001b[0m\n\u001b[1;32m    167\u001b[0m         \u001b[0mgc\u001b[0m\u001b[0;34m.\u001b[0m\u001b[0mdisable\u001b[0m\u001b[0;34m(\u001b[0m\u001b[0;34m)\u001b[0m\u001b[0;34m\u001b[0m\u001b[0;34m\u001b[0m\u001b[0m\n\u001b[1;32m    168\u001b[0m         \u001b[0;32mtry\u001b[0m\u001b[0;34m:\u001b[0m\u001b[0;34m\u001b[0m\u001b[0;34m\u001b[0m\u001b[0m\n\u001b[0;32m--> 169\u001b[0;31m             \u001b[0mtiming\u001b[0m \u001b[0;34m=\u001b[0m \u001b[0mself\u001b[0m\u001b[0;34m.\u001b[0m\u001b[0minner\u001b[0m\u001b[0;34m(\u001b[0m\u001b[0mit\u001b[0m\u001b[0;34m,\u001b[0m \u001b[0mself\u001b[0m\u001b[0;34m.\u001b[0m\u001b[0mtimer\u001b[0m\u001b[0;34m)\u001b[0m\u001b[0;34m\u001b[0m\u001b[0;34m\u001b[0m\u001b[0m\n\u001b[0m\u001b[1;32m    170\u001b[0m         \u001b[0;32mfinally\u001b[0m\u001b[0;34m:\u001b[0m\u001b[0;34m\u001b[0m\u001b[0;34m\u001b[0m\u001b[0m\n\u001b[1;32m    171\u001b[0m             \u001b[0;32mif\u001b[0m \u001b[0mgcold\u001b[0m\u001b[0;34m:\u001b[0m\u001b[0;34m\u001b[0m\u001b[0;34m\u001b[0m\u001b[0m\n",
      "\u001b[0;32m<magic-timeit>\u001b[0m in \u001b[0;36minner\u001b[0;34m(_it, _timer)\u001b[0m\n",
      "\u001b[0;31mNameError\u001b[0m: name 'scanEdges' is not defined"
     ]
    }
   ],
   "source": [
    "%%timeit\n",
    "P_2.clear()\n",
    "scanEdges(P_2, city_dataframe, radius)"
   ]
  },
  {
   "cell_type": "markdown",
   "metadata": {},
   "source": [
    "## Create Graph using algorithm # 3"
   ]
  },
  {
   "cell_type": "code",
   "execution_count": 30,
   "metadata": {
    "scrolled": true
   },
   "outputs": [
    {
     "name": "stdout",
     "output_type": "stream",
     "text": [
      "i = 0, first = -1, a[i] = 36.92509198, a[first] = 46.49933453\n",
      "i = 4, first = 3, a[i] = 37.50287803, a[first] = 37.49213171\n",
      "i = 5, first = 4, a[i] = 37.56705701, a[first] = 37.50287803\n",
      "i = 8, first = 7, a[i] = 38.11569725, a[first] = 38.10922769\n",
      "i = 9, first = 8, a[i] = 38.19395845, a[first] = 38.11569725\n",
      "i = 14, first = 13, a[i] = 39.21531192, a[first] = 39.16641462\n",
      "i = 15, first = 14, a[i] = 39.29308681, a[first] = 39.21531192\n",
      "i = 18, first = 17, a[i] = 40.35354285, a[first] = 40.32318834\n",
      "i = 21, first = 20, a[i] = 40.63947052, a[first] = 40.63848545\n",
      "i = 22, first = 21, a[i] = 40.66751177, a[first] = 40.63947052\n",
      "i = 23, first = 22, a[i] = 40.67821961, a[first] = 40.66751177\n",
      "i = 24, first = 23, a[i] = 40.72667657, a[first] = 40.67821961\n",
      "i = 26, first = 25, a[i] = 40.91404699, a[first] = 40.83956555\n",
      "i = 28, first = 27, a[i] = 41.12559576, a[first] = 41.07465878\n",
      "i = 29, first = 28, a[i] = 41.12969987, a[first] = 41.12559576\n",
      "i = 32, first = 31, a[i] = 41.46759465, a[first] = 41.46226865\n",
      "i = 34, first = 33, a[i] = 41.58800826, a[first] = 41.55774754\n",
      "i = 35, first = 34, a[i] = 41.63964569, a[first] = 41.58800826\n",
      "i = 38, first = 37, a[i] = 42.35122196, a[first] = 42.35103167\n",
      "i = 39, first = 38, a[i] = 42.40488444, a[first] = 42.35122196\n",
      "i = 40, first = 39, a[i] = 42.4173828, a[first] = 42.40488444\n",
      "i = 41, first = 40, a[i] = 42.46458398, a[first] = 42.4173828\n",
      "i = 47, first = 46, a[i] = 43.16058534, a[first] = 43.10675841\n",
      "i = 49, first = 48, a[i] = 43.31816374, a[first] = 43.30023926\n",
      "i = 52, first = 51, a[i] = 43.61675973, a[first] = 43.55234873\n",
      "i = 54, first = 53, a[i] = 43.76923077, a[first] = 43.71553206\n",
      "i = 55, first = 54, a[i] = 43.84432283, a[first] = 43.76923077\n",
      "i = 56, first = 55, a[i] = 43.88062274, a[first] = 43.84432283\n",
      "i = 57, first = 56, a[i] = 43.88570648, a[first] = 43.88062274\n",
      "i = 58, first = 57, a[i] = 43.91014021, a[first] = 43.88570648\n",
      "i = 59, first = 58, a[i] = 43.933465, a[first] = 43.91014021\n",
      "i = 61, first = 60, a[i] = 44.06090087, a[first] = 44.03674425\n",
      "i = 62, first = 61, a[i] = 44.10704991, a[first] = 44.06090087\n",
      "i = 66, first = 65, a[i] = 44.41149314, a[first] = 44.39329625\n",
      "i = 67, first = 66, a[i] = 44.41722493, a[first] = 44.41149314\n",
      "i = 68, first = 67, a[i] = 44.49436681, a[first] = 44.41722493\n",
      "i = 70, first = 69, a[i] = 44.69735289, a[first] = 44.64600009\n",
      "i = 72, first = 71, a[i] = 44.83599085, a[first] = 44.80107394\n",
      "i = 73, first = 72, a[i] = 44.89912921, a[first] = 44.83599085\n",
      "i = 74, first = 73, a[i] = 44.91297351, a[first] = 44.89912921\n",
      "i = 76, first = 75, a[i] = 45.07107289, a[first] = 45.05193462\n",
      "i = 77, first = 76, a[i] = 45.0732745, a[first] = 45.07107289\n",
      "i = 78, first = 77, a[i] = 45.13336675, a[first] = 45.0732745\n",
      "i = 79, first = 78, a[i] = 45.15726772, a[first] = 45.13336675\n",
      "i = 80, first = 79, a[i] = 45.18509264, a[first] = 45.15726772\n",
      "i = 82, first = 81, a[i] = 45.32398135, a[first] = 45.31440693\n",
      "i = 84, first = 83, a[i] = 45.43490485, a[first] = 45.40692987\n",
      "i = 85, first = 84, a[i] = 45.43839046, a[first] = 45.43490485\n",
      "i = 86, first = 85, a[i] = 45.44588506, a[first] = 45.43839046\n",
      "i = 87, first = 86, a[i] = 45.46679409, a[first] = 45.44588506\n",
      "i = 88, first = 87, a[i] = 45.53993052, a[first] = 45.46679409\n",
      "i = 89, first = 88, a[i] = 45.547497, a[first] = 45.53993052\n",
      "i = 90, first = 89, a[i] = 45.5665112, a[first] = 45.547497\n",
      "i = 91, first = 90, a[i] = 45.58439043, a[first] = 45.5665112\n",
      "i = 92, first = 91, a[i] = 45.6494354, a[first] = 45.58439043\n",
      "i = 93, first = 92, a[i] = 45.66754571, a[first] = 45.6494354\n",
      "i = 94, first = 93, a[i] = 45.69441368, a[first] = 45.66754571\n",
      "i = 95, first = 94, a[i] = 45.73750286, a[first] = 45.69441368\n",
      "i = 96, first = 95, a[i] = 45.8099912, a[first] = 45.73750286\n",
      "i = 97, first = 96, a[i] = 45.81701677, a[first] = 45.8099912\n",
      "i = 98, first = 97, a[i] = 45.85575781, a[first] = 45.81701677\n",
      "i = 99, first = 98, a[i] = 45.9214455, a[first] = 45.85575781\n",
      "i = 100, first = 99, a[i] = 45.94149817, a[first] = 45.9214455\n",
      "i = 101, first = 100, a[i] = 45.95443546, a[first] = 45.94149817\n",
      "i = 103, first = 102, a[i] = 46.06893511, a[first] = 46.06255516\n",
      "i = 104, first = 103, a[i] = 46.13837528, a[first] = 46.06893511\n",
      "i = 105, first = 104, a[i] = 46.17099261, a[first] = 46.13837528\n",
      "i = 0, first = -1, a[i] = 7.320149366, a[first] = 18.1718973\n",
      "i = 4, first = 3, a[i] = 8.054082167, a[first] = 8.027850298\n",
      "i = 7, first = 6, a[i] = 8.481108654, a[first] = 8.423234312\n",
      "i = 8, first = 7, a[i] = 8.526242676, a[first] = 8.481108654\n",
      "i = 9, first = 8, a[i] = 8.551078753, a[first] = 8.526242676\n",
      "i = 10, first = 9, a[i] = 8.559667131, a[first] = 8.551078753\n",
      "i = 11, first = 10, a[i] = 8.591183151, a[first] = 8.559667131\n",
      "i = 12, first = 11, a[i] = 8.615401155, a[first] = 8.591183151\n",
      "i = 13, first = 12, a[i] = 8.621915884, a[first] = 8.615401155\n",
      "i = 17, first = 16, a[i] = 9.110616306, a[first] = 9.085159546\n",
      "i = 18, first = 17, a[i] = 9.160157191, a[first] = 9.110616306\n",
      "i = 19, first = 18, a[i] = 9.190347404, a[first] = 9.160157191\n",
      "i = 21, first = 20, a[i] = 9.330296393, a[first] = 9.273582472\n",
      "i = 22, first = 21, a[i] = 9.393392246, a[first] = 9.330296393\n",
      "i = 25, first = 24, a[i] = 9.692632596, a[first] = 9.668424528\n",
      "i = 27, first = 26, a[i] = 9.87147489, a[first] = 9.8281897\n",
      "i = 30, first = 29, a[i] = 10.21910323, a[first] = 10.14173829\n",
      "i = 32, first = 31, a[i] = 10.32834985, a[first] = 10.3086781\n",
      "i = 33, first = 32, a[i] = 10.40127259, a[first] = 10.32834985\n",
      "i = 38, first = 37, a[i] = 10.92615487, a[first] = 10.91734146\n",
      "i = 39, first = 38, a[i] = 10.99352685, a[first] = 10.92615487\n",
      "i = 41, first = 40, a[i] = 11.11356398, a[first] = 11.09703315\n",
      "i = 42, first = 41, a[i] = 11.12123097, a[first] = 11.11356398\n",
      "i = 44, first = 43, a[i] = 11.33190988, a[first] = 11.25588885\n",
      "i = 45, first = 44, a[i] = 11.3417208, a[first] = 11.33190988\n",
      "i = 46, first = 45, a[i] = 11.35662422, a[first] = 11.3417208\n",
      "i = 48, first = 47, a[i] = 11.61868934, a[first] = 11.54597109\n",
      "i = 51, first = 50, a[i] = 11.88228844, a[first] = 11.87608718\n",
      "i = 53, first = 52, a[i] = 12.10473416, a[first] = 12.04068608\n",
      "i = 55, first = 54, a[i] = 12.21704167, a[first] = 12.19913936\n",
      "i = 56, first = 55, a[i] = 12.24507363, a[first] = 12.21704167\n",
      "i = 58, first = 57, a[i] = 12.38824698, a[first] = 12.33845213\n",
      "i = 60, first = 59, a[i] = 12.51365684, a[first] = 12.48366722\n",
      "i = 61, first = 60, a[i] = 12.5656295, a[first] = 12.51365684\n",
      "i = 63, first = 62, a[i] = 12.66002909, a[first] = 12.6466875\n",
      "i = 65, first = 64, a[i] = 12.90368482, a[first] = 12.86205939\n",
      "i = 66, first = 65, a[i] = 12.91345989, a[first] = 12.90368482\n",
      "i = 69, first = 68, a[i] = 13.3623567, a[first] = 13.35117161\n",
      "i = 70, first = 69, a[i] = 13.39843823, a[first] = 13.3623567\n",
      "i = 71, first = 70, a[i] = 13.45307182, a[first] = 13.39843823\n",
      "i = 72, first = 71, a[i] = 13.5188753, a[first] = 13.45307182\n",
      "i = 73, first = 72, a[i] = 13.57691127, a[first] = 13.5188753\n",
      "i = 74, first = 73, a[i] = 13.5845749, a[first] = 13.57691127\n",
      "i = 75, first = 74, a[i] = 13.62212502, a[first] = 13.5845749\n",
      "i = 77, first = 76, a[i] = 13.71839535, a[first] = 13.70439971\n",
      "i = 78, first = 77, a[i] = 13.76813649, a[first] = 13.71839535\n",
      "i = 81, first = 80, a[i] = 14.21364822, a[first] = 14.16754574\n",
      "i = 82, first = 81, a[i] = 14.22575407, a[first] = 14.21364822\n",
      "i = 83, first = 82, a[i] = 14.25084984, a[first] = 14.22575407\n",
      "i = 84, first = 83, a[i] = 14.27909375, a[first] = 14.25084984\n",
      "i = 85, first = 84, a[i] = 14.33240464, a[first] = 14.27909375\n",
      "i = 87, first = 86, a[i] = 14.73069891, a[first] = 14.65916051\n",
      "i = 88, first = 87, a[i] = 14.7594026, a[first] = 14.73069891\n",
      "i = 89, first = 88, a[i] = 14.78151683, a[first] = 14.7594026\n",
      "i = 90, first = 89, a[i] = 14.79528803, a[first] = 14.78151683\n",
      "i = 94, first = 93, a[i] = 15.55572302, a[first] = 15.54305094\n",
      "i = 99, first = 98, a[i] = 16.29520432, a[first] = 16.25609692\n",
      "i = 101, first = 100, a[i] = 16.59792442, a[first] = 16.59440194\n"
     ]
    }
   ],
   "source": [
    "#%%timeit\n",
    "P_2.clear()\n",
    "smart_binary_search_edges(P_2, city_dataframe, radius)"
   ]
  },
  {
   "cell_type": "markdown",
   "metadata": {},
   "source": [
    "## Checking results of algorithms"
   ]
  },
  {
   "cell_type": "code",
   "execution_count": 19,
   "metadata": {},
   "outputs": [],
   "source": [
    "if P.nodes != P_all_couples.nodes:\n",
    "    raise Exception(\"P.nodes != P_all_couples.nodes\")\n",
    "    \n",
    "if P.edges != P_all_couples.edges:\n",
    "    raise Exception(\"P.edges != P_all_couples.edges\")\n",
    "    \n",
    "if P.nodes != P_2.nodes:\n",
    "    raise Exception(\"P.nodes != P_2.nodes\")\n",
    "    \n",
    "if P.edges != P_2.edges:\n",
    "    raise Exception(\"P.edges != P_2.edges\")    "
   ]
  },
  {
   "cell_type": "markdown",
   "metadata": {},
   "source": [
    "# 2. Create graph of point\n",
    "Generate 2000 pairs of double (x,y) with x in [30,50) and y in [10,20). Repeat the algorithm at step 1, building a graph R using NetworkX where each pair is a node and two nodes are connected with the same rule reported above, still with d=0.08. If the algorithm at step 1 takes too long, repeat step 1. Note that here d=0.08 (and not 0.8 as in the previous item), as in this way the resulting graph is sparser.\n",
    "\n",
    "## Set up variables"
   ]
  },
  {
   "cell_type": "code",
   "execution_count": 16,
   "metadata": {},
   "outputs": [],
   "source": [
    "radius = 0.08\n",
    "R = nx.Graph()\n",
    "xMin = 30\n",
    "xMax = 50\n",
    "yMin = 10\n",
    "yMax = 20\n",
    "couples_count = 2000\n",
    "points_dataframe = pd.DataFrame()\n",
    "\n",
    "# Generate column x with couples_count rows of elements in [xMin, xMax)\n",
    "points_dataframe['x'] = np.random.random_sample(couples_count) * (xMax - xMin) + xMin\n",
    "\n",
    "# Generate column y with couples_count rows of elements in [yMin, yMax)\n",
    "points_dataframe['y'] = np.random.random_sample(couples_count) * (yMax - yMin) + yMin\n",
    "\n",
    "# Generate column label with couples_count rows of (x value, y value)\n",
    "points_dataframe['label'] = \"(\" + points_dataframe['x'].astype(str) + \", \" + points_dataframe['x'].astype(str) + \")\"\n",
    "points_dataframe = points_dataframe[['label', 'x', 'y']]\n",
    "\n",
    "# Replace duplicates to have clean data\n",
    "# We just change y value and check that new couple is unique\n",
    "for dup_ind in points_dataframe[points_dataframe.duplicated()].index:\n",
    "    while (points_dataframe['label'].value_counts()[points_dataframe.loc[dup_ind, 'label']]) > 1:\n",
    "        points_dataframe.loc[dup_ind, 'y'] = np.random.random_sample() * (yMax - yMin) + yMin\n",
    "        points_dataframe.loc[dup_ind, 'label'] = \"(\" + str(points_dataframe.loc[dup_ind, 'x']) + \\\n",
    "          \", \" + str(points_dataframe.loc[dup_ind, 'y']) + \")\""
   ]
  },
  {
   "cell_type": "code",
   "execution_count": 21,
   "metadata": {},
   "outputs": [
    {
     "data": {
      "text/html": [
       "<div>\n",
       "<style scoped>\n",
       "    .dataframe tbody tr th:only-of-type {\n",
       "        vertical-align: middle;\n",
       "    }\n",
       "\n",
       "    .dataframe tbody tr th {\n",
       "        vertical-align: top;\n",
       "    }\n",
       "\n",
       "    .dataframe thead th {\n",
       "        text-align: right;\n",
       "    }\n",
       "</style>\n",
       "<table border=\"1\" class=\"dataframe\">\n",
       "  <thead>\n",
       "    <tr style=\"text-align: right;\">\n",
       "      <th></th>\n",
       "      <th>label</th>\n",
       "      <th>x</th>\n",
       "      <th>y</th>\n",
       "    </tr>\n",
       "  </thead>\n",
       "  <tbody>\n",
       "    <tr>\n",
       "      <th>0</th>\n",
       "      <td>(39.451853984277996, 39.451853984277996)</td>\n",
       "      <td>39.451854</td>\n",
       "      <td>17.196414</td>\n",
       "    </tr>\n",
       "    <tr>\n",
       "      <th>1</th>\n",
       "      <td>(36.084492795793, 36.084492795793)</td>\n",
       "      <td>36.084493</td>\n",
       "      <td>19.696069</td>\n",
       "    </tr>\n",
       "    <tr>\n",
       "      <th>2</th>\n",
       "      <td>(30.81100867924217, 30.81100867924217)</td>\n",
       "      <td>30.811009</td>\n",
       "      <td>16.605569</td>\n",
       "    </tr>\n",
       "    <tr>\n",
       "      <th>3</th>\n",
       "      <td>(39.890160671425456, 39.890160671425456)</td>\n",
       "      <td>39.890161</td>\n",
       "      <td>16.300545</td>\n",
       "    </tr>\n",
       "    <tr>\n",
       "      <th>4</th>\n",
       "      <td>(37.46475633196762, 37.46475633196762)</td>\n",
       "      <td>37.464756</td>\n",
       "      <td>10.906215</td>\n",
       "    </tr>\n",
       "    <tr>\n",
       "      <th>...</th>\n",
       "      <td>...</td>\n",
       "      <td>...</td>\n",
       "      <td>...</td>\n",
       "    </tr>\n",
       "    <tr>\n",
       "      <th>1995</th>\n",
       "      <td>(32.65217823372854, 32.65217823372854)</td>\n",
       "      <td>32.652178</td>\n",
       "      <td>19.362897</td>\n",
       "    </tr>\n",
       "    <tr>\n",
       "      <th>1996</th>\n",
       "      <td>(36.06550284311576, 36.06550284311576)</td>\n",
       "      <td>36.065503</td>\n",
       "      <td>16.331390</td>\n",
       "    </tr>\n",
       "    <tr>\n",
       "      <th>1997</th>\n",
       "      <td>(36.416922580047256, 36.416922580047256)</td>\n",
       "      <td>36.416923</td>\n",
       "      <td>16.740374</td>\n",
       "    </tr>\n",
       "    <tr>\n",
       "      <th>1998</th>\n",
       "      <td>(44.670585672835855, 44.670585672835855)</td>\n",
       "      <td>44.670586</td>\n",
       "      <td>10.737725</td>\n",
       "    </tr>\n",
       "    <tr>\n",
       "      <th>1999</th>\n",
       "      <td>(46.07788302767368, 46.07788302767368)</td>\n",
       "      <td>46.077883</td>\n",
       "      <td>15.562594</td>\n",
       "    </tr>\n",
       "  </tbody>\n",
       "</table>\n",
       "<p>2000 rows × 3 columns</p>\n",
       "</div>"
      ],
      "text/plain": [
       "                                         label          x          y\n",
       "0     (39.451853984277996, 39.451853984277996)  39.451854  17.196414\n",
       "1           (36.084492795793, 36.084492795793)  36.084493  19.696069\n",
       "2       (30.81100867924217, 30.81100867924217)  30.811009  16.605569\n",
       "3     (39.890160671425456, 39.890160671425456)  39.890161  16.300545\n",
       "4       (37.46475633196762, 37.46475633196762)  37.464756  10.906215\n",
       "...                                        ...        ...        ...\n",
       "1995    (32.65217823372854, 32.65217823372854)  32.652178  19.362897\n",
       "1996    (36.06550284311576, 36.06550284311576)  36.065503  16.331390\n",
       "1997  (36.416922580047256, 36.416922580047256)  36.416923  16.740374\n",
       "1998  (44.670585672835855, 44.670585672835855)  44.670586  10.737725\n",
       "1999    (46.07788302767368, 46.07788302767368)  46.077883  15.562594\n",
       "\n",
       "[2000 rows x 3 columns]"
      ]
     },
     "execution_count": 21,
     "metadata": {},
     "output_type": "execute_result"
    }
   ],
   "source": [
    "points_dataframe"
   ]
  },
  {
   "cell_type": "markdown",
   "metadata": {},
   "source": [
    "## Create Graph using algorithm # 1"
   ]
  },
  {
   "cell_type": "code",
   "execution_count": null,
   "metadata": {
    "pycharm": {
     "name": "#%% md\n"
    }
   },
   "outputs": [],
   "source": [
    "#P_all_couples.clear()\n",
    "#all_couple_edges(P_all_couples, points_dataframe, radius)\n",
    "print('Cell commented because of high time consuming, executed just once with result:')\n",
    "print('1min 25s ± 234 ms per loop (mean ± std. dev. of 7 runs, 1 loop each)')"
   ]
  },
  {
   "cell_type": "markdown",
   "metadata": {
    "pixiedust": {
     "displayParams": {}
    },
    "pycharm": {
     "name": "#%%\n"
    },
    "scrolled": true
   },
   "source": [
    "## Create Graph using algorithm # 2"
   ]
  },
  {
   "cell_type": "code",
   "execution_count": 17,
   "metadata": {},
   "outputs": [
    {
     "name": "stdout",
     "output_type": "stream",
     "text": [
      "1.53 s ± 103 ms per loop (mean ± std. dev. of 7 runs, 1 loop each)\n"
     ]
    }
   ],
   "source": [
    "%%timeit\n",
    "R.clear()\n",
    "binary_search_edges(R, points_dataframe, radius)"
   ]
  },
  {
   "cell_type": "code",
   "execution_count": 57,
   "metadata": {
    "pycharm": {
     "name": "#%% md\n"
    }
   },
   "outputs": [
    {
     "name": "stdout",
     "output_type": "stream",
     "text": [
      "2.45 s ± 25.3 ms per loop (mean ± std. dev. of 7 runs, 1 loop each)\n"
     ]
    }
   ],
   "source": [
    "%%timeit\n",
    "R.clear()\n",
    "smart_binary_search_edges(R, points_dataframe, radius)"
   ]
  },
  {
   "cell_type": "code",
   "execution_count": null,
   "metadata": {
    "pycharm": {
     "name": "#%%\n"
    }
   },
   "outputs": [],
   "source": [
    "# 3. Weight graphs\n",
    "Both P and R can be seen as weighted graphs putting on each edge the distance between the two cities. Modify P and R to weight their edges.\n",
    "\n",
    "### Utility function\n",
    "Given a graph and a dataframe containing all nodes of the graph with:\n",
    " - Column 0 $\\rightarrow$ ID\n",
    " - Column 1 $\\rightarrow$ X Position  \n",
    " - Column 2 $\\rightarrow$ Y Position  \n",
    " \n",
    "adds weight (distance) to each edge of the graph "
   ]
  },
  {
   "cell_type": "code",
   "execution_count": 18,
   "metadata": {},
   "outputs": [],
   "source": [
    "def weightGraph(graph, dataframe):\n",
    "    for edge in graph.edges:\n",
    "        graph.edges[edge]['weight'] = mt.sqrt(((dataframe.loc[dataframe.iloc[:, 0] == edge[0]].iloc[0, 1]) - \\\n",
    "                                         (dataframe.loc[dataframe.iloc[:, 0] == edge[1]].iloc[0, 1])) ** 2 +\\\n",
    "                                        ((dataframe.loc[dataframe.iloc[:, 0] == edge[0]].iloc[0, 2]) - \\\n",
    "                                         (dataframe.loc[dataframe.iloc[:, 0] == edge[1]].iloc[0, 2])) ** 2)"
   ]
  },
  {
   "cell_type": "code",
   "execution_count": 19,
   "metadata": {
    "pycharm": {
     "name": "#%% md\n"
    }
   },
   "outputs": [],
   "source": [
    "weightGraph(P, city_dataframe)\n",
    "weightGraph(R, points_dataframe)"
   ]
  },
  {
   "cell_type": "markdown",
   "metadata": {},
   "source": [
    "# 4. Eulerian Path\n",
    "\n",
    "From Wikipedia (https://en.wikipedia.org/wiki/Eulerian_path):\n",
    "In graph theory, an Eulerian trail (or Eulerian path) is a trail in a finite graph that visits every edge exactly once (allowing for revisiting vertices). Similarly, an Eulerian circuit or Eulerian cycle is an Eulerian trail that starts and ends on the same vertex."
   ]
  },
  {
   "cell_type": "markdown",
   "metadata": {
    "pycharm": {
     "name": "#%%\n"
    }
   },
   "source": [
    "## Utility function\n",
    "Defining a generic function to draw graphs having an \"order\" attribute on edges.  \n",
    "Edges will have different color basing on visit order and a label with visit order."
   ]
  },
  {
   "cell_type": "code",
   "execution_count": 20,
   "metadata": {},
   "outputs": [],
   "source": [
    "def draw_graph_viz(graph, attribute = None):\n",
    "    cmap = plt.cm.get_cmap('Blues')\n",
    "    norm = mpl.colors.Normalize(vmin = -2, vmax = len(graph.edges))\n",
    "    \n",
    "    # We want graph to be directed only if attribute != None\n",
    "    # Otherwise it means we are drawing the original graph (unidrect)\n",
    "    gr = pgv.AGraph(directed = (attribute != None))\n",
    "    \n",
    "    for start, end, attr in graph.edges(data = True):\n",
    "        if attribute != None:\n",
    "            gr.add_edge(start, end, color = str(mpl.colors.to_hex(cmap(norm(attr[attribute])))), \\\n",
    "                        label = \" \" + str(attr[attribute]))\n",
    "        else:\n",
    "            gr.add_edge(start, end)\n",
    "            \n",
    "    for node in graph.nodes():\n",
    "        gr.add_node(node)\n",
    "    \n",
    "    gr.layout(prog = 'dot')\n",
    "    gr.draw(\"file.png\")\n",
    "    display(Image(\"file.png\"))    "
   ]
  },
  {
   "cell_type": "code",
   "execution_count": 21,
   "metadata": {
    "pycharm": {
     "name": "#%% md\n"
    }
   },
   "outputs": [],
   "source": [
    "def draw_graph(graph, attribute = None, figsize = None):\n",
    "    plt.figure(figsize = figsize)\n",
    "    cmap = plt.cm.Blues\n",
    "    font_size = 25\n",
    "    pos = nx.circular_layout(graph)\n",
    "    node_color = '#A0CBE2'    \n",
    "    node_size = 1500\n",
    "    \n",
    "    if attribute != None:\n",
    "        # Retrieving labels to be put on edges\n",
    "        edge_labels = dict([((start, end, ), attr[attribute]) \\\n",
    "                            for start, end, attr in graph.edges(data = True)])\n",
    "        # Setting different colors on edges basing on attribute value\n",
    "        colors = [attr[attribute] for start, end, attr in graph.edges(data = True)]\n",
    "        \n",
    "        nx.draw_networkx_edge_labels(graph, pos = pos, edge_labels = edge_labels, font_size = font_size)\n",
    "        \n",
    "        sm = plt.cm.ScalarMappable(cmap = cmap, norm = plt.Normalize(vmin = min(colors), vmax=max(colors)))\n",
    "        plt.colorbar(sm, ticks = colors)\n",
    "        \n",
    "    else:\n",
    "        edge_labels = None\n",
    "        colors = node_color\n",
    "    \n",
    "    nx.draw(graph, with_labels = True, pos = pos, \\\n",
    "            node_color = node_color, font_size = font_size, node_size = node_size, font_color = 'w', \\\n",
    "            edge_color = colors, width = 4, edge_cmap = cmap)\n",
    "    plt.show()"
   ]
  },
  {
   "cell_type": "markdown",
   "metadata": {
    "pycharm": {
     "name": "#%%\n"
    }
   },
   "source": [
    "## Exception definition\n",
    "These exceptions will be used to manage eventual limitation of following algorithms"
   ]
  },
  {
   "cell_type": "code",
   "execution_count": null,
   "metadata": {
    "pycharm": {
     "name": "#%% md\n"
    }
   },
   "outputs": [],
   "source": [
    "class NotConnectedGraph(Exception):\n",
    "    def __init__(self, message):\n",
    "        self.message = message\n",
    "        \n",
    "class TooManyOddNodes(Exception):\n",
    "    def __init__(self, message):\n",
    "        self.message = message        "
   ]
  },
  {
   "cell_type": "markdown",
   "metadata": {
    "pycharm": {
     "name": "#%%\n"
    }
   },
   "source": [
    "## Fleury's algorithm\n",
    "Fleury's algorithm is an elegant but inefficient algorithm.\n",
    " 1. Check that graph has all edges in the same component\n",
    " 2. Check that graph has at most 2 vertices of odd degree\n",
    " 3. Choose a vertex of odd degree, if the graph has none choose an arbitrary vertex.  \n",
    "    3.1 Choose next edge in the path to be one whose deletion would not disconnect the graph.  If there is no such edge pick the remaining edge left at the current vertex.  \n",
    "    3.2 Use this edge to reach the other node and delete the edge.  \n",
    "    3.3 If current vertex has no more edges it means that the Graph has no more edge. Otherwise return to 3.1\n",
    "    \n",
    "While the graph traversal in Fleury's algorithm is linear in the number of edges, i.e. $\\mathcal{O}\\ (\\ |E|\\ )$, we also need to factor in the complexity of detecting bridges.  \n",
    "If we are to re-run Tarjan's linear time bridge-finding algorithm after the removal of every edge, Fleury's algorithm will have a time complexity of $\\mathcal{O}\\ (\\ |E|^2\\ )$.  \n",
    "A dynamic bridge-finding algorithm of Thorup allows this to be improved to $\\mathcal{O}\\ (\\ |E|\\ \\cdot\\ (\\ log\\ ⁡|E|\\ )^3\\ log\\ log\\ |E|\\ )$, but this is still significantly slower than alternative algorithms. "
   ]
  },
  {
   "cell_type": "code",
   "execution_count": null,
   "metadata": {},
   "outputs": [],
   "source": [
    "def fleury(graph, viz = True):\n",
    "    # graph that will represent with direct edges\n",
    "    # the eulerian trail\n",
    "    trail = nx.DiGraph()    \n",
    "    \n",
    "    # Check if graph is connected\n",
    "    if not nx.is_connected(graph):\n",
    "        raise NotConnectedGraph(\"Graph is not connected\")\n",
    "\n",
    "    # Use of tmpGraph to leave graph as received\n",
    "    tmpGraph = graph.copy()\n",
    "    \n",
    "    # Check which nodes have odd degree and raise exception if more than 2 have been found\n",
    "    odd_degree_nodes = []\n",
    "    for node in tmpGraph.nodes:\n",
    "        if tmpGraph.degree(node) % 2 != 0:\n",
    "            odd_degree_nodes.append(node)\n",
    "            if len(odd_degree_nodes) > 2:\n",
    "                raise TooManyOddNodes(\"Graph has at least 3 nodes with odd degree: \" + str(odd_degree_nodes))            \n",
    "    \n",
    "    print(\"Original graph\")\n",
    "    if viz:\n",
    "        draw_graph_viz(graph)\n",
    "    else:\n",
    "        draw_graph(graph, figsize = (6, 6))\n",
    "        \n",
    "    # Start with a node with odd degree (if any)\n",
    "    if len(odd_degree_nodes) > 0:\n",
    "        node = odd_degree_nodes[0]\n",
    "    else:\n",
    "        node = [*tmpGraph.nodes][0]\n",
    "    \n",
    "    end = False\n",
    "    trail.add_node(node)\n",
    "    order = 1\n",
    "    while not end:\n",
    "        # Search non-bridge edges\n",
    "        not_bridge_edges = {*tmpGraph.edges(node)} - {*nx.bridges(tmpGraph, node)}\n",
    "        if len(not_bridge_edges) > 0:\n",
    "            next_node = not_bridge_edges.pop()[1]\n",
    "                \n",
    "        # If node has at least 1 neighbour\n",
    "        elif len(tmpGraph[node]) > 0:\n",
    "            next_node = [*tmpGraph[node]][0]\n",
    "            \n",
    "        else:\n",
    "            end = True                \n",
    "        \n",
    "        if not end:\n",
    "            trail.add_edge(node, next_node, order = order)\n",
    "            tmpGraph.remove_edge(node, next_node)\n",
    "            node = next_node\n",
    "            print(\"Step #\" + str(order))            \n",
    "            if viz:\n",
    "                draw_graph_viz(trail, \"order\")\n",
    "            else:\n",
    "                draw_graph(trail, \"order\")\n",
    "            order = order + 1"
   ]
  },
  {
   "cell_type": "code",
   "execution_count": null,
   "metadata": {},
   "outputs": [],
   "source": [
    "Ex = nx.Graph()\n",
    "Ex.add_edges_from([(0, 1), (0, 2), (1, 2), (2, 3)])\n",
    "fleury(Ex);"
   ]
  },
  {
   "cell_type": "code",
   "execution_count": null,
   "metadata": {},
   "outputs": [],
   "source": [
    "def run(graph, fun):\n",
    "    try:\n",
    "        fun(graph)\n",
    "    except TooManyOddNodes as exc:\n",
    "        print(str(exc))\n",
    "    except NotConnectedGraph:\n",
    "        print(\"Graph is not connected, algorithm will be applied on single connected components\")\n",
    "        for nodes in list(nx.connected_components(graph)):\n",
    "            print(\"-------------------------------\")\n",
    "            print(\"Connected component: \" + str(nodes))\n",
    "            conn_comp_graph = nx.subgraph(graph, nodes)\n",
    "            if len(nodes) <= 3:\n",
    "                print(\"Connected component has just \" + str(len(nodes)) + \" nodes, Eulerian trail is trivial\")\n",
    "            else:\n",
    "                try:\n",
    "                    fun(conn_comp_graph)\n",
    "                except TooManyOddNodes as exc:\n",
    "                    print(\"This connected component will be skipped\")\n",
    "                    print(str(exc))"
   ]
  },
  {
   "cell_type": "code",
   "execution_count": null,
   "metadata": {},
   "outputs": [],
   "source": [
    "run(P, fleury)"
   ]
  },
  {
   "cell_type": "markdown",
   "metadata": {
    "pycharm": {
     "name": "#%% md\n"
    }
   },
   "source": [
    "run(R, fleury)"
   ]
  },
  {
   "cell_type": "markdown",
   "metadata": {},
   "source": [
    "## Hierholzer's algorithm\n",
    "Hierholzer's is more efficient than Fleury's algorithm:\n",
    "  1. Choose any starting vertex v\n",
    "  2. Follow a trail of edges from that vertex until returning to v.  \n",
    "      It is not possible to get stuck at any vertex other than v, because the even degree of all vertices ensures that, when the trail enters another vertex w there must be an unused edge leaving w. The tour formed in this way is a closed tour, but may not cover all the vertices and edges of the initial graph.\n",
    "  3. As long as there exists a vertex u that belongs to the current tour but that has adjacent edges not part of the tour, start another trail from u, following unused edges until returning to u, and join the tour formed in this way to the previous tour.\n",
    "\n",
    "Since we assume the original graph is connected, repeating the previous step will exhaust all edges of the graph.\n",
    "If "
   ]
  },
  {
   "cell_type": "code",
   "execution_count": null,
   "metadata": {
    "pycharm": {
     "name": "#%%\n"
    }
   },
   "outputs": [],
   "source": [
    "## Utility Class Double Linked List\n",
    "In this way add and pop at begin or end will cost $\\mathcal{\\Theta}\\ (\\ 1\\ )$"
   ]
  },
  {
   "cell_type": "code",
   "execution_count": null,
   "metadata": {},
   "outputs": [],
   "source": [
    "class Node:\n",
    "    def __init__(self, initdata):\n",
    "        self.data = initdata\n",
    "        self.next = None\n",
    "        self.prev = None\n",
    "\n",
    "    def getData(self):\n",
    "        return self.data\n",
    "\n",
    "    def getNext(self):\n",
    "        return self.next\n",
    "    \n",
    "    def getPrev(self):\n",
    "        return self.prev\n",
    "\n",
    "    def setData(self,newdata):\n",
    "        self.data = newdata\n",
    "\n",
    "    def setNext(self, next):\n",
    "        self.next = next\n",
    "        \n",
    "    def setPrev(self, prev):\n",
    "        self.prev = prev\n",
    "        \n",
    "    def __str__(self):\n",
    "        return str(self.data)\n",
    "        \n",
    "class DoubleLinkedList:\n",
    "    def __init__(self):\n",
    "        self.head = None\n",
    "        self.tail = None\n",
    "        \n",
    "    def __iter__(self):\n",
    "        return DoubleLinkedListIterator(self)\n",
    "\n",
    "    def isEmpty(self):\n",
    "        return self.head == None\n",
    "    \n",
    "    def add_begin(self, item):\n",
    "        temp = Node(item)\n",
    "        if self.isEmpty():\n",
    "            self.tail = temp\n",
    "        else:\n",
    "            self.head.setPrev(temp)\n",
    "            temp.setNext(self.head)            \n",
    "        self.head = temp\n",
    "        \n",
    "    def add_end(self, item):\n",
    "        temp = Node(item)\n",
    "        if self.isEmpty():\n",
    "            self.head = temp\n",
    "        else:\n",
    "            self.tail.setNext(temp)\n",
    "            temp.setPrev(self.tail)\n",
    "        self.tail = temp\n",
    "        \n",
    "    def pop_begin(self):\n",
    "        temp = self.head\n",
    "        self.head = temp.next\n",
    "        # If list is empty after pop\n",
    "        if self.head == None:\n",
    "            self.tail = None\n",
    "        else:\n",
    "            self.head.setPrev(None)\n",
    "        return temp.getData()\n",
    "        \n",
    "    def pop_end(self):\n",
    "        temp = self.tail\n",
    "        self.tail = temp.prev\n",
    "        # If list is empty after pop\n",
    "        if self.tail == None:\n",
    "            self.head = None\n",
    "        else:\n",
    "            self.tail.setNext(None)\n",
    "        return temp.getData()\n",
    "        \n",
    "    def __str__(self):\n",
    "        ret_str = \"head --> \"\n",
    "        for node in self:\n",
    "            if ret_str != \"head --> \":\n",
    "                ret_str += \" <--> \"\n",
    "            ret_str += str(node)\n",
    "        ret_str += \" <-- tail\"\n",
    "        return ret_str\n",
    "            \n",
    "class DoubleLinkedListIterator:\n",
    "    def __init__(self, doubleLinkedList):\n",
    "        self.doubleLinkedList = doubleLinkedList\n",
    "        self.pointer = doubleLinkedList.head\n",
    "        \n",
    "    def __next__(self):\n",
    "        if self.pointer == None:\n",
    "            raise StopIteration\n",
    "        else:\n",
    "            node = self.pointer\n",
    "            self.pointer = self.pointer.next\n",
    "            return node"
   ]
  },
  {
   "cell_type": "code",
   "execution_count": null,
   "metadata": {},
   "outputs": [],
   "source": [
    "def hierholzer(graph, viz = True):\n",
    "    # Directed Graph that will contain Eulerian path\n",
    "    trail = nx.DiGraph()\n",
    "    \n",
    "    # Double Linked List that will contain current path\n",
    "    curr_path = DoubleLinkedList()\n",
    "    \n",
    "    # Check if graph is connected\n",
    "    if not nx.is_connected(graph):\n",
    "        raise NotConnectedGraph(\"Graph is not connected\")\n",
    "\n",
    "    # Use of tmpGraph to leave graph as received\n",
    "    tmpGraph = graph.copy()\n",
    "    \n",
    "    # Check which nodes have odd degree and raise exception if more than 2 have been found\n",
    "    odd_degree_nodes = []\n",
    "    for node in tmpGraph.nodes:\n",
    "        if tmpGraph.degree(node) % 2 != 0:\n",
    "            odd_degree_nodes.append(node)\n",
    "            if len(odd_degree_nodes) > 2:\n",
    "                raise TooManyOddNodes(\"Graph has at least 3 nodes with odd degree: \" + str(odd_degree_nodes))            \n",
    "    \n",
    "    print(\"Original graph\")\n",
    "    if viz:\n",
    "        draw_graph_viz(graph)\n",
    "    else:\n",
    "        draw_graph(graph, figsize = (6, 6))\n",
    "        \n",
    "    # Start with an odd node (if any)\n",
    "    if len(odd_degree_nodes) > 0:\n",
    "        node = odd_degree_nodes[0]\n",
    "    else:\n",
    "        node = [*tmpGraph.nodes][0]\n",
    "    \n",
    "    end = False\n",
    "    order = 1\n",
    "    curr_path.add_end(node)\n",
    "    prev_node = None\n",
    "    while not end:\n",
    "        print(\"Step #\" + str(order))            \n",
    "        # If node has at least 1 neighbour\n",
    "        if len(tmpGraph[node]) > 0:\n",
    "            next_node = [*tmpGraph[node]][0]\n",
    "            \n",
    "        else:\n",
    "            # If we visited all edges we just need to add to DiGraph\n",
    "            # all edges from curr_path\n",
    "            if len(tmpGraph.edges()) == 0:\n",
    "                end = True\n",
    "                while not curr_path.isEmpty():\n",
    "                    node = curr_path.pop_end()\n",
    "                    trail.add_node(node)\n",
    "                    if prev_node != None:\n",
    "                        trail.add_edge(prev_node, node, order = len(trail.edges()) + 1)\n",
    "                    prev_node = node\n",
    "            # If there are still some edges in the Graph\n",
    "            else:\n",
    "                found = False\n",
    "                end = True\n",
    "                # We search within all already visited nodes in curr_path\n",
    "                while not curr_path.isEmpty() and not found:\n",
    "                    node = curr_path.pop_end()\n",
    "                    # If extracted node from curr_path has at least a non-visited edge\n",
    "                    # we set that node as next_node\n",
    "                    if len(tmpGraph[node]) > 0:\n",
    "                        next_node = [*tmpGraph[node]][0]\n",
    "                        curr_path.add_end(node)\n",
    "                        found = True\n",
    "                        end = False\n",
    "                    # Otherwise we add that node to trail\n",
    "                    else:\n",
    "                        if prev_node == None:\n",
    "                            prev_node = node\n",
    "                            trail.add_node(prev_node)\n",
    "                        else:\n",
    "                            trail.add_edge(prev_node, node, order = len(trail.edges()) + 1)                \n",
    "                            prev_node = node\n",
    "        \n",
    "        if not end:\n",
    "            tmpGraph.remove_edge(node, next_node)\n",
    "            curr_path.add_end(next_node)\n",
    "            node = next_node\n",
    "        \n",
    "        print(\"Curr Path: \" + str(curr_path))\n",
    "        if viz:\n",
    "            draw_graph_viz(trail, \"order\")\n",
    "        else:\n",
    "            draw_graph(trail, \"order\")\n",
    "        order = order + 1    "
   ]
  },
  {
   "cell_type": "code",
   "execution_count": null,
   "metadata": {
    "scrolled": false
   },
   "outputs": [],
   "source": [
    "Ex = nx.Graph()\n",
    "Ex.add_nodes_from(range(1, 7))\n",
    "Ex.add_edges_from([(1, 2), (1, 3), (1, 5), (1, 6), (2, 5), (2, 6), (2, 3), (3, 6), (4, 3), (4, 5), (5, 6)])\n",
    "hierholzer(Ex)"
   ]
  },
  {
   "cell_type": "code",
   "execution_count": 58,
   "metadata": {},
   "outputs": [
    {
     "ename": "NameError",
     "evalue": "name 'hierholzer' is not defined",
     "output_type": "error",
     "traceback": [
      "\u001b[0;31m---------------------------------------------------------------------------\u001b[0m",
      "\u001b[0;31mNameError\u001b[0m                                 Traceback (most recent call last)",
      "\u001b[0;32m<ipython-input-58-285c5854c663>\u001b[0m in \u001b[0;36m<module>\u001b[0;34m\u001b[0m\n\u001b[1;32m      2\u001b[0m \u001b[0mEx\u001b[0m\u001b[0;34m.\u001b[0m\u001b[0madd_nodes_from\u001b[0m\u001b[0;34m(\u001b[0m\u001b[0;34m\"abcdef\"\u001b[0m\u001b[0;34m)\u001b[0m\u001b[0;34m\u001b[0m\u001b[0;34m\u001b[0m\u001b[0m\n\u001b[1;32m      3\u001b[0m \u001b[0mEx\u001b[0m\u001b[0;34m.\u001b[0m\u001b[0madd_edges_from\u001b[0m\u001b[0;34m(\u001b[0m\u001b[0;34m[\u001b[0m\u001b[0;34m(\u001b[0m\u001b[0;34m'a'\u001b[0m\u001b[0;34m,\u001b[0m \u001b[0;34m'b'\u001b[0m\u001b[0;34m)\u001b[0m\u001b[0;34m,\u001b[0m \u001b[0;34m(\u001b[0m\u001b[0;34m'a'\u001b[0m\u001b[0;34m,\u001b[0m \u001b[0;34m'c'\u001b[0m\u001b[0;34m)\u001b[0m\u001b[0;34m,\u001b[0m \u001b[0;34m(\u001b[0m\u001b[0;34m'd'\u001b[0m\u001b[0;34m,\u001b[0m \u001b[0;34m'b'\u001b[0m\u001b[0;34m)\u001b[0m\u001b[0;34m,\u001b[0m \u001b[0;34m(\u001b[0m\u001b[0;34m'd'\u001b[0m\u001b[0;34m,\u001b[0m \u001b[0;34m'c'\u001b[0m\u001b[0;34m)\u001b[0m\u001b[0;34m,\u001b[0m \u001b[0;34m(\u001b[0m\u001b[0;34m'e'\u001b[0m\u001b[0;34m,\u001b[0m \u001b[0;34m'c'\u001b[0m\u001b[0;34m)\u001b[0m\u001b[0;34m,\u001b[0m \u001b[0;34m(\u001b[0m\u001b[0;34m'e'\u001b[0m\u001b[0;34m,\u001b[0m \u001b[0;34m'f'\u001b[0m\u001b[0;34m)\u001b[0m\u001b[0;34m,\u001b[0m \u001b[0;34m(\u001b[0m\u001b[0;34m'c'\u001b[0m\u001b[0;34m,\u001b[0m \u001b[0;34m'f'\u001b[0m\u001b[0;34m)\u001b[0m\u001b[0;34m]\u001b[0m\u001b[0;34m)\u001b[0m\u001b[0;34m\u001b[0m\u001b[0;34m\u001b[0m\u001b[0m\n\u001b[0;32m----> 4\u001b[0;31m \u001b[0mhierholzer\u001b[0m\u001b[0;34m(\u001b[0m\u001b[0mEx\u001b[0m\u001b[0;34m)\u001b[0m\u001b[0;34m\u001b[0m\u001b[0;34m\u001b[0m\u001b[0m\n\u001b[0m",
      "\u001b[0;31mNameError\u001b[0m: name 'hierholzer' is not defined"
     ]
    }
   ],
   "source": [
    "Ex = nx.Graph()\n",
    "Ex.add_nodes_from(\"abcdef\")\n",
    "Ex.add_edges_from([('a', 'b'), ('a', 'c'), ('d', 'b'), ('d', 'c'), ('e', 'c'), ('e', 'f'), ('c', 'f')])\n",
    "hierholzer(Ex)"
   ]
  },
  {
   "cell_type": "code",
   "execution_count": null,
   "metadata": {},
   "outputs": [],
   "source": [
    "run(P, hierholzer)"
   ]
  },
  {
   "cell_type": "code",
   "execution_count": null,
   "metadata": {
    "pycharm": {
     "name": "#%% md\n"
    }
   },
   "outputs": [],
   "source": [
    "run(R, hierholzer)"
   ]
  },
  {
   "cell_type": "markdown",
   "metadata": {
    "pycharm": {
     "name": "#%%\n"
    }
   },
   "source": [
    "# 5. Eccentricity Centrality\n",
    "From Wikipedia page: https://en.wikipedia.org/wiki/Distance_(graph_theory)\n",
    "\n",
    "A **peripheral** vertex in a graph of diameter *d* is one that is distance *d* from some other vertex.  \n",
    "Formallly: $v$ is peripheral $\\Leftrightarrow\\ \\epsilon\\ (\\ v\\ )\\ =\\ d$.\n",
    "\n",
    "A **pseudo-peripheral** vertex has the property that for any vertex $u$, if $v$ is as far away from $u$ as possible, then $u$ is as far away from $v$ as possible.  \n",
    "Formally: $u$ is pseudo-peripheral $\\Leftrightarrow \\forall\\ v\\ .\\ d\\ (\\ u\\ ,\\  v\\ )\\ =\\ \\epsilon\\ (\\ u\\ )$ holds $\\epsilon\\ (\\ u\\ ) = \\epsilon\\ (\\ v\\ )$.\n",
    "\n",
    "## Algorithm\n",
    "Often peripheral sparse matrix algorithms need a starting vertex with a high eccentricity. A peripheral vertex would be perfect, but is often hard to calculate. In most circumstances a pseudo-peripheral vertex can be used. It can easily be found with the following algorithm:\n",
    " 1. Choose a vertex u.\n",
    " 2. Among all the vertices that are as far from u as possible, let v be one with minimal degree.  \n",
    "   2.1. If $\\epsilon\\ (\\ v\\ )\\ >\\ \\epsilon\\ (\\ u\\ )\\ \\rightarrow$ set $u = v$ and return to step 2  \n",
    "    2.2. Else $u$ is a pseudo-peripheral vertex."
   ]
  },
  {
   "cell_type": "code",
   "execution_count": 99,
   "metadata": {},
   "outputs": [],
   "source": [
    "# Returns eccentricity of p_start_node and node at maximum distance having minimal degree\n",
    "def bfs_peripheral(p_graph, p_start_node):\n",
    "    bfs_que = qu.SimpleQueue()\n",
    "    bfs_que.put((p_start_node, 0))\n",
    "    max_dist_node = None\n",
    "    eccentricity = -1\n",
    "    queued = {p_start_node : None}\n",
    "    while not bfs_que.empty():\n",
    "        (act_node, dist) = bfs_que.get()        \n",
    "        leaf = True\n",
    "        for node in p_graph[act_node]:\n",
    "            if node not in queued:\n",
    "                if leaf:\n",
    "                    leaf = False\n",
    "                queued[node] = None\n",
    "                bfs_que.put((node, dist + 1))\n",
    "            \n",
    "        if leaf and \\\n",
    "        (dist > eccentricity or \\\n",
    "         (dist == eccentricity and \\\n",
    "          p_graph.degree[max_dist_node] > p_graph.degree[act_node])):\n",
    "            max_dist_node = act_node\n",
    "            eccentricity = dist\n",
    "            \n",
    "    return (eccentricity, max_dist_node)"
   ]
  },
  {
   "cell_type": "code",
   "execution_count": 103,
   "metadata": {},
   "outputs": [],
   "source": [
    "def pseudo_peripheral(p_graph, p_start_node = None):\n",
    "    if p_start_node == None:\n",
    "        p_start_node = [*p_graph.nodes()][0]\n",
    "    \n",
    "    u = p_start_node\n",
    "    eccentricity_u, v = bfs_peripheral(p_graph, u)\n",
    "    print(\"u = \" + str(u) + \", ecc(\" + str(u) + \") = \" + str(eccentricity_u) + \", v = \" + str(v))\n",
    "    while True:\n",
    "        eccentricity_v, z = bfs_peripheral(p_graph, v)        \n",
    "        print(\"ecc(\" + str(v) + \") = \" + str(eccentricity_v) + \", z = \" + str(z))\n",
    "        if eccentricity_v == eccentricity_u:\n",
    "            return u\n",
    "        \n",
    "        eccentricity_u = eccentricity_v\n",
    "        u = v\n",
    "        v = z"
   ]
  },
  {
   "cell_type": "code",
   "execution_count": 104,
   "metadata": {},
   "outputs": [
    {
     "data": {
      "image/png": "[encoded data removed]",
      "text/plain": [
       "<Figure size 432x288 with 1 Axes>"
      ]
     },
     "metadata": {},
     "output_type": "display_data"
    },
    {
     "name": "stdout",
     "output_type": "stream",
     "text": [
      "u = 1, ecc(1) = 2, v = 3\n",
      "ecc(3) = 2, z = 1\n"
     ]
    },
    {
     "data": {
      "text/plain": [
       "1"
      ]
     },
     "execution_count": 104,
     "metadata": {},
     "output_type": "execute_result"
    }
   ],
   "source": [
    "Ex = nx.Graph()\n",
    "Ex.add_nodes_from(range(1,5))\n",
    "Ex.add_edges_from([(1, 2), (1, 4), (2, 3), (2, 3), (2, 4), (3, 4)])\n",
    "draw_graph(Ex)\n",
    "pseudo_peripheral(Ex)"
   ]
  },
  {
   "cell_type": "code",
   "execution_count": 105,
   "metadata": {},
   "outputs": [
    {
     "data": {
      "image/png": "[encoded data removed]",
      "text/plain": [
       "<Figure size 432x288 with 1 Axes>"
      ]
     },
     "metadata": {},
     "output_type": "display_data"
    },
    {
     "name": "stdout",
     "output_type": "stream",
     "text": [
      "u = 1, ecc(1) = 3, v = 6\n",
      "ecc(6) = 4, z = 7\n",
      "ecc(7) = 4, z = 6\n",
      "6\n",
      "--------------\n",
      "u = 8, ecc(8) = 3, v = 1\n",
      "ecc(1) = 3, z = 6\n",
      "8\n"
     ]
    }
   ],
   "source": [
    "Ex = nx.Graph()\n",
    "Ex.add_nodes_from(range(1,9))\n",
    "Ex.add_edges_from([(6, 4), (4, 2), (4, 8), (2, 1), (1, 3), (3, 5), (5, 7), (5, 8)])\n",
    "draw_graph(Ex)\n",
    "print(pseudo_peripheral(Ex))\n",
    "print(\"--------------\")\n",
    "print(pseudo_peripheral(Ex, 8))"
   ]
  },
  {
   "cell_type": "markdown",
   "metadata": {},
   "source": []
  }
 ],
 "metadata": {
  "kernelspec": {
   "display_name": "Python 3",
   "language": "python",
   "name": "python3"
  },
  "language_info": {
   "codemirror_mode": {
    "name": "ipython",
    "version": 3
   },
   "file_extension": ".py",
   "mimetype": "text/x-python",
   "name": "python",
   "nbconvert_exporter": "python",
   "pygments_lexer": "ipython3",
   "version": "3.8.2"
  }
 },
 "nbformat": 4,
 "nbformat_minor": 4
}
